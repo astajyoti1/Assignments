{
 "cells": [
  {
   "cell_type": "markdown",
   "metadata": {},
   "source": [
    "## TOPIC: Python Basics Variable"
   ]
  },
  {
   "cell_type": "code",
   "execution_count": 1,
   "metadata": {},
   "outputs": [
    {
     "name": "stdout",
     "output_type": "stream",
     "text": [
      "9\n",
      "4\n"
     ]
    }
   ],
   "source": [
    "'''\n",
    "1. Declare two variables, `x` and `y`, and assign them integer values.\n",
    "Swap the values of these variables without using any temporary\n",
    "variable.\n",
    "'''\n",
    "\n",
    "x = 4\n",
    "y = 9\n",
    "\n",
    "x, y = y, x\n",
    "\n",
    "print(x)\n",
    "print(y)"
   ]
  },
  {
   "cell_type": "code",
   "execution_count": 2,
   "metadata": {},
   "outputs": [
    {
     "name": "stdout",
     "output_type": "stream",
     "text": [
      "The area of the rectangle is: 15.0\n"
     ]
    }
   ],
   "source": [
    "'''\n",
    "2. Create a program that calculates the area of a rectangle. Take the\n",
    "length and width as inputs from the user and store them in variables.\n",
    "Calculate and display the area.\n",
    "'''\n",
    "\n",
    "# Taking inputs from the user\n",
    "length = float(input(\"Enter the length of the rectangle: \"))\n",
    "width = float(input(\"Enter the width of the rectangle: \"))\n",
    "\n",
    "# Calculating the area\n",
    "area = length * width\n",
    "\n",
    "# Displaying the area\n",
    "print(\"The area of the rectangle is:\", area)\n"
   ]
  },
  {
   "cell_type": "code",
   "execution_count": 3,
   "metadata": {},
   "outputs": [
    {
     "name": "stdout",
     "output_type": "stream",
     "text": [
      "Temperature in Fahrenheit: 105.8\n"
     ]
    }
   ],
   "source": [
    "'''\n",
    "3. Write a Python program that converts temperature from Celsius to\n",
    "Fahrenheit. Take the temperature in Celsius as input, store it in a\n",
    "variable, convert it to Fahrenheit, and display the result.\n",
    "'''\n",
    "\n",
    "# Taking input from the user\n",
    "celsius = float(input(\"Enter temperature in Celsius: \"))\n",
    "\n",
    "# Converting Celsius to Fahrenheit\n",
    "fahrenheit = (celsius * 9/5) + 32\n",
    "\n",
    "# Displaying the result\n",
    "print(\"Temperature in Fahrenheit:\", fahrenheit)\n"
   ]
  },
  {
   "cell_type": "markdown",
   "metadata": {},
   "source": [
    "## TOPIC: String Based Questions"
   ]
  },
  {
   "cell_type": "code",
   "execution_count": 4,
   "metadata": {},
   "outputs": [
    {
     "name": "stdout",
     "output_type": "stream",
     "text": [
      "The length of the string is: 7\n"
     ]
    }
   ],
   "source": [
    "'''\n",
    "1. Write a Python program that takes a string as input and prints the\n",
    "length of the string.\n",
    "'''\n",
    "\n",
    "# Taking input from the user\n",
    "input_string = input(\"Enter a string: \")\n",
    "\n",
    "# Calculating the length of the string\n",
    "string_length = len(input_string)\n",
    "\n",
    "# Displaying the length of the string\n",
    "print(\"The length of the string is:\", string_length)\n"
   ]
  },
  {
   "cell_type": "code",
   "execution_count": 5,
   "metadata": {},
   "outputs": [
    {
     "name": "stdout",
     "output_type": "stream",
     "text": [
      "Number of vowels in the sentence: 4\n"
     ]
    }
   ],
   "source": [
    "'''\n",
    "2. Create a program that takes a sentence from the user and counts the\n",
    "number of vowels (a, e, i, o, u) in the string.\n",
    "'''\n",
    "\n",
    "# Taking input from the user\n",
    "sentence = input(\"Enter a sentence: \")\n",
    "\n",
    "# Converting the sentence to lowercase \n",
    "sentence = sentence.lower()\n",
    "\n",
    "# Counting the vowels\n",
    "vowel_count = 0\n",
    "for char in sentence:\n",
    "    if char in \"aeiou\":\n",
    "        vowel_count = vowel_count + 1\n",
    "\n",
    "# Displaying the result\n",
    "print(\"Number of vowels in the sentence:\", vowel_count)\n"
   ]
  },
  {
   "cell_type": "code",
   "execution_count": 6,
   "metadata": {},
   "outputs": [
    {
     "name": "stdout",
     "output_type": "stream",
     "text": [
      "Reversed string: eye\n"
     ]
    }
   ],
   "source": [
    "'''\n",
    "3. Given a string, reverse the order of characters using string slicing and\n",
    "print the reversed string.\n",
    "'''\n",
    "\n",
    "# Taking input from the user\n",
    "input_string = input(\"Enter a string: \")\n",
    "\n",
    "# Reversing the string using string slicing\n",
    "reversed_string = input_string[::-1]\n",
    "\n",
    "# Displaying the reversed string\n",
    "print(\"Reversed string:\", reversed_string)\n"
   ]
  },
  {
   "cell_type": "code",
   "execution_count": 7,
   "metadata": {},
   "outputs": [
    {
     "name": "stdout",
     "output_type": "stream",
     "text": [
      "The input is not a palindrome.\n"
     ]
    }
   ],
   "source": [
    "'''\n",
    "4. Write a program that takes a string as input and checks if it is a\n",
    "palindrome (reads the same forwards and backwards).\n",
    "'''\n",
    "\n",
    "# Taking input from the user\n",
    "input_string = input(\"Enter a string: \")\n",
    "\n",
    "# Removing spaces and converting to lowercase\n",
    "cleaned_string = input_string.replace(\" \", \"\").lower()\n",
    "\n",
    "# Reversing the cleaned string\n",
    "reversed_string = cleaned_string[::-1]\n",
    "\n",
    "# Checking if the reversed string is equal to the cleaned string\n",
    "if cleaned_string == reversed_string:\n",
    "    print(\"The input is a palindrome.\")\n",
    "else:\n",
    "    print(\"The input is not a palindrome.\")\n",
    "\n",
    "\n"
   ]
  },
  {
   "cell_type": "code",
   "execution_count": 8,
   "metadata": {},
   "outputs": [
    {
     "name": "stdout",
     "output_type": "stream",
     "text": [
      "Modified string: HelloWorld\n"
     ]
    }
   ],
   "source": [
    "'''\n",
    "5. Create a program that takes a string as input and removes all the\n",
    "spaces from it. Print the modified string without spaces.\n",
    "'''\n",
    "\n",
    "# Taking input from the user\n",
    "input_string = input(\"Enter a string: \")\n",
    "\n",
    "# Removing spaces from the string\n",
    "modified_string = input_string.replace(\" \", \"\")\n",
    "\n",
    "# Displaying the modified string\n",
    "print(\"Modified string:\", modified_string)\n"
   ]
  }
 ],
 "metadata": {
  "kernelspec": {
   "display_name": "Python 3",
   "language": "python",
   "name": "python3"
  },
  "language_info": {
   "codemirror_mode": {
    "name": "ipython",
    "version": 3
   },
   "file_extension": ".py",
   "mimetype": "text/x-python",
   "name": "python",
   "nbconvert_exporter": "python",
   "pygments_lexer": "ipython3",
   "version": "3.11.4"
  },
  "orig_nbformat": 4
 },
 "nbformat": 4,
 "nbformat_minor": 2
}
