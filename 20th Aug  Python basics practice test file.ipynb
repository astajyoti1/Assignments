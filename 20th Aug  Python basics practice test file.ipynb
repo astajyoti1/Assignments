{
 "cells": [
  {
   "cell_type": "markdown",
   "metadata": {},
   "source": [
    "## TOPIC: String Based Assignment Problem"
   ]
  },
  {
   "cell_type": "code",
   "execution_count": 1,
   "metadata": {},
   "outputs": [
    {
     "name": "stdout",
     "output_type": "stream",
     "text": [
      "norueni\n"
     ]
    }
   ],
   "source": [
    "# 1. Write a program to reverse a string.\n",
    "\n",
    "# Get input from the user\n",
    "input_string = input(\"Enter a string: \")\n",
    "reversed_string = input_string[::-1]\n",
    "print(reversed_string)\n"
   ]
  },
  {
   "cell_type": "code",
   "execution_count": 4,
   "metadata": {},
   "outputs": [
    {
     "name": "stdout",
     "output_type": "stream",
     "text": [
      "eye  is a palindrome.\n"
     ]
    }
   ],
   "source": [
    "# 2. Check if a string is a palindrome.\n",
    "\n",
    "input_string = input(\"Enter a string: \")\n",
    "cleaned_string = input_string.replace(\" \", \"\").lower()\n",
    "\n",
    "if cleaned_string == cleaned_string[::-1]:\n",
    "    print(cleaned_string, \" is a palindrome.\")\n",
    "else:\n",
    "    print(cleaned_string, \" is not a palindrome.\")\n"
   ]
  },
  {
   "cell_type": "code",
   "execution_count": 3,
   "metadata": {},
   "outputs": [
    {
     "name": "stdout",
     "output_type": "stream",
     "text": [
      "Uppercase string: INEURON\n"
     ]
    }
   ],
   "source": [
    "# 3. Convert a string to uppercase\n",
    "\n",
    "input_string = input(\"Enter a string: \")\n",
    "uppercase_string = input_string.upper()\n",
    "\n",
    "print(\"Uppercase string:\", uppercase_string)\n"
   ]
  },
  {
   "cell_type": "code",
   "execution_count": 5,
   "metadata": {},
   "outputs": [
    {
     "name": "stdout",
     "output_type": "stream",
     "text": [
      "Lowercase string: ineuron\n"
     ]
    }
   ],
   "source": [
    "# 4. Convert a string to lowercase\n",
    "\n",
    "input_string = input(\"Enter a string: \")\n",
    "lowercase_string = input_string.lower()\n",
    "\n",
    "print(\"Lowercase string:\", lowercase_string)\n"
   ]
  },
  {
   "cell_type": "code",
   "execution_count": 6,
   "metadata": {},
   "outputs": [
    {
     "name": "stdout",
     "output_type": "stream",
     "text": [
      "Number of vowels: 4\n"
     ]
    }
   ],
   "source": [
    "# 5. Count the number of vowels in a string\n",
    "\n",
    "input_string = input(\"Enter a string: \")\n",
    "vowels = \"aeiouAEIOU\"  \n",
    "\n",
    "vowel_count = 0\n",
    "\n",
    "for i in input_string:\n",
    "    if i in vowels:\n",
    "        vowel_count += 1\n",
    "\n",
    "print(\"Number of vowels:\", vowel_count)\n"
   ]
  },
  {
   "cell_type": "code",
   "execution_count": 7,
   "metadata": {},
   "outputs": [
    {
     "name": "stdout",
     "output_type": "stream",
     "text": [
      "Number of consonants count: 3\n"
     ]
    }
   ],
   "source": [
    "# 6. Count the number of consonants in a string\n",
    "\n",
    "input_string = input(\"Enter a string: \")\n",
    "vowels = \"aeiouAEIOU\"  \n",
    "\n",
    "vowel_count = 0\n",
    "\n",
    "for i in input_string:\n",
    "    if i in vowels:\n",
    "        vowel_count = vowel_count + 1\n",
    "\n",
    "consonants_count = len(input_string) - vowel_count\n",
    "\n",
    "print(\"Number of consonants count:\", consonants_count)"
   ]
  },
  {
   "cell_type": "code",
   "execution_count": 8,
   "metadata": {},
   "outputs": [
    {
     "name": "stdout",
     "output_type": "stream",
     "text": [
      "String with whitespaces removed: HelloWorld\n"
     ]
    }
   ],
   "source": [
    "# 7. Remove all whitespaces from a string\n",
    "\n",
    "input_string = input(\"Enter a string: \")\n",
    "no_whitespace_string = input_string.replace(\" \", \"\")\n",
    "\n",
    "print(\"String with whitespaces removed:\", no_whitespace_string)\n"
   ]
  },
  {
   "cell_type": "code",
   "execution_count": 9,
   "metadata": {},
   "outputs": [
    {
     "name": "stdout",
     "output_type": "stream",
     "text": [
      "Length of the string: 7\n"
     ]
    }
   ],
   "source": [
    "# 8. Find the length of a string without using the `len()` function\n",
    "\n",
    "input_string = input(\"Enter a string: \")\n",
    "string_length = 0\n",
    "\n",
    "for _ in input_string:\n",
    "    string_length += 1\n",
    "\n",
    "print(\"Length of the string:\", string_length)\n"
   ]
  },
  {
   "cell_type": "code",
   "execution_count": 10,
   "metadata": {},
   "outputs": [
    {
     "name": "stdout",
     "output_type": "stream",
     "text": [
      "The string contains the word.\n"
     ]
    }
   ],
   "source": [
    "# 9. Check if a string contains a specific word.\n",
    "\n",
    "input_string = input(\"Enter a string: \")\n",
    "target_word = input(\"Enter the word to search for: \")\n",
    "\n",
    "if target_word in input_string:\n",
    "    print(\"The string contains the word.\")\n",
    "else:\n",
    "    print(\"The string does not contain the word.\")\n"
   ]
  },
  {
   "cell_type": "code",
   "execution_count": 11,
   "metadata": {},
   "outputs": [
    {
     "name": "stdout",
     "output_type": "stream",
     "text": [
      "Modified string: Hello India\n"
     ]
    }
   ],
   "source": [
    "# 10. Replace a word in a string with another word.\n",
    "\n",
    "input_string = input(\"Enter a string: \")\n",
    "word_to_replace = input(\"Enter the word to replace: \")\n",
    "replacement_word = input(\"Enter the replacement word: \")\n",
    "\n",
    "modified_string = input_string.replace(word_to_replace, replacement_word)\n",
    "\n",
    "print(\"Modified string:\", modified_string)\n"
   ]
  },
  {
   "cell_type": "code",
   "execution_count": 12,
   "metadata": {},
   "outputs": [
    {
     "name": "stdout",
     "output_type": "stream",
     "text": [
      "Number of occurrences: 2\n"
     ]
    }
   ],
   "source": [
    "# 11. Count the occurrences of a word in a string\n",
    "\n",
    "input_string = input(\"Enter a string: \")\n",
    "word_to_count = input(\"Enter the word to count: \")\n",
    "\n",
    "word_count = input_string.lower().count(word_to_count.lower())\n",
    "\n",
    "print(\"Number of occurrences:\", word_count)\n"
   ]
  },
  {
   "cell_type": "code",
   "execution_count": 13,
   "metadata": {},
   "outputs": [
    {
     "name": "stdout",
     "output_type": "stream",
     "text": [
      "First occurrence found at index: 0\n"
     ]
    }
   ],
   "source": [
    "# 12. Find the first occurrence of a word in a string\n",
    "\n",
    "input_string = input(\"Enter a string: \")\n",
    "word_to_find = input(\"Enter the word to find: \")\n",
    "\n",
    "index = input_string.lower().find(word_to_find.lower())\n",
    "\n",
    "if index != -1:\n",
    "    print(\"First occurrence found at index:\", index)\n",
    "else:\n",
    "    print(\"Word not found in the string.\")\n"
   ]
  },
  {
   "cell_type": "code",
   "execution_count": 14,
   "metadata": {},
   "outputs": [
    {
     "name": "stdout",
     "output_type": "stream",
     "text": [
      "Last occurrence found at index: 18\n"
     ]
    }
   ],
   "source": [
    "# 13. Find the last occurrence of a word in a string\n",
    "\n",
    "input_string = input(\"Enter a string: \")\n",
    "word_to_find = input(\"Enter the word to find: \")\n",
    "\n",
    "index = input_string.lower().rfind(word_to_find.lower())\n",
    "\n",
    "if index != -1:\n",
    "    print(\"Last occurrence found at index:\", index)\n",
    "else:\n",
    "    print(\"Word not found in the string.\")\n"
   ]
  },
  {
   "cell_type": "code",
   "execution_count": 15,
   "metadata": {},
   "outputs": [
    {
     "name": "stdout",
     "output_type": "stream",
     "text": [
      "List of words: ['Hello', 'World']\n"
     ]
    }
   ],
   "source": [
    "# 14. Split a string into a list of words\n",
    "\n",
    "input_string = input(\"Enter a string: \")\n",
    "word_list = input_string.split()\n",
    "\n",
    "print(\"List of words:\", word_list)\n"
   ]
  },
  {
   "cell_type": "code",
   "execution_count": 16,
   "metadata": {},
   "outputs": [
    {
     "name": "stdout",
     "output_type": "stream",
     "text": [
      "Joined string: Hello world this is a test\n"
     ]
    }
   ],
   "source": [
    "# 15. Join a list of words into a string\n",
    "\n",
    "word_list = [\"Hello\", \"world\", \"this\", \"is\", \"a\", \"test\"]\n",
    "separator = \" \" \n",
    "\n",
    "joined_string = separator.join(word_list)\n",
    "\n",
    "print(\"Joined string:\", joined_string)\n"
   ]
  },
  {
   "cell_type": "code",
   "execution_count": 17,
   "metadata": {},
   "outputs": [
    {
     "name": "stdout",
     "output_type": "stream",
     "text": [
      "String with underscores: hello_world\n"
     ]
    }
   ],
   "source": [
    "# 16. Convert a string where words are separated by spaces to one where words are separated by underscores\n",
    "\n",
    "input_string = input(\"Enter a string with spaces: \")\n",
    "underscore_string = input_string.replace(\" \", \"_\")\n",
    "\n",
    "print(\"String with underscores:\", underscore_string)\n"
   ]
  },
  {
   "cell_type": "code",
   "execution_count": 18,
   "metadata": {},
   "outputs": [
    {
     "name": "stdout",
     "output_type": "stream",
     "text": [
      "The string starts with the specific word or phrase.\n"
     ]
    }
   ],
   "source": [
    "# 17. Check if a string starts with a specific word or phrase\n",
    "\n",
    "input_string = input(\"Enter a string: \")\n",
    "specific_word = input(\"Enter the specific word or phrase: \")\n",
    "\n",
    "if input_string.startswith(specific_word):\n",
    "    print(\"The string starts with the specific word or phrase.\")\n",
    "else:\n",
    "    print(\"The string does not start with the specific word or phrase.\")\n"
   ]
  },
  {
   "cell_type": "code",
   "execution_count": 19,
   "metadata": {},
   "outputs": [
    {
     "name": "stdout",
     "output_type": "stream",
     "text": [
      "The string ends with the specific word or phrase.\n"
     ]
    }
   ],
   "source": [
    "# 18. Check if a string ends with a specific word or phrase\n",
    "\n",
    "input_string = input(\"Enter a string: \")\n",
    "specific_word = input(\"Enter the specific word or phrase: \")\n",
    "\n",
    "if input_string.endswith(specific_word):\n",
    "    print(\"The string ends with the specific word or phrase.\")\n",
    "else:\n",
    "    print(\"The string does not end with the specific word or phrase.\")\n"
   ]
  },
  {
   "cell_type": "code",
   "execution_count": 20,
   "metadata": {},
   "outputs": [
    {
     "name": "stdout",
     "output_type": "stream",
     "text": [
      "Title case string: Hello World\n"
     ]
    }
   ],
   "source": [
    "# 19. Convert a string to title case (e.g., \"hello world\" to \"Hello World\").\n",
    "\n",
    "input_string = input(\"Enter a string: \")\n",
    "title_case_string = input_string.title()\n",
    "\n",
    "print(\"Title case string:\", title_case_string)"
   ]
  },
  {
   "cell_type": "code",
   "execution_count": 22,
   "metadata": {},
   "outputs": [
    {
     "name": "stdout",
     "output_type": "stream",
     "text": [
      "Longest word: skills\n"
     ]
    }
   ],
   "source": [
    "# 20. Find the longest word in a string\n",
    "\n",
    "input_string = input(\"Enter a string: \")\n",
    "word_list = input_string.split()\n",
    "\n",
    "longest_word = max(word_list, key=len)\n",
    "\n",
    "print(\"Longest word:\", longest_word)\n"
   ]
  },
  {
   "cell_type": "code",
   "execution_count": 23,
   "metadata": {},
   "outputs": [
    {
     "name": "stdout",
     "output_type": "stream",
     "text": [
      "Shortest word: pw\n"
     ]
    }
   ],
   "source": [
    "# 21. Find the shortest word in a string\n",
    "\n",
    "input_string = input(\"Enter a string: \")\n",
    "word_list = input_string.split()\n",
    "\n",
    "shortest_word = min(word_list, key=len)\n",
    "\n",
    "print(\"Shortest word:\", shortest_word)\n"
   ]
  },
  {
   "cell_type": "code",
   "execution_count": 24,
   "metadata": {},
   "outputs": [
    {
     "name": "stdout",
     "output_type": "stream",
     "text": [
      "String with reversed order of words: skills pw\n"
     ]
    }
   ],
   "source": [
    "# 22. Reverse the order of words in a string\n",
    "\n",
    "input_string = input(\"Enter a string: \")\n",
    "word_list = input_string.split()\n",
    "\n",
    "reversed_string = \" \".join(word_list[::-1])\n",
    "\n",
    "print(\"String with reversed order of words:\", reversed_string)\n"
   ]
  },
  {
   "cell_type": "code",
   "execution_count": 25,
   "metadata": {},
   "outputs": [
    {
     "name": "stdout",
     "output_type": "stream",
     "text": [
      "The string is not alphanumeric.\n"
     ]
    }
   ],
   "source": [
    "# 23. Check if a string is alphanumeric\n",
    "\n",
    "input_string = input(\"Enter a string: \")\n",
    "\n",
    "if input_string.isalnum():\n",
    "    print(\"The string is alphanumeric.\")\n",
    "else:\n",
    "    print(\"The string is not alphanumeric.\")\n"
   ]
  },
  {
   "cell_type": "code",
   "execution_count": 26,
   "metadata": {},
   "outputs": [
    {
     "name": "stdout",
     "output_type": "stream",
     "text": [
      "Extracted digits: 13452\n"
     ]
    }
   ],
   "source": [
    "# 24. Extract all digits from a string\n",
    "\n",
    "input_string = input(\"Enter a string: \")\n",
    "\n",
    "digits = []\n",
    "\n",
    "for char in input_string:\n",
    "    if char.isdigit():\n",
    "        digits.append(char)\n",
    "\n",
    "if digits:\n",
    "    extracted_digits = \"\".join(digits)\n",
    "    print(\"Extracted digits:\", extracted_digits)\n",
    "else:\n",
    "    print(\"No digits found in the string.\")\n"
   ]
  },
  {
   "cell_type": "code",
   "execution_count": 27,
   "metadata": {},
   "outputs": [
    {
     "name": "stdout",
     "output_type": "stream",
     "text": [
      "Extracted alphabets: sdhssdh\n"
     ]
    }
   ],
   "source": [
    "# 25. Extract all alphabets from a string.\n",
    "\n",
    "input_string = input(\"Enter a string: \")\n",
    "\n",
    "alphabets = []\n",
    "\n",
    "for char in input_string:\n",
    "    if char.isalpha():\n",
    "        alphabets.append(char)\n",
    "\n",
    "if alphabets:\n",
    "    extracted_alphabets = \"\".join(alphabets)\n",
    "    print(\"Extracted alphabets:\", extracted_alphabets)\n",
    "else:\n",
    "    print(\"No alphabets found in the string.\")\n"
   ]
  },
  {
   "cell_type": "code",
   "execution_count": 28,
   "metadata": {},
   "outputs": [
    {
     "name": "stdout",
     "output_type": "stream",
     "text": [
      "Number of uppercase letters: 2\n"
     ]
    }
   ],
   "source": [
    "# 26. Count the number of uppercase letters in a string\n",
    "\n",
    "input_string = input(\"Enter a string: \")\n",
    "\n",
    "uppercase_count = 0\n",
    "\n",
    "for char in input_string:\n",
    "    if char.isupper():\n",
    "        uppercase_count += 1\n",
    "\n",
    "print(\"Number of uppercase letters:\", uppercase_count)\n"
   ]
  },
  {
   "cell_type": "code",
   "execution_count": 29,
   "metadata": {},
   "outputs": [
    {
     "name": "stdout",
     "output_type": "stream",
     "text": [
      "Number of lowercase letters: 4\n"
     ]
    }
   ],
   "source": [
    "# 27. Count the number of lowercase letters in a string.\n",
    "\n",
    "input_string = input(\"Enter a string: \")\n",
    "\n",
    "lowercase_count = 0\n",
    "\n",
    "for char in input_string:\n",
    "    if char.islower():\n",
    "        lowercase_count += 1\n",
    "\n",
    "print(\"Number of lowercase letters:\", lowercase_count)\n"
   ]
  },
  {
   "cell_type": "code",
   "execution_count": 30,
   "metadata": {},
   "outputs": [
    {
     "name": "stdout",
     "output_type": "stream",
     "text": [
      "String with swapped case: pWsKILLS\n"
     ]
    }
   ],
   "source": [
    "# 28. Swap the case of each character in a string.\n",
    "\n",
    "input_string = input(\"Enter a string: \")\n",
    "\n",
    "swapped_string = input_string.swapcase()\n",
    "\n",
    "print(\"String with swapped case:\", swapped_string)\n"
   ]
  },
  {
   "cell_type": "code",
   "execution_count": 31,
   "metadata": {},
   "outputs": [
    {
     "name": "stdout",
     "output_type": "stream",
     "text": [
      "String with the word removed: pwills\n"
     ]
    }
   ],
   "source": [
    "# 29. Remove a specific word from a string.\n",
    "\n",
    "input_string = input(\"Enter a string: \")\n",
    "word_to_remove = input(\"Enter the word to remove: \")\n",
    "\n",
    "modified_string = input_string.replace(word_to_remove, \"\")\n",
    "\n",
    "print(\"String with the word removed:\", modified_string)\n"
   ]
  },
  {
   "cell_type": "code",
   "execution_count": 32,
   "metadata": {},
   "outputs": [
    {
     "name": "stdout",
     "output_type": "stream",
     "text": [
      "Valid email address.\n"
     ]
    }
   ],
   "source": [
    "# 30. Check if a string is a valid email address.\n",
    "\n",
    "input_email = input(\"Enter an email address: \")\n",
    "\n",
    "if \"@\" in input_email and \".com\" in input_email:\n",
    "    print(\"Valid email address.\")\n",
    "else:\n",
    "    print(\"Not a valid email address.\")\n"
   ]
  },
  {
   "cell_type": "code",
   "execution_count": 3,
   "metadata": {},
   "outputs": [
    {
     "name": "stdout",
     "output_type": "stream",
     "text": [
      "Username: user\n"
     ]
    }
   ],
   "source": [
    "# 31. Extract the username from an email address string.\n",
    "\n",
    "input_email = \"user@example.com\"\n",
    "\n",
    "if \"@\" in input_email:\n",
    "    username, domain = input_email.split(\"@\")\n",
    "    print(\"Username:\", username)\n",
    "else:\n",
    "    print(\"Not a valid email address.\")\n",
    "\n"
   ]
  },
  {
   "cell_type": "code",
   "execution_count": 2,
   "metadata": {},
   "outputs": [
    {
     "name": "stdout",
     "output_type": "stream",
     "text": [
      "Domain: example.com\n"
     ]
    }
   ],
   "source": [
    "# 32. Extract the domain name from an email address string.\n",
    "\n",
    "input_email = \"user@example.com\"\n",
    "\n",
    "if \"@\" in input_email:\n",
    "    username, domain = input_email.split(\"@\")\n",
    "    print(\"Domain:\", domain)\n",
    "else:\n",
    "    print(\"Not a valid email address.\")\n"
   ]
  },
  {
   "cell_type": "code",
   "execution_count": 4,
   "metadata": {},
   "outputs": [
    {
     "name": "stdout",
     "output_type": "stream",
     "text": [
      "Hello there how are you?\n"
     ]
    }
   ],
   "source": [
    "# 33. Replace multiple spaces in a string with a single space.\n",
    "\n",
    "# Input string with multiple spaces\n",
    "input_string = \"Hello    there   how   are you?\"\n",
    "\n",
    "# Split the string by spaces and filter out empty strings\n",
    "words = input_string.split()\n",
    "\n",
    "# Join the filtered words with a single space\n",
    "output_string = ' '.join(words)\n",
    "\n",
    "# Print the result\n",
    "print(output_string)\n"
   ]
  },
  {
   "cell_type": "code",
   "execution_count": 6,
   "metadata": {},
   "outputs": [
    {
     "name": "stdout",
     "output_type": "stream",
     "text": [
      "'https://www.example.com' is a valid URL.\n"
     ]
    }
   ],
   "source": [
    "# 34. Check if a string is a valid URL.\n",
    "\n",
    "# Example URL\n",
    "url = \"https://www.example.com\"\n",
    "\n",
    "# Check if the URL starts with a valid scheme (http, https, ftp, or www)\n",
    "valid_schemes = [\"http://\", \"https://\", \"ftp://\", \"www.\"]\n",
    "is_valid = any(url.startswith(scheme) for scheme in valid_schemes)\n",
    "\n",
    "if is_valid:\n",
    "    print(f\"'{url}' is a valid URL.\")\n",
    "else:\n",
    "    print(f\"'{url}' is not a valid URL.\")\n"
   ]
  },
  {
   "cell_type": "code",
   "execution_count": 7,
   "metadata": {},
   "outputs": [
    {
     "name": "stdout",
     "output_type": "stream",
     "text": [
      "Protocol: https\n"
     ]
    }
   ],
   "source": [
    "# 35. Extract the protocol (http or https) from a URL string.\n",
    "\n",
    "# Example URL\n",
    "url = \"https://www.example.com\"\n",
    "\n",
    "# Find the position of the colon (:) after the protocol\n",
    "colon_index = url.find(\":\")\n",
    "\n",
    "# Extract the protocol by slicing the string\n",
    "if colon_index != -1:\n",
    "    protocol = url[:colon_index]\n",
    "    print(\"Protocol:\", protocol)\n",
    "else:\n",
    "    print(\"No protocol found in the URL.\")\n"
   ]
  },
  {
   "cell_type": "code",
   "execution_count": 8,
   "metadata": {},
   "outputs": [
    {
     "name": "stdout",
     "output_type": "stream",
     "text": [
      "'h' occurs 1 times.\n",
      "'e' occurs 1 times.\n",
      "'l' occurs 3 times.\n",
      "'o' occurs 2 times.\n",
      "'w' occurs 1 times.\n",
      "'r' occurs 1 times.\n",
      "'d' occurs 1 times.\n"
     ]
    }
   ],
   "source": [
    "# 36. Find the frequency of each character in a string.\n",
    "\n",
    "# Example string\n",
    "input_string = \"hello, world!\"\n",
    "\n",
    "# Create an empty dictionary to store character frequencies\n",
    "char_frequency = {}\n",
    "\n",
    "# Iterate through the string\n",
    "for char in input_string:\n",
    "    # Check if the character is a letter or digit\n",
    "    if char.isalnum():\n",
    "        # Convert the character to lowercase to make it case-insensitive\n",
    "        char = char.lower()\n",
    "        # Update the character count in the dictionary\n",
    "        char_frequency[char] = char_frequency.get(char, 0) + 1\n",
    "\n",
    "# Print the character frequencies\n",
    "for char, frequency in char_frequency.items():\n",
    "    print(f\"'{char}' occurs {frequency} times.\")\n"
   ]
  },
  {
   "cell_type": "code",
   "execution_count": 9,
   "metadata": {},
   "outputs": [
    {
     "name": "stdout",
     "output_type": "stream",
     "text": [
      "Original String: Hello, world! This is a sample string with punctuation.\n",
      "Cleaned String: Hello world This is a sample string with punctuation\n"
     ]
    }
   ],
   "source": [
    "# 37. Remove all punctuation from a string.\n",
    "\n",
    "# Example string\n",
    "input_string = \"Hello, world! This is a sample string with punctuation.\"\n",
    "\n",
    "# List of punctuation characters\n",
    "punctuation = [',', '.', '!', '?', ';', ':', '(', ')', '[', ']', '{', '}', \"'\", '\"']\n",
    "\n",
    "# Remove punctuation using a list comprehension\n",
    "cleaned_string = ''.join(char for char in input_string if char not in punctuation)\n",
    "\n",
    "# Print the cleaned string\n",
    "print(\"Original String:\", input_string)\n",
    "print(\"Cleaned String:\", cleaned_string)\n",
    "\n"
   ]
  },
  {
   "cell_type": "code",
   "execution_count": 10,
   "metadata": {},
   "outputs": [
    {
     "name": "stdout",
     "output_type": "stream",
     "text": [
      "The string contains only digits.\n"
     ]
    }
   ],
   "source": [
    "# 38. Check if a string contains only digits.\n",
    "\n",
    "# Example string\n",
    "input_string = \"12345\"\n",
    "\n",
    "# Check if the string contains only digits\n",
    "if input_string.isdigit():\n",
    "    print(\"The string contains only digits.\")\n",
    "else:\n",
    "    print(\"The string contains non-digit characters.\")\n"
   ]
  },
  {
   "cell_type": "code",
   "execution_count": 11,
   "metadata": {},
   "outputs": [
    {
     "name": "stdout",
     "output_type": "stream",
     "text": [
      "The string contains only alphabetic characters.\n"
     ]
    }
   ],
   "source": [
    "# 39. Check if a string contains only alphabets.\n",
    "\n",
    "# Example string\n",
    "input_string = \"Hello\"\n",
    "\n",
    "# Check if the string contains only alphabetic characters\n",
    "if input_string.isalpha():\n",
    "    print(\"The string contains only alphabetic characters.\")\n",
    "else:\n",
    "    print(\"The string contains non-alphabetic characters.\")\n"
   ]
  },
  {
   "cell_type": "code",
   "execution_count": 12,
   "metadata": {},
   "outputs": [
    {
     "name": "stdout",
     "output_type": "stream",
     "text": [
      "['H', 'e', 'l', 'l', 'o', ',', ' ', 'w', 'o', 'r', 'l', 'd', '!']\n"
     ]
    }
   ],
   "source": [
    "# 40. Convert a string to a list of characters.\n",
    "\n",
    "# Example string\n",
    "input_string = \"Hello, world!\"\n",
    "\n",
    "# Convert the string to a list of characters using a list comprehension\n",
    "char_list = [char for char in input_string]\n",
    "\n",
    "# Print the list of characters\n",
    "print(char_list)\n"
   ]
  },
  {
   "cell_type": "code",
   "execution_count": 13,
   "metadata": {},
   "outputs": [
    {
     "name": "stdout",
     "output_type": "stream",
     "text": [
      "'listen' and 'silent' are anagrams.\n"
     ]
    }
   ],
   "source": [
    "# 41. Check if two strings are anagrams.\n",
    "\n",
    "def are_anagrams(str1, str2):\n",
    "    # Remove spaces and convert to lowercase for case-insensitivity\n",
    "    str1 = str1.replace(\" \", \"\").lower()\n",
    "    str2 = str2.replace(\" \", \"\").lower()\n",
    "    \n",
    "    # Check if the sorted versions of the strings are equal\n",
    "    return sorted(str1) == sorted(str2)\n",
    "\n",
    "# Example usage:\n",
    "string1 = \"listen\"\n",
    "string2 = \"silent\"\n",
    "\n",
    "if are_anagrams(string1, string2):\n",
    "    print(f\"'{string1}' and '{string2}' are anagrams.\")\n",
    "else:\n",
    "    print(f\"'{string1}' and '{string2}' are not anagrams.\")\n"
   ]
  },
  {
   "cell_type": "code",
   "execution_count": 14,
   "metadata": {},
   "outputs": [
    {
     "name": "stdout",
     "output_type": "stream",
     "text": [
      "Encoded: Khoor, Zruog!\n"
     ]
    }
   ],
   "source": [
    "# 42. Encode a string using a Caesar cipher.\n",
    "\n",
    "def caesar_cipher_encode(text, shift):\n",
    "    encoded_text = \"\"\n",
    "    \n",
    "    for char in text:\n",
    "        if char.isalpha():\n",
    "            # Determine whether to shift up or down the alphabet\n",
    "            if char.islower():\n",
    "                shifted_char = chr(((ord(char) - ord('a') + shift) % 26) + ord('a'))\n",
    "            else:\n",
    "                shifted_char = chr(((ord(char) - ord('A') + shift) % 26) + ord('A'))\n",
    "        else:\n",
    "            # Keep non-alphabetic characters unchanged\n",
    "            shifted_char = char\n",
    "        \n",
    "        encoded_text += shifted_char\n",
    "    \n",
    "    return encoded_text\n",
    "\n",
    "# Example usage:\n",
    "plain_text = \"Hello, World!\"\n",
    "shift = 3\n",
    "encoded_text = caesar_cipher_encode(plain_text, shift)\n",
    "print(\"Encoded:\", encoded_text)\n"
   ]
  },
  {
   "cell_type": "code",
   "execution_count": 15,
   "metadata": {},
   "outputs": [
    {
     "name": "stdout",
     "output_type": "stream",
     "text": [
      "Decoded: Hello, World!\n"
     ]
    }
   ],
   "source": [
    "# 43. Decode a Caesar cipher encoded string.\n",
    "\n",
    "def caesar_cipher_decode(encoded_text, shift):\n",
    "    decoded_text = \"\"\n",
    "    \n",
    "    for char in encoded_text:\n",
    "        if char.isalpha():\n",
    "            # Determine whether to shift up or down the alphabet\n",
    "            if char.islower():\n",
    "                shifted_char = chr(((ord(char) - ord('a') - shift) % 26) + ord('a'))\n",
    "            else:\n",
    "                shifted_char = chr(((ord(char) - ord('A') - shift) % 26) + ord('A'))\n",
    "        else:\n",
    "            # Keep non-alphabetic characters unchanged\n",
    "            shifted_char = char\n",
    "        \n",
    "        decoded_text += shifted_char\n",
    "    \n",
    "    return decoded_text\n",
    "\n",
    "# Example usage:\n",
    "encoded_text = \"Khoor, Zruog!\"\n",
    "shift = 3\n",
    "decoded_text = caesar_cipher_decode(encoded_text, shift)\n",
    "print(\"Decoded:\", decoded_text)\n"
   ]
  },
  {
   "cell_type": "code",
   "execution_count": 16,
   "metadata": {},
   "outputs": [
    {
     "name": "stdout",
     "output_type": "stream",
     "text": [
      "Most frequent word: this\n",
      "Frequency: 2\n"
     ]
    }
   ],
   "source": [
    "# 44. Find the most frequent word in a string.\n",
    "\n",
    "# Example string\n",
    "input_string = \"This is a sample string. This string contains multiple words. Word word Word!\"\n",
    "\n",
    "# Step 1: Tokenize the string into words\n",
    "words = input_string.split()\n",
    "\n",
    "# Step 2: Create a dictionary to count word frequencies\n",
    "word_count = {}\n",
    "\n",
    "for word in words:\n",
    "    # Convert the word to lowercase to make it case-insensitive\n",
    "    word = word.lower()\n",
    "    # Update the word count in the dictionary\n",
    "    word_count[word] = word_count.get(word, 0) + 1\n",
    "\n",
    "# Step 3: Find the most frequent word\n",
    "most_frequent_word = max(word_count, key=word_count.get)\n",
    "frequency = word_count[most_frequent_word]\n",
    "\n",
    "# Step 4: Print the most frequent word and its frequency\n",
    "print(\"Most frequent word:\", most_frequent_word)\n",
    "print(\"Frequency:\", frequency)\n"
   ]
  },
  {
   "cell_type": "code",
   "execution_count": 17,
   "metadata": {},
   "outputs": [
    {
     "name": "stdout",
     "output_type": "stream",
     "text": [
      "Unique words: ['sample', 'contains', 'this', 'words.', 'word', 'a', 'word!', 'multiple', 'string', 'is', 'string.']\n"
     ]
    }
   ],
   "source": [
    "# 45. Find all unique words in a string.\n",
    "\n",
    "# Example string\n",
    "input_string = \"This is a sample string. This string contains multiple words. Word word Word!\"\n",
    "\n",
    "# Step 1: Tokenize the string into words\n",
    "words = input_string.split()\n",
    "\n",
    "# Step 2: Create a set to store unique words\n",
    "unique_words = set()\n",
    "\n",
    "for word in words:\n",
    "    # Convert the word to lowercase to make it case-insensitive\n",
    "    word = word.lower()\n",
    "    # Add the lowercase word to the set\n",
    "    unique_words.add(word)\n",
    "\n",
    "# Step 3: Convert the set back to a list if needed\n",
    "unique_words_list = list(unique_words)\n",
    "\n",
    "# Step 4: Print the unique words\n",
    "print(\"Unique words:\", unique_words_list)\n"
   ]
  },
  {
   "cell_type": "code",
   "execution_count": 18,
   "metadata": {},
   "outputs": [
    {
     "name": "stdout",
     "output_type": "stream",
     "text": [
      "The word 'syllable' has 2 syllables.\n"
     ]
    }
   ],
   "source": [
    "# 46. Count the number of syllables in a string.\n",
    "\n",
    "def count_syllables(word):\n",
    "    # Convert the word to lowercase\n",
    "    word = word.lower()\n",
    "    \n",
    "    # Define a set of vowels\n",
    "    vowels = \"aeiouy\"\n",
    "    \n",
    "    # Initialize a counter for syllables and a flag for vowel detection\n",
    "    syllable_count = 0\n",
    "    last_char_was_vowel = False\n",
    "    \n",
    "    # Iterate through each character in the word\n",
    "    for char in word:\n",
    "        if char in vowels:\n",
    "            # If the current character is a vowel and the last character was not a vowel,\n",
    "            # increment the syllable count\n",
    "            if not last_char_was_vowel:\n",
    "                syllable_count += 1\n",
    "            last_char_was_vowel = True\n",
    "        else:\n",
    "            last_char_was_vowel = False\n",
    "    \n",
    "    # Handle words ending with 'e' (silent 'e' at the end of many English words)\n",
    "    if word.endswith('e'):\n",
    "        syllable_count -= 1\n",
    "    \n",
    "    # Handle words with no vowels (e.g., 'rhythm')\n",
    "    if syllable_count == 0:\n",
    "        syllable_count = 1\n",
    "    \n",
    "    return syllable_count\n",
    "\n",
    "# Example usage:\n",
    "word = \"syllable\"\n",
    "syllable_count = count_syllables(word)\n",
    "print(f\"The word '{word}' has {syllable_count} syllables.\")\n"
   ]
  },
  {
   "cell_type": "code",
   "execution_count": 19,
   "metadata": {},
   "outputs": [
    {
     "name": "stdout",
     "output_type": "stream",
     "text": [
      "The string contains special characters.\n"
     ]
    }
   ],
   "source": [
    "# 47. Check if a string contains any special characters.\n",
    "\n",
    "import re\n",
    "\n",
    "# Example string\n",
    "input_string = \"Hello, world!\"\n",
    "\n",
    "# Define a regular expression pattern to match special characters\n",
    "pattern = r\"[!@#$%^&*()_+{}\\[\\]:;<>,.?\\\"\\\\|]\"\n",
    "\n",
    "# Use the re.search() function to check for a match\n",
    "if re.search(pattern, input_string):\n",
    "    print(\"The string contains special characters.\")\n",
    "else:\n",
    "    print(\"The string does not contain special characters.\")\n"
   ]
  },
  {
   "cell_type": "code",
   "execution_count": 20,
   "metadata": {},
   "outputs": [
    {
     "name": "stdout",
     "output_type": "stream",
     "text": [
      "Original String: This is a sample string with some words.\n",
      "String with the 4th word removed: This is a string with some words.\n"
     ]
    }
   ],
   "source": [
    "# 48. Remove the nth word from a string.\n",
    "\n",
    "# Example string\n",
    "input_string = \"This is a sample string with some words.\"\n",
    "\n",
    "# Function to remove the nth word\n",
    "def remove_nth_word(input_str, n):\n",
    "    # Split the string into words\n",
    "    words = input_str.split()\n",
    "    \n",
    "    # Check if n is a valid index\n",
    "    if 0 <= n < len(words):\n",
    "        # Remove the nth word from the list of words\n",
    "        del words[n]\n",
    "        \n",
    "        # Join the remaining words back together\n",
    "        result = ' '.join(words)\n",
    "        \n",
    "        return result\n",
    "    else:\n",
    "        # If n is out of range, return the original string\n",
    "        return input_str\n",
    "\n",
    "# Example usage:\n",
    "n = 3  # Index of the word to remove (0-based index)\n",
    "output_string = remove_nth_word(input_string, n)\n",
    "print(\"Original String:\", input_string)\n",
    "print(f\"String with the {n+1}th word removed:\", output_string)\n"
   ]
  },
  {
   "cell_type": "code",
   "execution_count": 21,
   "metadata": {},
   "outputs": [
    {
     "name": "stdout",
     "output_type": "stream",
     "text": [
      "Original String: This is a sample string with some words.\n",
      "String with 'extra' inserted at position 4: This is a extra sample string with some words.\n"
     ]
    }
   ],
   "source": [
    "# 49. Insert a word at the nth position in a string.\n",
    "\n",
    "# Example string\n",
    "input_string = \"This is a sample string with some words.\"\n",
    "\n",
    "# Function to insert a word at the nth position\n",
    "def insert_word_at_nth_position(input_str, n, new_word):\n",
    "    # Split the string into words\n",
    "    words = input_str.split()\n",
    "    \n",
    "    # Check if n is a valid index\n",
    "    if 0 <= n <= len(words):\n",
    "        # Insert the new word at the nth position\n",
    "        words.insert(n, new_word)\n",
    "        \n",
    "        # Join the words back together\n",
    "        result = ' '.join(words)\n",
    "        \n",
    "        return result\n",
    "    else:\n",
    "        # If n is out of range, return the original string\n",
    "        return input_str\n",
    "\n",
    "# Example usage:\n",
    "n = 3  # Index at which to insert the new word (0-based index)\n",
    "new_word = \"extra\"\n",
    "output_string = insert_word_at_nth_position(input_string, n, new_word)\n",
    "print(\"Original String:\", input_string)\n",
    "print(f\"String with '{new_word}' inserted at position {n+1}:\", output_string)\n"
   ]
  },
  {
   "cell_type": "code",
   "execution_count": 22,
   "metadata": {},
   "outputs": [
    {
     "name": "stdout",
     "output_type": "stream",
     "text": [
      "['Name', 'Age', 'Location']\n",
      "['Alice', '25', 'New York']\n",
      "['Bob', '30', 'Los Angeles']\n",
      "['Charlie', '22', 'Chicago']\n"
     ]
    }
   ],
   "source": [
    "# 50. Convert a CSV string to a list of lists.\n",
    "\n",
    "import csv\n",
    "from io import StringIO\n",
    "\n",
    "# Example CSV string\n",
    "csv_string = \"\"\"Name,Age,Location\n",
    "Alice,25,New York\n",
    "Bob,30,Los Angeles\n",
    "Charlie,22,Chicago\n",
    "\"\"\"\n",
    "\n",
    "# Initialize a list to store the CSV data\n",
    "csv_data = []\n",
    "\n",
    "# Create a CSV reader using StringIO to parse the string\n",
    "csv_reader = csv.reader(StringIO(csv_string))\n",
    "\n",
    "# Iterate through the CSV rows and add them to the list\n",
    "for row in csv_reader:\n",
    "    csv_data.append(row)\n",
    "\n",
    "# Print the list of lists\n",
    "for row in csv_data:\n",
    "    print(row)\n"
   ]
  },
  {
   "cell_type": "markdown",
   "metadata": {},
   "source": [
    "## List Based Practice Problem :"
   ]
  },
  {
   "cell_type": "code",
   "execution_count": 23,
   "metadata": {},
   "outputs": [
    {
     "data": {
      "text/plain": [
       "[1, 2, 3, 4, 5, 6, 7, 8, 9, 10]"
      ]
     },
     "execution_count": 23,
     "metadata": {},
     "output_type": "execute_result"
    }
   ],
   "source": [
    "# 1. Create a list with integers from 1 to 10.\n",
    "\n",
    "my_list = [i for i in range(1, 11)]\n",
    "my_list"
   ]
  },
  {
   "cell_type": "code",
   "execution_count": 24,
   "metadata": {},
   "outputs": [
    {
     "name": "stdout",
     "output_type": "stream",
     "text": [
      "Length of the list: 10\n"
     ]
    }
   ],
   "source": [
    "# 2. Find the length of a list without using the `len()` function.\n",
    "\n",
    "my_list = [1, 2, 3, 4, 5, 6, 7, 8, 9, 10]\n",
    "\n",
    "count = 0\n",
    "for _ in my_list:\n",
    "    count += 1\n",
    "\n",
    "print(\"Length of the list:\", count)\n"
   ]
  },
  {
   "cell_type": "code",
   "execution_count": 25,
   "metadata": {},
   "outputs": [
    {
     "name": "stdout",
     "output_type": "stream",
     "text": [
      "[1, 2, 3, 4, 5, 6]\n"
     ]
    }
   ],
   "source": [
    "# 3. Append an element to the end of a list.\n",
    "my_list = [1, 2, 3, 4, 5]\n",
    "\n",
    "# Append an element to the end of the list\n",
    "my_list.append(6)\n",
    "\n",
    "# Print the updated list\n",
    "print(my_list)\n"
   ]
  },
  {
   "cell_type": "code",
   "execution_count": 26,
   "metadata": {},
   "outputs": [
    {
     "name": "stdout",
     "output_type": "stream",
     "text": [
      "[1, 2, 6, 3, 4, 5]\n"
     ]
    }
   ],
   "source": [
    "# 4. Insert an element at a specific index in a list\n",
    "\n",
    "my_list = [1, 2, 3, 4, 5]\n",
    "\n",
    "# Insert the element 6 at index 2 (zero-based index)\n",
    "my_list.insert(2, 6)\n",
    "\n",
    "# Print the updated list\n",
    "print(my_list)\n"
   ]
  },
  {
   "cell_type": "code",
   "execution_count": 27,
   "metadata": {},
   "outputs": [
    {
     "name": "stdout",
     "output_type": "stream",
     "text": [
      "[1, 2, 4, 5]\n"
     ]
    }
   ],
   "source": [
    "# 5. Remove an element from a list by its value.\n",
    "\n",
    "my_list = [1, 2, 3, 4, 5]\n",
    "\n",
    "# Remove the element with the value 3\n",
    "my_list.remove(3)\n",
    "\n",
    "# Print the updated list\n",
    "print(my_list)\n"
   ]
  },
  {
   "cell_type": "code",
   "execution_count": 28,
   "metadata": {},
   "outputs": [
    {
     "name": "stdout",
     "output_type": "stream",
     "text": [
      "Updated list: [1, 2, 4, 5]\n",
      "Removed element: 3\n"
     ]
    }
   ],
   "source": [
    "# 6. Remove an element from a list by its index.\n",
    "\n",
    "my_list = [1, 2, 3, 4, 5]\n",
    "\n",
    "# Remove the element at index 2\n",
    "removed_element = my_list.pop(2)\n",
    "\n",
    "# Print the updated list and the removed element\n",
    "print(\"Updated list:\", my_list)\n",
    "print(\"Removed element:\", removed_element)\n"
   ]
  },
  {
   "cell_type": "code",
   "execution_count": 29,
   "metadata": {},
   "outputs": [
    {
     "name": "stdout",
     "output_type": "stream",
     "text": [
      "3 exists in the list.\n"
     ]
    }
   ],
   "source": [
    "# 7. Check if an element exists in a list.\n",
    "\n",
    "my_list = [1, 2, 3, 4, 5]\n",
    "\n",
    "# Check if an element exists in the list\n",
    "element_to_check = 3\n",
    "\n",
    "if element_to_check in my_list:\n",
    "    print(f\"{element_to_check} exists in the list.\")\n",
    "else:\n",
    "    print(f\"{element_to_check} does not exist in the list.\")\n"
   ]
  },
  {
   "cell_type": "code",
   "execution_count": 30,
   "metadata": {},
   "outputs": [
    {
     "name": "stdout",
     "output_type": "stream",
     "text": [
      "The first occurrence of 3 is at index 2.\n"
     ]
    }
   ],
   "source": [
    "# 8. Find the index of the first occurrence of an element in a list.\n",
    "\n",
    "my_list = [1, 2, 3, 4, 5, 3]\n",
    "\n",
    "# Find the index of the first occurrence of the element 3\n",
    "element_to_find = 3\n",
    "\n",
    "if element_to_find in my_list:\n",
    "    index = my_list.index(element_to_find)\n",
    "    print(f\"The first occurrence of {element_to_find} is at index {index}.\")\n",
    "else:\n",
    "    print(f\"{element_to_find} does not exist in the list.\")\n"
   ]
  },
  {
   "cell_type": "code",
   "execution_count": 31,
   "metadata": {},
   "outputs": [
    {
     "name": "stdout",
     "output_type": "stream",
     "text": [
      "The element 3 appears 3 times in the list.\n"
     ]
    }
   ],
   "source": [
    "# 9. Count the occurrences of an element in a list.\n",
    "\n",
    "my_list = [1, 2, 3, 4, 5, 3, 3]\n",
    "\n",
    "# Count the occurrences of the element 3\n",
    "element_to_count = 3\n",
    "count = my_list.count(element_to_count)\n",
    "\n",
    "print(f\"The element {element_to_count} appears {count} times in the list.\")\n"
   ]
  },
  {
   "cell_type": "code",
   "execution_count": 32,
   "metadata": {},
   "outputs": [
    {
     "name": "stdout",
     "output_type": "stream",
     "text": [
      "[5, 4, 3, 2, 1]\n"
     ]
    }
   ],
   "source": [
    "# 10. Reverse the order of elements in a list.\n",
    "\n",
    "my_list = [1, 2, 3, 4, 5]\n",
    "my_list.reverse()\n",
    "print(my_list)\n"
   ]
  },
  {
   "cell_type": "code",
   "execution_count": 33,
   "metadata": {},
   "outputs": [
    {
     "name": "stdout",
     "output_type": "stream",
     "text": [
      "[1, 2, 5, 5, 9]\n"
     ]
    }
   ],
   "source": [
    "# 11. Sort a list in ascending order\n",
    "\n",
    "my_list = [5, 2, 9, 1, 5]\n",
    "my_list.sort()\n",
    "print(my_list)\n"
   ]
  },
  {
   "cell_type": "code",
   "execution_count": 34,
   "metadata": {},
   "outputs": [
    {
     "name": "stdout",
     "output_type": "stream",
     "text": [
      "[9, 5, 5, 2, 1]\n"
     ]
    }
   ],
   "source": [
    "# 12. Sort a list in descending order.\n",
    "\n",
    "my_list = [5, 2, 9, 1, 5]\n",
    "my_list.sort(reverse=True)\n",
    "print(my_list)\n"
   ]
  },
  {
   "cell_type": "code",
   "execution_count": 36,
   "metadata": {},
   "outputs": [
    {
     "name": "stdout",
     "output_type": "stream",
     "text": [
      "[2, 4, 6, 8, 10, 12, 14, 16, 18, 20]\n"
     ]
    }
   ],
   "source": [
    "# 13. Create a list of even numbers from 1 to 20.\n",
    "\n",
    "even_numbers = [x for x in range(2, 21, 2)]\n",
    "print(even_numbers)\n"
   ]
  },
  {
   "cell_type": "code",
   "execution_count": 37,
   "metadata": {},
   "outputs": [
    {
     "name": "stdout",
     "output_type": "stream",
     "text": [
      "[1, 3, 5, 7, 9, 11, 13, 15, 17, 19]\n"
     ]
    }
   ],
   "source": [
    "# 14. Create a list of odd numbers from 1 to 20.\n",
    "\n",
    "odd_numbers = [x for x in range(1, 21) if x % 2 != 0]\n",
    "print(odd_numbers)"
   ]
  },
  {
   "cell_type": "code",
   "execution_count": 38,
   "metadata": {},
   "outputs": [
    {
     "name": "stdout",
     "output_type": "stream",
     "text": [
      "Sum of all elements: 15\n"
     ]
    }
   ],
   "source": [
    "# 15. Find the sum of all elements in a list.\n",
    "\n",
    "my_list = [1, 2, 3, 4, 5]\n",
    "\n",
    "# Find the sum of all elements in the list\n",
    "list_sum = sum(my_list)\n",
    "\n",
    "print(\"Sum of all elements:\", list_sum)\n"
   ]
  },
  {
   "cell_type": "code",
   "execution_count": 39,
   "metadata": {},
   "outputs": [
    {
     "name": "stdout",
     "output_type": "stream",
     "text": [
      "Maximum value: 25\n"
     ]
    }
   ],
   "source": [
    "# 16. Find the maximum value in a list.\n",
    "\n",
    "my_list = [10, 5, 25, 3, 15]\n",
    "\n",
    "# Find the maximum value in the list\n",
    "max_value = max(my_list)\n",
    "\n",
    "print(\"Maximum value:\", max_value)\n"
   ]
  },
  {
   "cell_type": "code",
   "execution_count": 40,
   "metadata": {},
   "outputs": [
    {
     "name": "stdout",
     "output_type": "stream",
     "text": [
      "Minimum value: 3\n"
     ]
    }
   ],
   "source": [
    "# 17. Find the minimum value in a list.\n",
    "\n",
    "my_list = [10, 5, 25, 3, 15]\n",
    "\n",
    "# Find the minimum value in the list\n",
    "min_value = min(my_list)\n",
    "\n",
    "print(\"Minimum value:\", min_value)\n"
   ]
  },
  {
   "cell_type": "code",
   "execution_count": 41,
   "metadata": {},
   "outputs": [
    {
     "name": "stdout",
     "output_type": "stream",
     "text": [
      "[1, 4, 9, 16, 25, 36, 49, 64, 81, 100]\n"
     ]
    }
   ],
   "source": [
    "# 18. Create a list of squares of numbers from 1 to 10.\n",
    "\n",
    "squares = [x ** 2 for x in range(1, 11)]\n",
    "print(squares)"
   ]
  },
  {
   "cell_type": "code",
   "execution_count": 42,
   "metadata": {},
   "outputs": [
    {
     "name": "stdout",
     "output_type": "stream",
     "text": [
      "[76, 94, 51, 79, 86]\n"
     ]
    }
   ],
   "source": [
    "# 19. Create a list of random numbers\n",
    "\n",
    "import random\n",
    "\n",
    "# Generate a list of 5 random integers between 1 and 100\n",
    "random_numbers = [random.randint(1, 100) for _ in range(5)]\n",
    "\n",
    "# Print the list of random numbers\n",
    "print(random_numbers)\n"
   ]
  },
  {
   "cell_type": "code",
   "execution_count": 43,
   "metadata": {},
   "outputs": [
    {
     "name": "stdout",
     "output_type": "stream",
     "text": [
      "[1, 2, 3, 4, 5]\n"
     ]
    }
   ],
   "source": [
    "# 20. Remove duplicates from a list.\n",
    "\n",
    "my_list = [1, 2, 2, 3, 4, 4, 5]\n",
    "\n",
    "# Remove duplicates by converting to a set and back to a list\n",
    "unique_list = list(set(my_list))\n",
    "\n",
    "print(unique_list)\n"
   ]
  },
  {
   "cell_type": "code",
   "execution_count": 46,
   "metadata": {},
   "outputs": [
    {
     "name": "stdout",
     "output_type": "stream",
     "text": [
      "[3, 4, 5]\n"
     ]
    }
   ],
   "source": [
    "# 21. Find the common elements between two lists.\n",
    "\n",
    "list1 = [1, 2, 3, 4, 5]\n",
    "list2 = [3, 4, 5, 6, 7]\n",
    "\n",
    "# Find common elements using sets and the intersection method\n",
    "set1 = set(list1)\n",
    "set2 = set(list2)\n",
    "common_elements = list(set1.intersection(set2))\n",
    "\n",
    "print(common_elements)\n"
   ]
  },
  {
   "cell_type": "code",
   "execution_count": 47,
   "metadata": {},
   "outputs": [
    {
     "name": "stdout",
     "output_type": "stream",
     "text": [
      "[1, 2, 6, 7]\n"
     ]
    }
   ],
   "source": [
    "# 22. Find the difference between two lists.\n",
    "\n",
    "list1 = [1, 2, 3, 4, 5]\n",
    "list2 = [3, 4, 5, 6, 7]\n",
    "\n",
    "# Find the difference using list comprehension\n",
    "difference = [item for item in list1 if item not in list2] + [item for item in list2 if item not in list1]\n",
    "\n",
    "print(difference)\n"
   ]
  },
  {
   "cell_type": "code",
   "execution_count": 48,
   "metadata": {},
   "outputs": [
    {
     "name": "stdout",
     "output_type": "stream",
     "text": [
      "[1, 2, 3, 4, 5, 6]\n"
     ]
    }
   ],
   "source": [
    "# 23. Merge two lists.\n",
    "\n",
    "list1 = [1, 2, 3]\n",
    "list2 = [4, 5, 6]\n",
    "\n",
    "# Merge two lists using the + operator\n",
    "merged_list = list1 + list2\n",
    "\n",
    "print(merged_list)\n"
   ]
  },
  {
   "cell_type": "code",
   "execution_count": 49,
   "metadata": {},
   "outputs": [
    {
     "name": "stdout",
     "output_type": "stream",
     "text": [
      "[2, 4, 6, 8, 10]\n"
     ]
    }
   ],
   "source": [
    "# 24. Multiply all elements in a list by 2.\n",
    "\n",
    "my_list = [1, 2, 3, 4, 5]\n",
    "\n",
    "# Multiply all elements by 2 using a list comprehension\n",
    "result_list = [x * 2 for x in my_list]\n",
    "\n",
    "print(result_list)\n"
   ]
  },
  {
   "cell_type": "code",
   "execution_count": 52,
   "metadata": {},
   "outputs": [
    {
     "name": "stdout",
     "output_type": "stream",
     "text": [
      "[2, 4, 6]\n"
     ]
    }
   ],
   "source": [
    "# 25. Filter out all even numbers from a list.\n",
    "\n",
    "my_list = [1, 2, 3, 4, 5, 6]\n",
    "\n",
    "# Filter out even numbers using a list comprehension\n",
    "filtered_list = [x for x in my_list if x % 2 == 0]\n",
    "\n",
    "print(filtered_list)\n"
   ]
  },
  {
   "cell_type": "code",
   "execution_count": 53,
   "metadata": {},
   "outputs": [
    {
     "name": "stdout",
     "output_type": "stream",
     "text": [
      "[1, 2, 3, 4, 5]\n"
     ]
    }
   ],
   "source": [
    "# 26. Convert a list of strings to a list of integers.\n",
    "\n",
    "string_list = [\"1\", \"2\", \"3\", \"4\", \"5\"]\n",
    "\n",
    "# Convert a list of strings to a list of integers\n",
    "integer_list = [int(x) for x in string_list]\n",
    "\n",
    "print(integer_list)\n"
   ]
  },
  {
   "cell_type": "code",
   "execution_count": 54,
   "metadata": {},
   "outputs": [
    {
     "name": "stdout",
     "output_type": "stream",
     "text": [
      "['1', '2', '3', '4', '5']\n"
     ]
    }
   ],
   "source": [
    "# 27. Convert a list of integers to a list of strings.\n",
    "\n",
    "integer_list = [1, 2, 3, 4, 5]\n",
    "\n",
    "# Convert a list of integers to a list of strings\n",
    "string_list = [str(x) for x in integer_list]\n",
    "\n",
    "print(string_list)\n"
   ]
  },
  {
   "cell_type": "code",
   "execution_count": 55,
   "metadata": {},
   "outputs": [
    {
     "name": "stdout",
     "output_type": "stream",
     "text": [
      "[1, 2, 3, 4, 5, 6]\n"
     ]
    }
   ],
   "source": [
    "# 28. Flatten a nested list.\n",
    "\n",
    "def flatten_list(nested_list):\n",
    "    flat_list = []\n",
    "    for item in nested_list:\n",
    "        if isinstance(item, list):\n",
    "            flat_list.extend(flatten_list(item))\n",
    "        else:\n",
    "            flat_list.append(item)\n",
    "    return flat_list\n",
    "\n",
    "# Example usage:\n",
    "nested_list = [1, [2, [3, 4], 5], 6]\n",
    "flattened = flatten_list(nested_list)\n",
    "print(flattened)\n"
   ]
  },
  {
   "cell_type": "code",
   "execution_count": 56,
   "metadata": {},
   "outputs": [
    {
     "name": "stdout",
     "output_type": "stream",
     "text": [
      "[0, 1, 1, 2, 3, 5, 8, 13, 21, 34]\n"
     ]
    }
   ],
   "source": [
    "# 29. Create a list of the first 10 Fibonacci numbers.\n",
    "\n",
    "# Function to generate the first n Fibonacci numbers\n",
    "def generate_fibonacci(n):\n",
    "    fibonacci_list = []\n",
    "    a, b = 0, 1\n",
    "    for _ in range(n):\n",
    "        fibonacci_list.append(a)\n",
    "        a, b = b, a + b\n",
    "    return fibonacci_list\n",
    "\n",
    "# Generate the first 10 Fibonacci numbers\n",
    "fibonacci_sequence = generate_fibonacci(10)\n",
    "\n",
    "print(fibonacci_sequence)\n"
   ]
  },
  {
   "cell_type": "code",
   "execution_count": 57,
   "metadata": {},
   "outputs": [
    {
     "name": "stdout",
     "output_type": "stream",
     "text": [
      "Is the list sorted? True\n"
     ]
    }
   ],
   "source": [
    "# 30. Check if a list is sorted.\n",
    "\n",
    "def is_sorted(arr):\n",
    "    for i in range(1, len(arr)):\n",
    "        if arr[i] < arr[i - 1]:\n",
    "            return False\n",
    "    return True\n",
    "\n",
    "# Example usage:\n",
    "my_list = [1, 2, 3, 4, 5]\n",
    "result = is_sorted(my_list)\n",
    "print(\"Is the list sorted?\", result)\n"
   ]
  },
  {
   "cell_type": "code",
   "execution_count": 58,
   "metadata": {},
   "outputs": [
    {
     "name": "stdout",
     "output_type": "stream",
     "text": [
      "[3, 4, 5, 1, 2]\n"
     ]
    }
   ],
   "source": [
    "# 31. Rotate a list to the left by `n` positions.\n",
    "\n",
    "def rotate_left(arr, n):\n",
    "    # Ensure that n is within the length of the list\n",
    "    n %= len(arr)\n",
    "    \n",
    "    # Slice the list to rotate it to the left\n",
    "    rotated_list = arr[n:] + arr[:n]\n",
    "    \n",
    "    return rotated_list\n",
    "\n",
    "# Example usage:\n",
    "my_list = [1, 2, 3, 4, 5]\n",
    "n = 2\n",
    "rotated = rotate_left(my_list, n)\n",
    "print(rotated)\n"
   ]
  },
  {
   "cell_type": "code",
   "execution_count": 59,
   "metadata": {},
   "outputs": [
    {
     "name": "stdout",
     "output_type": "stream",
     "text": [
      "[4, 5, 1, 2, 3]\n"
     ]
    }
   ],
   "source": [
    "# 32. Rotate a list to the right by `n` positions.\n",
    "\n",
    "def rotate_right(arr, n):\n",
    "    # Ensure that n is within the length of the list\n",
    "    n %= len(arr)\n",
    "    \n",
    "    # Slice the list to rotate it to the right\n",
    "    rotated_list = arr[-n:] + arr[:-n]\n",
    "    \n",
    "    return rotated_list\n",
    "\n",
    "# Example usage:\n",
    "my_list = [1, 2, 3, 4, 5]\n",
    "n = 2\n",
    "rotated = rotate_right(my_list, n)\n",
    "print(rotated)"
   ]
  },
  {
   "cell_type": "code",
   "execution_count": 60,
   "metadata": {},
   "outputs": [
    {
     "name": "stdout",
     "output_type": "stream",
     "text": [
      "[2, 3, 5, 7, 11, 13, 17, 19, 23, 29, 31, 37, 41, 43, 47]\n"
     ]
    }
   ],
   "source": [
    "# 33. Create a list of prime numbers up to 50.\n",
    "\n",
    "def is_prime(num):\n",
    "    if num <= 1:\n",
    "        return False\n",
    "    elif num <= 3:\n",
    "        return True\n",
    "    elif num % 2 == 0 or num % 3 == 0:\n",
    "        return False\n",
    "    i = 5\n",
    "    while i * i <= num:\n",
    "        if num % i == 0 or num % (i + 2) == 0:\n",
    "            return False\n",
    "        i += 6\n",
    "    return True\n",
    "\n",
    "# Generate a list of prime numbers up to 50\n",
    "prime_list = [num for num in range(2, 51) if is_prime(num)]\n",
    "\n",
    "print(prime_list)\n"
   ]
  },
  {
   "cell_type": "code",
   "execution_count": 61,
   "metadata": {},
   "outputs": [
    {
     "name": "stdout",
     "output_type": "stream",
     "text": [
      "[[1, 2, 3], [4, 5, 6], [7, 8, 9]]\n"
     ]
    }
   ],
   "source": [
    "# 34. Split a list into chunks of size `n`.\n",
    "\n",
    "def split_into_chunks(lst, n):\n",
    "    for i in range(0, len(lst), n):\n",
    "        yield lst[i:i + n]\n",
    "\n",
    "\n",
    "my_list = [1, 2, 3, 4, 5, 6, 7, 8, 9]\n",
    "chunk_size = 3\n",
    "chunked_list = list(split_into_chunks(my_list, chunk_size))\n",
    "\n",
    "print(chunked_list)\n"
   ]
  },
  {
   "cell_type": "code",
   "execution_count": 62,
   "metadata": {},
   "outputs": [
    {
     "name": "stdout",
     "output_type": "stream",
     "text": [
      "Second largest number: 5\n"
     ]
    }
   ],
   "source": [
    "# 35. Find the second largest number in a list.\n",
    "\n",
    "def find_second_largest(lst):\n",
    "    if len(lst) < 2:\n",
    "        return \"List should have at least two elements\"\n",
    "\n",
    "    # Initialize variables to store the largest and second largest numbers\n",
    "    largest = second_largest = float('-inf')\n",
    "\n",
    "    # Iterate through the list to find the largest and second largest numbers\n",
    "    for num in lst:\n",
    "        if num > largest:\n",
    "            second_largest = largest\n",
    "            largest = num\n",
    "        elif num > second_largest and num != largest:\n",
    "            second_largest = num\n",
    "\n",
    "    if second_largest == float('-inf'):\n",
    "        return \"No second largest number found\"\n",
    "    else:\n",
    "        return second_largest\n",
    "\n",
    "# Example usage:\n",
    "my_list = [1, 2, 3, 4, 5, 6]\n",
    "second_largest = find_second_largest(my_list)\n",
    "print(\"Second largest number:\", second_largest)\n"
   ]
  },
  {
   "cell_type": "code",
   "execution_count": 63,
   "metadata": {},
   "outputs": [
    {
     "name": "stdout",
     "output_type": "stream",
     "text": [
      "[1, 4, 9, 16, 25]\n"
     ]
    }
   ],
   "source": [
    "# 36. Replace every element in a list with its square.\n",
    "\n",
    "my_list = [1, 2, 3, 4, 5]\n",
    "\n",
    "# Replace every element with its square using a list comprehension\n",
    "squared_list = [x ** 2 for x in my_list]\n",
    "\n",
    "print(squared_list)\n"
   ]
  },
  {
   "cell_type": "code",
   "execution_count": 64,
   "metadata": {},
   "outputs": [
    {
     "name": "stdout",
     "output_type": "stream",
     "text": [
      "{'apple': 0, 'banana': 1, 'cherry': 2, 'date': 3}\n"
     ]
    }
   ],
   "source": [
    "# 37. Convert a list to a dictionary where list elements become keys and their indices become values.\n",
    "\n",
    "my_list = ['apple', 'banana', 'cherry', 'date']\n",
    "\n",
    "# Convert the list to a dictionary where elements become keys and indices become values\n",
    "my_dict = {value: index for index, value in enumerate(my_list)}\n",
    "\n",
    "print(my_dict)\n"
   ]
  },
  {
   "cell_type": "code",
   "execution_count": 65,
   "metadata": {},
   "outputs": [
    {
     "name": "stdout",
     "output_type": "stream",
     "text": [
      "[2, 4, 1, 5, 3]\n"
     ]
    }
   ],
   "source": [
    "# 38. Shuffle the elements of a list randomly.\n",
    "\n",
    "import random\n",
    "\n",
    "my_list = [1, 2, 3, 4, 5]\n",
    "\n",
    "# Shuffle the elements of the list randomly\n",
    "random.shuffle(my_list)\n",
    "\n",
    "print(my_list)\n"
   ]
  },
  {
   "cell_type": "code",
   "execution_count": 66,
   "metadata": {},
   "outputs": [
    {
     "name": "stdout",
     "output_type": "stream",
     "text": [
      "[1, 1, 2, 6, 24, 120, 720, 5040, 40320, 362880]\n"
     ]
    }
   ],
   "source": [
    "# 39. Create a list of the first 10 factorial numbers.\n",
    "\n",
    "def factorial(n):\n",
    "    if n == 0:\n",
    "        return 1\n",
    "    else:\n",
    "        result = 1\n",
    "        for i in range(1, n + 1):\n",
    "            result *= i\n",
    "        return result\n",
    "\n",
    "# Create a list of the first 10 factorial numbers\n",
    "factorial_list = [factorial(n) for n in range(10)]\n",
    "\n",
    "print(factorial_list)\n"
   ]
  },
  {
   "cell_type": "code",
   "execution_count": 67,
   "metadata": {},
   "outputs": [
    {
     "name": "stdout",
     "output_type": "stream",
     "text": [
      "Lists have common elements.\n"
     ]
    }
   ],
   "source": [
    "# 40. Check if two lists have at least one element in common.\n",
    "\n",
    "list1 = [1, 2, 3, 4, 5]\n",
    "list2 = [4, 5, 6, 7, 8]\n",
    "\n",
    "# Check if two lists have at least one element in common using set intersection\n",
    "common_elements = set(list1) & set(list2)\n",
    "\n",
    "if common_elements:\n",
    "    print(\"Lists have common elements.\")\n",
    "else:\n",
    "    print(\"Lists have no common elements.\")\n"
   ]
  },
  {
   "cell_type": "code",
   "execution_count": 68,
   "metadata": {},
   "outputs": [
    {
     "name": "stdout",
     "output_type": "stream",
     "text": [
      "[]\n"
     ]
    }
   ],
   "source": [
    "# 41. Remove all elements from a list.\n",
    "\n",
    "my_list = [1, 2, 3, 4, 5]\n",
    "\n",
    "# Remove all elements using the clear() method\n",
    "my_list.clear()\n",
    "\n",
    "print(my_list)\n"
   ]
  },
  {
   "cell_type": "code",
   "execution_count": 69,
   "metadata": {},
   "outputs": [
    {
     "name": "stdout",
     "output_type": "stream",
     "text": [
      "[1, 0, 3, 0, 5]\n"
     ]
    }
   ],
   "source": [
    "# 42. Replace negative numbers in a list with 0.\n",
    "\n",
    "my_list = [1, -2, 3, -4, 5]\n",
    "\n",
    "# Replace negative numbers with 0 using a list comprehension\n",
    "new_list = [x if x >= 0 else 0 for x in my_list]\n",
    "\n",
    "print(new_list)\n"
   ]
  },
  {
   "cell_type": "code",
   "execution_count": 70,
   "metadata": {},
   "outputs": [
    {
     "name": "stdout",
     "output_type": "stream",
     "text": [
      "['This', 'is', 'a', 'sample', 'string.', 'This', 'string', 'contains', 'multiple', 'words.']\n"
     ]
    }
   ],
   "source": [
    "# 43. Convert a string into a list of words.\n",
    "\n",
    "my_string = \"This is a sample string. This string contains multiple words.\"\n",
    "\n",
    "# Split the string into a list of words using the split() method\n",
    "word_list = my_string.split()\n",
    "\n",
    "print(word_list)\n"
   ]
  },
  {
   "cell_type": "code",
   "execution_count": 71,
   "metadata": {},
   "outputs": [
    {
     "name": "stdout",
     "output_type": "stream",
     "text": [
      "This is a list of words\n"
     ]
    }
   ],
   "source": [
    "# 44. Convert a list of words into a string.\n",
    "\n",
    "word_list = [\"This\", \"is\", \"a\", \"list\", \"of\", \"words\"]\n",
    "\n",
    "# Convert the list of words into a string using the join() method\n",
    "my_string = ' '.join(word_list)\n",
    "\n",
    "print(my_string)\n"
   ]
  },
  {
   "cell_type": "code",
   "execution_count": 72,
   "metadata": {},
   "outputs": [
    {
     "name": "stdout",
     "output_type": "stream",
     "text": [
      "[1, 2, 4, 8, 16]\n"
     ]
    }
   ],
   "source": [
    "# 45. Create a list of the first `n` powers of 2\n",
    "\n",
    "n = 5  # Replace with your desired value of n\n",
    "\n",
    "# Create a list of the first n powers of 2 using a list comprehension\n",
    "powers_of_2 = [2 ** i for i in range(n)]\n",
    "\n",
    "print(powers_of_2)\n"
   ]
  },
  {
   "cell_type": "code",
   "execution_count": 73,
   "metadata": {},
   "outputs": [
    {
     "name": "stdout",
     "output_type": "stream",
     "text": [
      "Longest string: elderberry\n"
     ]
    }
   ],
   "source": [
    "# 46. Find the longest string in a list of strings.\n",
    "\n",
    "string_list = [\"apple\", \"banana\", \"cherry\", \"date\", \"elderberry\"]\n",
    "\n",
    "# Find the longest string in the list\n",
    "longest_string = max(string_list, key=len)\n",
    "\n",
    "print(\"Longest string:\", longest_string)\n"
   ]
  },
  {
   "cell_type": "code",
   "execution_count": 74,
   "metadata": {},
   "outputs": [
    {
     "name": "stdout",
     "output_type": "stream",
     "text": [
      "Shortest string: date\n"
     ]
    }
   ],
   "source": [
    "# 47. Find the shortest string in a list of strings.\n",
    "\n",
    "string_list = [\"apple\", \"banana\", \"cherry\", \"date\", \"elderberry\"]\n",
    "\n",
    "# Find the longest string in the list\n",
    "shortest_string = min(string_list, key=len)\n",
    "\n",
    "print(\"Shortest string:\", shortest_string)"
   ]
  },
  {
   "cell_type": "code",
   "execution_count": 75,
   "metadata": {},
   "outputs": [
    {
     "name": "stdout",
     "output_type": "stream",
     "text": [
      "[1, 3, 6, 10, 15]\n"
     ]
    }
   ],
   "source": [
    "# 48. Create a list of the first `n` triangular numbers.\n",
    "\n",
    "n = 5  # Replace with your desired value of n\n",
    "\n",
    "# Create a list of the first n triangular numbers\n",
    "triangular_numbers = [sum(range(1, i + 1)) for i in range(1, n + 1)]\n",
    "\n",
    "print(triangular_numbers)\n"
   ]
  },
  {
   "cell_type": "code",
   "execution_count": 76,
   "metadata": {},
   "outputs": [
    {
     "name": "stdout",
     "output_type": "stream",
     "text": [
      "Is subsequence? True\n"
     ]
    }
   ],
   "source": [
    "# 49. Check if a list contains another list as a subsequence.\n",
    "\n",
    "def is_subsequence(subsequence, sequence):\n",
    "    sub_len = len(subsequence)\n",
    "    seq_len = len(sequence)\n",
    "    sub_idx = seq_idx = 0\n",
    "    \n",
    "    while sub_idx < sub_len and seq_idx < seq_len:\n",
    "        if subsequence[sub_idx] == sequence[seq_idx]:\n",
    "            sub_idx += 1\n",
    "        seq_idx += 1\n",
    "    \n",
    "    return sub_idx == sub_len\n",
    "\n",
    "# Example usage:\n",
    "sequence = [1, 2, 3, 4, 5, 6]\n",
    "subsequence = [2, 4, 6]\n",
    "\n",
    "result = is_subsequence(subsequence, sequence)\n",
    "print(\"Is subsequence?\", result)\n"
   ]
  },
  {
   "cell_type": "code",
   "execution_count": 77,
   "metadata": {},
   "outputs": [
    {
     "name": "stdout",
     "output_type": "stream",
     "text": [
      "[1, 4, 3, 2, 5]\n"
     ]
    }
   ],
   "source": [
    "# 50. Swap two elements in a list by their indices.\n",
    "\n",
    "my_list = [1, 2, 3, 4, 5]\n",
    "\n",
    "# Indices of the elements to be swapped\n",
    "index1 = 1  # Index of the first element\n",
    "index2 = 3  # Index of the second element\n",
    "\n",
    "# Swap the elements by their indices\n",
    "my_list[index1], my_list[index2] = my_list[index2], my_list[index1]\n",
    "\n",
    "print(my_list)\n"
   ]
  },
  {
   "cell_type": "markdown",
   "metadata": {},
   "source": [
    "## Tuple Based Practice Problem :"
   ]
  },
  {
   "cell_type": "code",
   "execution_count": 78,
   "metadata": {},
   "outputs": [
    {
     "name": "stdout",
     "output_type": "stream",
     "text": [
      "(1, 2, 3, 4, 5)\n"
     ]
    }
   ],
   "source": [
    "# 1. Create a tuple with integers from 1 to 5.\n",
    "\n",
    "my_tuple = (1, 2, 3, 4, 5)\n",
    "print(my_tuple)"
   ]
  },
  {
   "cell_type": "code",
   "execution_count": 79,
   "metadata": {},
   "outputs": [
    {
     "name": "stdout",
     "output_type": "stream",
     "text": [
      "3\n"
     ]
    }
   ],
   "source": [
    "# 2. Access the third element of a tuple.\n",
    "\n",
    "my_tuple = (1, 2, 3, 4, 5)\n",
    "third_element = my_tuple[2]\n",
    "print(third_element)\n"
   ]
  },
  {
   "cell_type": "code",
   "execution_count": 80,
   "metadata": {},
   "outputs": [
    {
     "name": "stdout",
     "output_type": "stream",
     "text": [
      "5\n"
     ]
    }
   ],
   "source": [
    "# 3. Find the length of a tuple without using the `len()` function.\n",
    "\n",
    "my_tuple = (1, 2, 3, 4, 5)\n",
    "length = 0\n",
    "\n",
    "for element in my_tuple:\n",
    "    length += 1\n",
    "\n",
    "print(length)\n"
   ]
  },
  {
   "cell_type": "code",
   "execution_count": 81,
   "metadata": {},
   "outputs": [
    {
     "name": "stdout",
     "output_type": "stream",
     "text": [
      "The element 2 appears 3 times in the tuple.\n"
     ]
    }
   ],
   "source": [
    "# 4. Count the occurrences of an element in a tuple.\n",
    "\n",
    "my_tuple = (1, 2, 2, 3, 4, 2, 5)\n",
    "element_to_count = 2\n",
    "count = 0\n",
    "\n",
    "for element in my_tuple:\n",
    "    if element == element_to_count:\n",
    "        count += 1\n",
    "\n",
    "print(f\"The element {element_to_count} appears {count} times in the tuple.\")\n"
   ]
  },
  {
   "cell_type": "code",
   "execution_count": 82,
   "metadata": {},
   "outputs": [
    {
     "name": "stdout",
     "output_type": "stream",
     "text": [
      "The first occurrence of 2 is at index 1.\n"
     ]
    }
   ],
   "source": [
    "# 5. Find the index of the first occurrence of an element in a tuple.\n",
    "\n",
    "my_tuple = (1, 2, 3, 4, 2, 5)\n",
    "element_to_find = 2\n",
    "\n",
    "index = None\n",
    "for i, element in enumerate(my_tuple):\n",
    "    if element == element_to_find:\n",
    "        index = i\n",
    "        break\n",
    "\n",
    "if index is not None:\n",
    "    print(f\"The first occurrence of {element_to_find} is at index {index}.\")\n",
    "else:\n",
    "    print(f\"{element_to_find} is not in the tuple.\")\n"
   ]
  },
  {
   "cell_type": "code",
   "execution_count": 83,
   "metadata": {},
   "outputs": [
    {
     "name": "stdout",
     "output_type": "stream",
     "text": [
      "3 exists in the tuple.\n"
     ]
    }
   ],
   "source": [
    "# 6. Check if an element exists in a tuple.\n",
    "\n",
    "my_tuple = (1, 2, 3, 4, 5)\n",
    "element_to_check = 3\n",
    "\n",
    "if element_to_check in my_tuple:\n",
    "    print(f\"{element_to_check} exists in the tuple.\")\n",
    "else:\n",
    "    print(f\"{element_to_check} does not exist in the tuple.\")\n"
   ]
  },
  {
   "cell_type": "code",
   "execution_count": 84,
   "metadata": {},
   "outputs": [],
   "source": [
    "# 7. Convert a tuple to a list.\n",
    "\n",
    "my_tuple = (1, 2, 3, 4, 5)\n",
    "my_list = list(my_tuple)\n"
   ]
  },
  {
   "cell_type": "code",
   "execution_count": 85,
   "metadata": {},
   "outputs": [],
   "source": [
    "# 8. Convert a list to a tuple.\n",
    "\n",
    "my_list = [1, 2, 3, 4, 5]\n",
    "my_tuple = tuple(my_list)\n"
   ]
  },
  {
   "cell_type": "code",
   "execution_count": 86,
   "metadata": {},
   "outputs": [
    {
     "name": "stdout",
     "output_type": "stream",
     "text": [
      "var1: 1\n",
      "var2: 2\n",
      "var3: 3\n"
     ]
    }
   ],
   "source": [
    "# 9. Unpack the elements of a tuple into variables.\n",
    "\n",
    "my_tuple = (1, 2, 3)\n",
    "var1, var2, var3 = my_tuple\n",
    "\n",
    "print(f\"var1: {var1}\")\n",
    "print(f\"var2: {var2}\")\n",
    "print(f\"var3: {var3}\")\n"
   ]
  },
  {
   "cell_type": "code",
   "execution_count": 88,
   "metadata": {},
   "outputs": [
    {
     "name": "stdout",
     "output_type": "stream",
     "text": [
      "(2, 4, 6, 8, 10)\n"
     ]
    }
   ],
   "source": [
    "# 10. Create a tuple of even numbers from 1 to 10.\n",
    "\n",
    "even_numbers = tuple(x for x in range(2, 11, 2))\n",
    "print(even_numbers)"
   ]
  },
  {
   "cell_type": "code",
   "execution_count": 89,
   "metadata": {},
   "outputs": [
    {
     "name": "stdout",
     "output_type": "stream",
     "text": [
      "(1, 3, 5, 7, 9)\n"
     ]
    }
   ],
   "source": [
    "# 11. Create a tuple of odd numbers from 1 to 10.\n",
    "\n",
    "odd_numbers = tuple(x for x in range(1, 11) if x % 2 != 0)\n",
    "print(odd_numbers)"
   ]
  },
  {
   "cell_type": "code",
   "execution_count": 90,
   "metadata": {},
   "outputs": [
    {
     "name": "stdout",
     "output_type": "stream",
     "text": [
      "(1, 2, 3, 4, 5, 6)\n"
     ]
    }
   ],
   "source": [
    "# 12. Concatenate two tuples.\n",
    "\n",
    "tuple1 = (1, 2, 3)\n",
    "tuple2 = (4, 5, 6)\n",
    "\n",
    "concatenated_tuple = tuple1 + tuple2\n",
    "print(concatenated_tuple)"
   ]
  },
  {
   "cell_type": "code",
   "execution_count": 91,
   "metadata": {},
   "outputs": [
    {
     "name": "stdout",
     "output_type": "stream",
     "text": [
      "(1, 2, 3, 1, 2, 3, 1, 2, 3)\n"
     ]
    }
   ],
   "source": [
    "# 13. Repeat a tuple three times.\n",
    "\n",
    "my_tuple = (1, 2, 3)\n",
    "repeated_tuple = my_tuple * 3\n",
    "print(repeated_tuple)"
   ]
  },
  {
   "cell_type": "code",
   "execution_count": 92,
   "metadata": {},
   "outputs": [
    {
     "name": "stdout",
     "output_type": "stream",
     "text": [
      "The tuple is empty.\n"
     ]
    }
   ],
   "source": [
    "# 14. Check if a tuple is empty.\n",
    "\n",
    "my_tuple = ()\n",
    "\n",
    "if not my_tuple:\n",
    "    print(\"The tuple is empty.\")\n",
    "else:\n",
    "    print(\"The tuple is not empty.\")\n"
   ]
  },
  {
   "cell_type": "code",
   "execution_count": 93,
   "metadata": {},
   "outputs": [
    {
     "name": "stdout",
     "output_type": "stream",
     "text": [
      "((1, 2, 3), (4, 5, 6), (7, 8, 9))\n"
     ]
    }
   ],
   "source": [
    "# 15. Create a nested tuple.\n",
    "\n",
    "nested_tuple = ((1, 2, 3), (4, 5, 6), (7, 8, 9))\n",
    "print(nested_tuple)"
   ]
  },
  {
   "cell_type": "code",
   "execution_count": 94,
   "metadata": {},
   "outputs": [
    {
     "name": "stdout",
     "output_type": "stream",
     "text": [
      "1\n"
     ]
    }
   ],
   "source": [
    "# 16. Access the first element of a nested tuple.\n",
    "\n",
    "nested_tuple = ((1, 2, 3), (4, 5, 6), (7, 8, 9))\n",
    "\n",
    "first_element = nested_tuple[0][0]\n",
    "print(first_element)"
   ]
  },
  {
   "cell_type": "code",
   "execution_count": 95,
   "metadata": {},
   "outputs": [
    {
     "name": "stdout",
     "output_type": "stream",
     "text": [
      "(42,)\n"
     ]
    }
   ],
   "source": [
    "# 17. Create a tuple with a single element.\n",
    "\n",
    "single_element_tuple = (42,)\n",
    "print(single_element_tuple)"
   ]
  },
  {
   "cell_type": "code",
   "execution_count": 96,
   "metadata": {},
   "outputs": [
    {
     "name": "stdout",
     "output_type": "stream",
     "text": [
      "tuple1 and tuple2 are not equal\n"
     ]
    }
   ],
   "source": [
    "# 18. Compare two tuples.\n",
    "\n",
    "tuple1 = (1, 2, 3)\n",
    "tuple2 = (4, 5, 6)\n",
    "\n",
    "# Equality comparison\n",
    "if tuple1 == tuple2:\n",
    "    print(\"tuple1 and tuple2 are equal\")\n",
    "else:\n",
    "    print(\"tuple1 and tuple2 are not equal\")"
   ]
  },
  {
   "cell_type": "code",
   "execution_count": 97,
   "metadata": {},
   "outputs": [],
   "source": [
    "# 19. Delete a tuple.\n",
    "\n",
    "my_tuple = (1, 2, 3, 4, 5)\n",
    "\n",
    "# Deleting the entire tuple\n",
    "del my_tuple"
   ]
  },
  {
   "cell_type": "code",
   "execution_count": 98,
   "metadata": {},
   "outputs": [
    {
     "name": "stdout",
     "output_type": "stream",
     "text": [
      "(2, 3)\n"
     ]
    }
   ],
   "source": [
    "# 20. Slice a tuple.\n",
    "\n",
    "my_tuple = (1, 2, 3, 4, 5)\n",
    "\n",
    "# Slice from index 1 to index 3 (exclusive)\n",
    "sliced_tuple = my_tuple[1:3]\n",
    "\n",
    "# Print the sliced tuple\n",
    "print(sliced_tuple)\n"
   ]
  },
  {
   "cell_type": "code",
   "execution_count": 99,
   "metadata": {},
   "outputs": [
    {
     "name": "stdout",
     "output_type": "stream",
     "text": [
      "The maximum value in the tuple is: 5\n"
     ]
    }
   ],
   "source": [
    "# 21. Find the maximum value in a tuple.\n",
    "\n",
    "my_tuple = (1, 2, 3, 4, 5)\n",
    "maximum_value = max(my_tuple)\n",
    "\n",
    "print(f\"The maximum value in the tuple is: {maximum_value}\")\n"
   ]
  },
  {
   "cell_type": "code",
   "execution_count": 100,
   "metadata": {},
   "outputs": [
    {
     "name": "stdout",
     "output_type": "stream",
     "text": [
      "The minimum value in the tuple is: 1\n"
     ]
    }
   ],
   "source": [
    "# 22. Find the minimum value in a tuple.\n",
    "\n",
    "my_tuple = (5, 2, 8, 1, 3)\n",
    "minimum_value = min(my_tuple)\n",
    "\n",
    "print(f\"The minimum value in the tuple is: {minimum_value}\")\n"
   ]
  },
  {
   "cell_type": "code",
   "execution_count": 102,
   "metadata": {},
   "outputs": [
    {
     "name": "stdout",
     "output_type": "stream",
     "text": [
      "('H', 'e', 'l', 'l', 'o', ',', ' ', 'W', 'o', 'r', 'l', 'd', '!')\n"
     ]
    }
   ],
   "source": [
    "# 23. Convert a string to a tuple of characters.\n",
    "\n",
    "my_string = \"Hello, World!\"\n",
    "char_tuple = tuple(my_string)\n",
    "print(char_tuple)"
   ]
  },
  {
   "cell_type": "code",
   "execution_count": 104,
   "metadata": {},
   "outputs": [
    {
     "name": "stdout",
     "output_type": "stream",
     "text": [
      "Hello, World!\n"
     ]
    }
   ],
   "source": [
    "# 24. Convert a tuple of characters to a string.\n",
    "\n",
    "char_tuple = ('H', 'e', 'l', 'l', 'o', ',', ' ', 'W', 'o', 'r', 'l', 'd', '!')\n",
    "my_string = ''.join(char_tuple)\n",
    "print(my_string)"
   ]
  },
  {
   "cell_type": "code",
   "execution_count": 105,
   "metadata": {},
   "outputs": [
    {
     "name": "stdout",
     "output_type": "stream",
     "text": [
      "(1, 'hello', 3.14, True, [5, 6, 7])\n"
     ]
    }
   ],
   "source": [
    "# 25. Create a tuple from multiple data types.\n",
    "\n",
    "mixed_tuple = (1, \"hello\", 3.14, True, [5, 6, 7])\n",
    "print(mixed_tuple)"
   ]
  },
  {
   "cell_type": "code",
   "execution_count": 106,
   "metadata": {},
   "outputs": [
    {
     "name": "stdout",
     "output_type": "stream",
     "text": [
      "The two tuples are identical.\n"
     ]
    }
   ],
   "source": [
    "# 26. Check if two tuples are identical.\n",
    "\n",
    "tuple1 = (1, 2, 3)\n",
    "tuple2 = (1, 2, 3)\n",
    "\n",
    "if tuple1 == tuple2:\n",
    "    print(\"The two tuples are identical.\")\n",
    "else:\n",
    "    print(\"The two tuples are not identical\")\n"
   ]
  },
  {
   "cell_type": "code",
   "execution_count": 107,
   "metadata": {},
   "outputs": [
    {
     "name": "stdout",
     "output_type": "stream",
     "text": [
      "Original Tuple: (3, 1, 2, 5, 4)\n",
      "Sorted Tuple: (1, 2, 3, 4, 5)\n"
     ]
    }
   ],
   "source": [
    "# 27. Sort the elements of a tuple.\n",
    "\n",
    "my_tuple = (3, 1, 2, 5, 4)\n",
    "\n",
    "# Convert the tuple to a sorted list\n",
    "sorted_list = sorted(my_tuple)\n",
    "\n",
    "# Convert the sorted list back to a tuple\n",
    "sorted_tuple = tuple(sorted_list)\n",
    "\n",
    "print(\"Original Tuple:\", my_tuple)\n",
    "print(\"Sorted Tuple:\", sorted_tuple)\n"
   ]
  },
  {
   "cell_type": "code",
   "execution_count": 108,
   "metadata": {},
   "outputs": [
    {
     "name": "stdout",
     "output_type": "stream",
     "text": [
      "('1', '2', '3', '4', '5')\n"
     ]
    }
   ],
   "source": [
    "# 28. Convert a tuple of integers to a tuple of strings.\n",
    "\n",
    "tuple_of_integers = (1, 2, 3, 4, 5)\n",
    "tuple_of_strings = ()\n",
    "\n",
    "for integer in tuple_of_integers:\n",
    "    tuple_of_strings += (str(integer),)\n",
    "\n",
    "print(tuple_of_strings)\n"
   ]
  },
  {
   "cell_type": "code",
   "execution_count": 109,
   "metadata": {},
   "outputs": [
    {
     "name": "stdout",
     "output_type": "stream",
     "text": [
      "(1, 2, 3, 4, 5)\n"
     ]
    }
   ],
   "source": [
    "# 29. Convert a tuple of strings to a tuple of integers.\n",
    "\n",
    "tuple_of_strings = (\"1\", \"2\", \"3\", \"4\", \"5\")\n",
    "tuple_of_integers = ()\n",
    "\n",
    "for string in tuple_of_strings:\n",
    "    tuple_of_integers += (int(string),)\n",
    "\n",
    "print(tuple_of_integers)\n"
   ]
  },
  {
   "cell_type": "code",
   "execution_count": 110,
   "metadata": {},
   "outputs": [
    {
     "name": "stdout",
     "output_type": "stream",
     "text": [
      "(1, 2, 3, 4, 5, 6)\n"
     ]
    }
   ],
   "source": [
    "# 30. Merge two tuples.\n",
    "\n",
    "tuple1 = (1, 2, 3)\n",
    "tuple2 = (4, 5, 6)\n",
    "\n",
    "merged_tuple = tuple1 + tuple2\n",
    "print(merged_tuple)"
   ]
  },
  {
   "cell_type": "code",
   "execution_count": 111,
   "metadata": {},
   "outputs": [
    {
     "name": "stdout",
     "output_type": "stream",
     "text": [
      "(1, 2, 3, 4, 5, 6, 7, 8)\n"
     ]
    }
   ],
   "source": [
    "# 31. Flatten a nested tuple.\n",
    "\n",
    "nested_tuple = ((1, 2, 3), (4, 5), (6, 7, 8))\n",
    "flat_tuple = ()\n",
    "\n",
    "for inner_tuple in nested_tuple:\n",
    "    flat_tuple += inner_tuple\n",
    "\n",
    "print(flat_tuple)\n"
   ]
  },
  {
   "cell_type": "code",
   "execution_count": 115,
   "metadata": {},
   "outputs": [
    {
     "name": "stdout",
     "output_type": "stream",
     "text": [
      "The first 5 prime numbers are: [2, 3, 5, 7, 11]\n"
     ]
    }
   ],
   "source": [
    "# 32. Create a tuple of the first 5 prime numbers.\n",
    "\n",
    "def is_prime(num):\n",
    "    if num <= 1:\n",
    "        return False\n",
    "    if num <= 3:\n",
    "        return True\n",
    "    if num % 2 == 0 or num % 3 == 0:\n",
    "        return False\n",
    "    i = 5\n",
    "    while i * i <= num:\n",
    "        if num % i == 0 or num % (i + 2) == 0:\n",
    "            return False\n",
    "        i += 6\n",
    "    return True\n",
    "\n",
    "def generate_primes(count):\n",
    "    primes = []\n",
    "    num = 2\n",
    "    while len(primes) < count:\n",
    "        if is_prime(num):\n",
    "            primes.append(num)\n",
    "        num += 1\n",
    "    return primes\n",
    "\n",
    "try:\n",
    "    n = int(input(\"Enter the number of prime numbers you want to generate: \"))\n",
    "    if n <= 0:\n",
    "        print(\"Please enter a positive integer.\")\n",
    "    else:\n",
    "        prime_numbers = generate_primes(n)\n",
    "        print(f\"The first {n} prime numbers are: {prime_numbers}\")\n",
    "except ValueError:\n",
    "    print(\"Invalid input. Please enter a valid integer.\")\n"
   ]
  },
  {
   "cell_type": "code",
   "execution_count": 116,
   "metadata": {},
   "outputs": [
    {
     "name": "stdout",
     "output_type": "stream",
     "text": [
      "True\n",
      "False\n"
     ]
    }
   ],
   "source": [
    "# 33. Check if a tuple is a palindrome.\n",
    "\n",
    "def is_palindrome(input_tuple):\n",
    "    return input_tuple == input_tuple[::-1]\n",
    "\n",
    "# Example usage:\n",
    "my_tuple1 = (1, 2, 3, 2, 1)\n",
    "my_tuple2 = (1, 2, 3, 4, 5)\n",
    "\n",
    "print(is_palindrome(my_tuple1))  # True, my_tuple1 is a palindrome\n",
    "print(is_palindrome(my_tuple2))  # False, my_tuple2 is not a palindrome\n"
   ]
  },
  {
   "cell_type": "code",
   "execution_count": 117,
   "metadata": {},
   "outputs": [
    {
     "name": "stdout",
     "output_type": "stream",
     "text": [
      "(1, 4, 9, 16, 25)\n"
     ]
    }
   ],
   "source": [
    "# 34. Create a tuple of squares of numbers from 1 to 5.\n",
    "\n",
    "squares_tuple = tuple(x**2 for x in range(1, 6))\n",
    "print(squares_tuple)"
   ]
  },
  {
   "cell_type": "code",
   "execution_count": 119,
   "metadata": {},
   "outputs": [
    {
     "name": "stdout",
     "output_type": "stream",
     "text": [
      "(2, 4, 6, 8)\n"
     ]
    }
   ],
   "source": [
    "# 35. Filter out all even numbers from a tuple.\n",
    "\n",
    "original_tuple = (1, 2, 3, 4, 5, 6, 7, 8, 9)\n",
    "filtered_tuple = tuple(x for x in original_tuple if x % 2 == 0)\n",
    "print(filtered_tuple)"
   ]
  },
  {
   "cell_type": "code",
   "execution_count": 120,
   "metadata": {},
   "outputs": [
    {
     "name": "stdout",
     "output_type": "stream",
     "text": [
      "(2, 4, 6, 8, 10)\n"
     ]
    }
   ],
   "source": [
    "# 36. Multiply all elements in a tuple by 2.\n",
    "\n",
    "original_tuple = (1, 2, 3, 4, 5)\n",
    "doubled_tuple = tuple(x * 2 for x in original_tuple)\n",
    "print(doubled_tuple)"
   ]
  },
  {
   "cell_type": "code",
   "execution_count": 121,
   "metadata": {},
   "outputs": [
    {
     "name": "stdout",
     "output_type": "stream",
     "text": [
      "(75, 23, 75, 76, 89)\n"
     ]
    }
   ],
   "source": [
    "# 37. Create a tuple of random numbers.\n",
    "\n",
    "import random\n",
    "\n",
    "# Generate a tuple of 5 random integers between 1 and 100\n",
    "random_tuple = tuple(random.randint(1, 100) for _ in range(5))\n",
    "\n",
    "print(random_tuple)\n"
   ]
  },
  {
   "cell_type": "code",
   "execution_count": 123,
   "metadata": {},
   "outputs": [
    {
     "name": "stdout",
     "output_type": "stream",
     "text": [
      "True\n",
      "False\n"
     ]
    }
   ],
   "source": [
    "# 38. Check if a tuple is sorted.\n",
    "\n",
    "def is_sorted_tuple(input_tuple):\n",
    "    return input_tuple == tuple(sorted(input_tuple))\n",
    "\n",
    "# Example usage (same as above)\n",
    "sorted_tuple = (1, 2, 3, 4, 5)\n",
    "unsorted_tuple = (5, 2, 4, 1, 3)\n",
    "\n",
    "print(is_sorted_tuple(sorted_tuple))  \n",
    "print(is_sorted_tuple(unsorted_tuple))  \n",
    "\n"
   ]
  },
  {
   "cell_type": "code",
   "execution_count": 124,
   "metadata": {},
   "outputs": [
    {
     "name": "stdout",
     "output_type": "stream",
     "text": [
      "(3, 4, 5, 1, 2)\n"
     ]
    }
   ],
   "source": [
    "# 39. Rotate a tuple to the left by `n` positions.\n",
    "\n",
    "def rotate_left_tuple(input_tuple, n):\n",
    "    # Ensure n is within the bounds of the tuple length\n",
    "    n = n % len(input_tuple)\n",
    "    rotated_tuple = input_tuple[n:] + input_tuple[:n]\n",
    "    return rotated_tuple\n",
    "\n",
    "# Example usage:\n",
    "my_tuple = (1, 2, 3, 4, 5)\n",
    "\n",
    "# Rotate the tuple to the left by 2 positions\n",
    "rotated_tuple = rotate_left_tuple(my_tuple, 2)\n",
    "\n",
    "print(rotated_tuple)\n"
   ]
  },
  {
   "cell_type": "code",
   "execution_count": 125,
   "metadata": {},
   "outputs": [
    {
     "name": "stdout",
     "output_type": "stream",
     "text": [
      "(4, 5, 1, 2, 3)\n"
     ]
    }
   ],
   "source": [
    "# 40. Rotate a tuple to the right by `n` positions.\n",
    "\n",
    "def rotate_right_tuple(input_tuple, n):\n",
    "    # Ensure n is within the bounds of the tuple length\n",
    "    n = n % len(input_tuple)\n",
    "    rotated_tuple = input_tuple[-n:] + input_tuple[:-n]\n",
    "    return rotated_tuple\n",
    "\n",
    "# Example usage:\n",
    "my_tuple = (1, 2, 3, 4, 5)\n",
    "\n",
    "# Rotate the tuple to the right by 2 positions\n",
    "rotated_tuple = rotate_right_tuple(my_tuple, 2)\n",
    "\n",
    "print(rotated_tuple) \n"
   ]
  },
  {
   "cell_type": "code",
   "execution_count": 126,
   "metadata": {},
   "outputs": [
    {
     "name": "stdout",
     "output_type": "stream",
     "text": [
      "(0, 1, 1, 2, 3)\n"
     ]
    }
   ],
   "source": [
    "# 41. Create a tuple of the first 5 Fibonacci numbers.\n",
    "\n",
    "def generate_fibonacci(n):\n",
    "    fibonacci_tuple = ()\n",
    "    a, b = 0, 1\n",
    "    for _ in range(n):\n",
    "        fibonacci_tuple += (a,)\n",
    "        a, b = b, a + b\n",
    "    return fibonacci_tuple\n",
    "\n",
    "# Example usage:\n",
    "fibonacci_numbers = generate_fibonacci(5)\n",
    "\n",
    "print(fibonacci_numbers)\n"
   ]
  },
  {
   "cell_type": "code",
   "execution_count": 127,
   "metadata": {},
   "outputs": [
    {
     "name": "stdout",
     "output_type": "stream",
     "text": [
      "User Input Tuple: ('2',)\n"
     ]
    }
   ],
   "source": [
    "# 42. Create a tuple from user input.\n",
    "\n",
    "# Initialize an empty list to store input values\n",
    "input_list = []\n",
    "\n",
    "# Get user input for the elements\n",
    "n = int(input(\"Enter the number of elements for the tuple: \"))\n",
    "\n",
    "for i in range(n):\n",
    "    element = input(f\"Enter element {i + 1}: \")\n",
    "    input_list.append(element)\n",
    "\n",
    "# Convert the list to a tuple\n",
    "user_tuple = tuple(input_list)\n",
    "\n",
    "# Display the resulting tuple\n",
    "print(\"User Input Tuple:\", user_tuple)\n"
   ]
  },
  {
   "cell_type": "code",
   "execution_count": 128,
   "metadata": {},
   "outputs": [
    {
     "name": "stdout",
     "output_type": "stream",
     "text": [
      "(1, 4, 3, 2, 5)\n"
     ]
    }
   ],
   "source": [
    "# 43. Swap two elements in a tuple.\n",
    "\n",
    "def swap_elements(input_tuple, index1, index2):\n",
    "    # Convert the tuple to a list to perform the swap\n",
    "    mutable_list = list(input_tuple)\n",
    "    \n",
    "    # Swap the elements at the specified indices\n",
    "    mutable_list[index1], mutable_list[index2] = mutable_list[index2], mutable_list[index1]\n",
    "    \n",
    "    # Convert the list back to a tuple\n",
    "    swapped_tuple = tuple(mutable_list)\n",
    "    \n",
    "    return swapped_tuple\n",
    "\n",
    "# Example usage:\n",
    "my_tuple = (1, 2, 3, 4, 5)\n",
    "index1, index2 = 1, 3  # Swap the element at index 1 and index 3\n",
    "\n",
    "result_tuple = swap_elements(my_tuple, index1, index2)\n",
    "\n",
    "print(result_tuple)  # Output: (1, 4, 3, 2, 5)\n"
   ]
  },
  {
   "cell_type": "code",
   "execution_count": 129,
   "metadata": {},
   "outputs": [
    {
     "name": "stdout",
     "output_type": "stream",
     "text": [
      "(5, 4, 3, 2, 1)\n"
     ]
    }
   ],
   "source": [
    "# 44. Reverse the elements of a tuple.\n",
    "\n",
    "def reverse_tuple(input_tuple):\n",
    "    reversed_tuple = input_tuple[::-1]\n",
    "    return reversed_tuple\n",
    "\n",
    "# Example usage:\n",
    "my_tuple = (1, 2, 3, 4, 5)\n",
    "\n",
    "reversed_result = reverse_tuple(my_tuple)\n",
    "\n",
    "print(reversed_result)  # Output: (5, 4, 3, 2, 1)\n"
   ]
  },
  {
   "cell_type": "code",
   "execution_count": 130,
   "metadata": {},
   "outputs": [
    {
     "name": "stdout",
     "output_type": "stream",
     "text": [
      "(1, 2, 4, 8, 16)\n"
     ]
    }
   ],
   "source": [
    "# 45. Create a tuple of the first `n` powers of 2.\n",
    "\n",
    "def powers_of_2(n):\n",
    "    powers_tuple = ()\n",
    "    for i in range(n):\n",
    "        powers_tuple += (2**i,)\n",
    "    return powers_tuple\n",
    "\n",
    "# Example usage:\n",
    "n = 5  # Get the first 5 powers of 2\n",
    "\n",
    "powers = powers_of_2(n)\n",
    "\n",
    "print(powers) "
   ]
  },
  {
   "cell_type": "code",
   "execution_count": 131,
   "metadata": {},
   "outputs": [
    {
     "name": "stdout",
     "output_type": "stream",
     "text": [
      "The longest string is: banana\n"
     ]
    }
   ],
   "source": [
    "# 46. Find the longest string in a tuple of strings.\n",
    "\n",
    "def find_longest_string(input_tuple):\n",
    "    if not input_tuple:\n",
    "        return None  # Return None if the tuple is empty\n",
    "    longest_string = max(input_tuple, key=len)\n",
    "    return longest_string\n",
    "\n",
    "# Example usage:\n",
    "my_tuple = (\"apple\", \"banana\", \"cherry\", \"date\", \"fig\")\n",
    "\n",
    "longest = find_longest_string(my_tuple)\n",
    "\n",
    "if longest is not None:\n",
    "    print(f\"The longest string is: {longest}\")\n",
    "else:\n",
    "    print(\"The tuple is empty.\")\n"
   ]
  },
  {
   "cell_type": "code",
   "execution_count": 132,
   "metadata": {},
   "outputs": [
    {
     "name": "stdout",
     "output_type": "stream",
     "text": [
      "The shortest string is: fig\n"
     ]
    }
   ],
   "source": [
    "# 47. Find the shortest string in a tuple of strings.\n",
    "\n",
    "def find_shortest_string(input_tuple):\n",
    "    if not input_tuple:\n",
    "        return None  # Return None if the tuple is empty\n",
    "    shortest_string = min(input_tuple, key=len)\n",
    "    return shortest_string\n",
    "\n",
    "# Example usage:\n",
    "my_tuple = (\"apple\", \"banana\", \"cherry\", \"date\", \"fig\")\n",
    "\n",
    "shortest = find_shortest_string(my_tuple)\n",
    "\n",
    "if shortest is not None:\n",
    "    print(f\"The shortest string is: {shortest}\")\n",
    "else:\n",
    "    print(\"The tuple is empty.\")\n"
   ]
  },
  {
   "cell_type": "code",
   "execution_count": 133,
   "metadata": {},
   "outputs": [
    {
     "name": "stdout",
     "output_type": "stream",
     "text": [
      "(1, 3, 6, 10, 15)\n"
     ]
    }
   ],
   "source": [
    "# 48. Create a tuple of the first `n` triangular numbers.\n",
    "\n",
    "def triangular_numbers(n):\n",
    "    triangular_tuple = ()\n",
    "    total = 0\n",
    "    for i in range(1, n + 1):\n",
    "        total += i\n",
    "        triangular_tuple += (total,)\n",
    "    return triangular_tuple\n",
    "\n",
    "# Example usage:\n",
    "n = 5  # Get the first 5 triangular numbers\n",
    "\n",
    "triangular_nums = triangular_numbers(n)\n",
    "\n",
    "print(triangular_nums)  # Output: (1, 3, 6, 10, 15)\n"
   ]
  },
  {
   "cell_type": "code",
   "execution_count": 134,
   "metadata": {},
   "outputs": [
    {
     "name": "stdout",
     "output_type": "stream",
     "text": [
      "Main tuple contains the subsequence.\n"
     ]
    }
   ],
   "source": [
    "# 49. Check if a tuple contains another tuple as a subsequence.\n",
    "\n",
    "def contains_subsequence(main_tuple, subsequence_tuple):\n",
    "    if not subsequence_tuple:\n",
    "        return True  # An empty subsequence is always a subsequence\n",
    "    len_main = len(main_tuple)\n",
    "    len_sub = len(subsequence_tuple)\n",
    "    i = 0\n",
    "    j = 0\n",
    "\n",
    "    while i < len_main:\n",
    "        if main_tuple[i] == subsequence_tuple[j]:\n",
    "            j += 1\n",
    "            if j == len_sub:\n",
    "                return True  # Found the entire subsequence\n",
    "        i += 1\n",
    "\n",
    "    return False  # Subsequence not found\n",
    "\n",
    "# Example usage:\n",
    "main_tuple = (1, 2, 3, 4, 5, 6)\n",
    "subsequence_tuple = (2, 4, 6)\n",
    "\n",
    "if contains_subsequence(main_tuple, subsequence_tuple):\n",
    "    print(\"Main tuple contains the subsequence.\")\n",
    "else:\n",
    "    print(\"Main tuple does not contain the subsequence.\")\n"
   ]
  },
  {
   "cell_type": "code",
   "execution_count": 135,
   "metadata": {},
   "outputs": [
    {
     "name": "stdout",
     "output_type": "stream",
     "text": [
      "(1, 0, 1, 0, 1, 0, 1, 0, 1, 0)\n"
     ]
    }
   ],
   "source": [
    "# 50. Create a tuple of alternating 1s and 0s of length `n`.\n",
    "\n",
    "def alternating_ones_and_zeros(n):\n",
    "    alternating_list = [1 if i % 2 == 0 else 0 for i in range(n)]\n",
    "    alternating_tuple = tuple(alternating_list)\n",
    "    return alternating_tuple\n",
    "\n",
    "# Example usage:\n",
    "n = 10  # Length of the tuple\n",
    "\n",
    "alternating_sequence = alternating_ones_and_zeros(n)\n",
    "\n",
    "print(alternating_sequence)\n"
   ]
  },
  {
   "cell_type": "markdown",
   "metadata": {},
   "source": [
    "## Set Based Practice Problem :"
   ]
  },
  {
   "cell_type": "code",
   "execution_count": 136,
   "metadata": {},
   "outputs": [
    {
     "name": "stdout",
     "output_type": "stream",
     "text": [
      "{1, 2, 3, 4, 5}\n"
     ]
    }
   ],
   "source": [
    "# 1. Create a set with integers from 1 to 5.\n",
    "\n",
    "my_set = set([1, 2, 3, 4, 5])\n",
    "print(my_set)"
   ]
  },
  {
   "cell_type": "code",
   "execution_count": 137,
   "metadata": {},
   "outputs": [
    {
     "name": "stdout",
     "output_type": "stream",
     "text": [
      "{1, 2, 3, 4, 5, 6}\n"
     ]
    }
   ],
   "source": [
    "# 2. Add an element to a set.\n",
    "\n",
    "my_set = set([1, 2, 3, 4, 5])\n",
    "\n",
    "# Adding an element (e.g., 6) to the set\n",
    "my_set.add(6)\n",
    "\n",
    "print(my_set)\n"
   ]
  },
  {
   "cell_type": "code",
   "execution_count": 138,
   "metadata": {},
   "outputs": [
    {
     "name": "stdout",
     "output_type": "stream",
     "text": [
      "{1, 2, 4, 5}\n"
     ]
    }
   ],
   "source": [
    "# 3. Remove an element from a set.\n",
    "\n",
    "my_set = set([1, 2, 3, 4, 5])\n",
    "\n",
    "# Removing an element (e.g., 3) from the set\n",
    "my_set.remove(3)\n",
    "\n",
    "print(my_set)\n"
   ]
  },
  {
   "cell_type": "code",
   "execution_count": 139,
   "metadata": {},
   "outputs": [
    {
     "name": "stdout",
     "output_type": "stream",
     "text": [
      "3 exists in the set\n"
     ]
    }
   ],
   "source": [
    "# 4. Check if an element exists in a set.\n",
    "\n",
    "my_set = set([1, 2, 3, 4, 5])\n",
    "\n",
    "# Check if an element (e.g., 3) exists in the set using the 'in' keyword\n",
    "if 3 in my_set:\n",
    "    print(\"3 exists in the set\")\n",
    "else:\n",
    "    print(\"3 does not exist in the set\")\n"
   ]
  },
  {
   "cell_type": "code",
   "execution_count": 140,
   "metadata": {},
   "outputs": [
    {
     "name": "stdout",
     "output_type": "stream",
     "text": [
      "Length of the set: 5\n"
     ]
    }
   ],
   "source": [
    "# 5. Find the length of a set without using the `len()` function.\n",
    "\n",
    "my_set = set([1, 2, 3, 4, 5])\n",
    "\n",
    "# Initialize a counter\n",
    "length = 0\n",
    "\n",
    "# Iterate through the set and increment the counter for each element\n",
    "for _ in my_set:\n",
    "    length += 1\n",
    "\n",
    "# The 'length' variable now contains the length of the set\n",
    "print(\"Length of the set:\", length)\n"
   ]
  },
  {
   "cell_type": "code",
   "execution_count": 141,
   "metadata": {},
   "outputs": [
    {
     "name": "stdout",
     "output_type": "stream",
     "text": [
      "set()\n"
     ]
    }
   ],
   "source": [
    "# 6. Clear all elements from a set.\n",
    "\n",
    "my_set = set([1, 2, 3, 4, 5])\n",
    "\n",
    "# Clear all elements from the set\n",
    "my_set.clear()\n",
    "\n",
    "print(my_set)\n"
   ]
  },
  {
   "cell_type": "code",
   "execution_count": 142,
   "metadata": {},
   "outputs": [
    {
     "name": "stdout",
     "output_type": "stream",
     "text": [
      "{2, 4, 6, 8, 10}\n"
     ]
    }
   ],
   "source": [
    "# 7. Create a set of even numbers from 1 to 10.\n",
    "\n",
    "even_numbers_set = {x for x in range(1, 11) if x % 2 == 0}\n",
    "print(even_numbers_set)"
   ]
  },
  {
   "cell_type": "code",
   "execution_count": 143,
   "metadata": {},
   "outputs": [
    {
     "name": "stdout",
     "output_type": "stream",
     "text": [
      "{1, 3, 5, 7, 9}\n"
     ]
    }
   ],
   "source": [
    "# 8. Create a set of odd numbers from 1 to 10.\n",
    "\n",
    "odd_numbers_set = {x for x in range(1, 11) if x % 2 != 0}\n",
    "print(odd_numbers_set)"
   ]
  },
  {
   "cell_type": "code",
   "execution_count": 144,
   "metadata": {},
   "outputs": [
    {
     "name": "stdout",
     "output_type": "stream",
     "text": [
      "{1, 2, 3, 4, 5, 6, 7}\n"
     ]
    }
   ],
   "source": [
    "# 9. Find the union of two sets.\n",
    "\n",
    "set1 = {1, 2, 3, 4, 5}\n",
    "set2 = {3, 4, 5, 6, 7}\n",
    "\n",
    "# Find the union of set1 and set2 using the union() method\n",
    "union_set = set1.union(set2)\n",
    "\n",
    "# union_set now contains all unique elements from both sets\n",
    "print(union_set)\n"
   ]
  },
  {
   "cell_type": "code",
   "execution_count": 145,
   "metadata": {},
   "outputs": [
    {
     "name": "stdout",
     "output_type": "stream",
     "text": [
      "{3, 4, 5}\n"
     ]
    }
   ],
   "source": [
    "# 10. Find the intersection of two sets.\n",
    "\n",
    "set1 = {1, 2, 3, 4, 5}\n",
    "set2 = {3, 4, 5, 6, 7}\n",
    "\n",
    "# Find the intersection of set1 and set2 using the intersection() method\n",
    "intersection_set = set1.intersection(set2)\n",
    "\n",
    "# intersection_set now contains elements that are common to both sets\n",
    "print(intersection_set)\n"
   ]
  },
  {
   "cell_type": "code",
   "execution_count": 146,
   "metadata": {},
   "outputs": [
    {
     "name": "stdout",
     "output_type": "stream",
     "text": [
      "{1, 2}\n"
     ]
    }
   ],
   "source": [
    "# 11. Find the difference between two sets.\n",
    "\n",
    "set1 = {1, 2, 3, 4, 5}\n",
    "set2 = {3, 4, 5, 6, 7}\n",
    "\n",
    "# Find the difference between set1 and set2 using the difference() method\n",
    "difference_set = set1.difference(set2)\n",
    "\n",
    "# difference_set now contains elements that are in set1 but not in set2\n",
    "print(difference_set)\n"
   ]
  },
  {
   "cell_type": "code",
   "execution_count": 147,
   "metadata": {},
   "outputs": [
    {
     "name": "stdout",
     "output_type": "stream",
     "text": [
      "set2 is a subset of set1\n"
     ]
    }
   ],
   "source": [
    "# 12. Check if a set is a subset of another set.\n",
    "\n",
    "set1 = {1, 2, 3, 4, 5}\n",
    "set2 = {2, 4}\n",
    "\n",
    "# Check if set2 is a subset of set1 using the issubset() method\n",
    "is_subset = set2.issubset(set1)\n",
    "\n",
    "if is_subset:\n",
    "    print(\"set2 is a subset of set1\")\n",
    "else:\n",
    "    print(\"set2 is not a subset of set1\")\n"
   ]
  },
  {
   "cell_type": "code",
   "execution_count": 148,
   "metadata": {},
   "outputs": [
    {
     "name": "stdout",
     "output_type": "stream",
     "text": [
      "set1 is a superset of set2\n"
     ]
    }
   ],
   "source": [
    "# 13. Check if a set is a superset of another set.\n",
    "\n",
    "set1 = {1, 2, 3, 4, 5}\n",
    "set2 = {2, 4}\n",
    "\n",
    "# Check if set1 is a superset of set2 using the issuperset() method\n",
    "is_superset = set1.issuperset(set2)\n",
    "\n",
    "if is_superset:\n",
    "    print(\"set1 is a superset of set2\")\n",
    "else:\n",
    "    print(\"set1 is not a superset of set2\")\n"
   ]
  },
  {
   "cell_type": "code",
   "execution_count": 149,
   "metadata": {},
   "outputs": [
    {
     "name": "stdout",
     "output_type": "stream",
     "text": [
      "{1, 2, 3, 4, 5}\n"
     ]
    }
   ],
   "source": [
    "# 14. Create a set from a list.\n",
    "\n",
    "my_list = [1, 2, 3, 4, 5]\n",
    "\n",
    "# Create a set from the list using the set() constructor\n",
    "my_set = set(my_list)\n",
    "\n",
    "# Now, my_set contains the elements from the list as a set\n",
    "print(my_set)\n"
   ]
  },
  {
   "cell_type": "code",
   "execution_count": 150,
   "metadata": {},
   "outputs": [
    {
     "name": "stdout",
     "output_type": "stream",
     "text": [
      "[1, 2, 3, 4, 5]\n"
     ]
    }
   ],
   "source": [
    "# 15. Convert a set to a list.\n",
    "\n",
    "my_set = {1, 2, 3, 4, 5}\n",
    "\n",
    "# Convert the set to a list using the list() constructor\n",
    "my_list = list(my_set)\n",
    "\n",
    "# Now, my_list contains the elements from the set as a list\n",
    "print(my_list)\n"
   ]
  },
  {
   "cell_type": "code",
   "execution_count": 151,
   "metadata": {},
   "outputs": [
    {
     "name": "stdout",
     "output_type": "stream",
     "text": [
      "Removed element: 1\n",
      "Updated set: {2, 3, 4, 5}\n"
     ]
    }
   ],
   "source": [
    "# 16. Remove a random element from a set.\n",
    "\n",
    "my_set = {1, 2, 3, 4, 5}\n",
    "\n",
    "# Remove a random element from the set using the pop() method\n",
    "removed_element = my_set.pop()\n",
    "\n",
    "# Print the removed element and the updated set\n",
    "print(\"Removed element:\", removed_element)\n",
    "print(\"Updated set:\", my_set)\n"
   ]
  },
  {
   "cell_type": "code",
   "execution_count": 152,
   "metadata": {},
   "outputs": [
    {
     "name": "stdout",
     "output_type": "stream",
     "text": [
      "Popped element: 1\n",
      "Updated set: {2, 3, 4, 5}\n"
     ]
    }
   ],
   "source": [
    "# 17. Pop an element from a set.\n",
    "\n",
    "my_set = {1, 2, 3, 4, 5}\n",
    "\n",
    "# Pop an element from the set using the pop() method\n",
    "popped_element = my_set.pop()\n",
    "\n",
    "# Print the popped element and the updated set\n",
    "print(\"Popped element:\", popped_element)\n",
    "print(\"Updated set:\", my_set)\n"
   ]
  },
  {
   "cell_type": "code",
   "execution_count": 153,
   "metadata": {},
   "outputs": [
    {
     "name": "stdout",
     "output_type": "stream",
     "text": [
      "The sets are disjoint (have no elements in common).\n"
     ]
    }
   ],
   "source": [
    "# 18. Check if two sets have no elements in common.\n",
    "\n",
    "set1 = {1, 2, 3}\n",
    "set2 = {4, 5, 6}\n",
    "\n",
    "# Check if set1 and set2 are disjoint using the isdisjoint() method\n",
    "are_disjoint = set1.isdisjoint(set2)\n",
    "\n",
    "if are_disjoint:\n",
    "    print(\"The sets are disjoint (have no elements in common).\")\n",
    "else:\n",
    "    print(\"The sets have at least one common element.\")\n"
   ]
  },
  {
   "cell_type": "code",
   "execution_count": 154,
   "metadata": {},
   "outputs": [
    {
     "name": "stdout",
     "output_type": "stream",
     "text": [
      "{1, 2, 6, 7}\n"
     ]
    }
   ],
   "source": [
    "# 19. Find the symmetric difference between two sets.\n",
    "\n",
    "set1 = {1, 2, 3, 4, 5}\n",
    "set2 = {3, 4, 5, 6, 7}\n",
    "\n",
    "# Find the symmetric difference between set1 and set2 using the symmetric_difference() method\n",
    "symmetric_difference_set = set1.symmetric_difference(set2)\n",
    "\n",
    "# symmetric_difference_set contains elements that are in either set1 or set2, but not both\n",
    "print(symmetric_difference_set)\n"
   ]
  },
  {
   "cell_type": "code",
   "execution_count": 155,
   "metadata": {},
   "outputs": [
    {
     "name": "stdout",
     "output_type": "stream",
     "text": [
      "{1, 2, 3, 4, 5}\n"
     ]
    }
   ],
   "source": [
    "# 20. Update a set with elements from another set.\n",
    "\n",
    "set1 = {1, 2, 3}\n",
    "set2 = {3, 4, 5}\n",
    "\n",
    "# Update set1 with elements from set2 using the update() method\n",
    "set1.update(set2)\n",
    "\n",
    "# Now, set1 contains all elements from both sets\n",
    "print(set1)\n"
   ]
  },
  {
   "cell_type": "code",
   "execution_count": 156,
   "metadata": {},
   "outputs": [
    {
     "name": "stdout",
     "output_type": "stream",
     "text": [
      "{2, 3, 5, 7, 11}\n"
     ]
    }
   ],
   "source": [
    "# 21. Create a set of the first 5 prime numbers.\n",
    "\n",
    "def is_prime(num):\n",
    "    if num <= 1:\n",
    "        return False\n",
    "    for i in range(2, int(num**0.5) + 1):\n",
    "        if num % i == 0:\n",
    "            return False\n",
    "    return True\n",
    "\n",
    "def generate_first_n_primes(n):\n",
    "    primes = set()\n",
    "    num = 2\n",
    "    while len(primes) < n:\n",
    "        if is_prime(num):\n",
    "            primes.add(num)\n",
    "        num += 1\n",
    "    return primes\n",
    "\n",
    "# Call the function to generate the first 5 prime numbers\n",
    "first_5_primes = generate_first_n_primes(5)\n",
    "\n",
    "# Print the set of the first 5 prime numbers\n",
    "print(first_5_primes)\n"
   ]
  },
  {
   "cell_type": "code",
   "execution_count": 157,
   "metadata": {},
   "outputs": [
    {
     "name": "stdout",
     "output_type": "stream",
     "text": [
      "The sets are identical.\n"
     ]
    }
   ],
   "source": [
    "# 22. Check if two sets are identical.\n",
    "\n",
    "# Define two sets\n",
    "set1 = {1, 2, 3}\n",
    "set2 = {3, 2, 1}\n",
    "\n",
    "# Check if the sets are identical\n",
    "if set1 == set2:\n",
    "    print(\"The sets are identical.\")\n",
    "else:\n",
    "    print(\"The sets are not identical.\")\n"
   ]
  },
  {
   "cell_type": "code",
   "execution_count": 158,
   "metadata": {},
   "outputs": [
    {
     "name": "stdout",
     "output_type": "stream",
     "text": [
      "frozenset({1, 2, 3, 4, 5})\n"
     ]
    }
   ],
   "source": [
    "# 23. Create a frozen set.\n",
    "\n",
    "# Create a regular set\n",
    "my_set = {1, 2, 3, 4, 5}\n",
    "\n",
    "# Convert the regular set to a frozen set\n",
    "my_frozen_set = frozenset(my_set)\n",
    "\n",
    "# Print the frozen set\n",
    "print(my_frozen_set)\n"
   ]
  },
  {
   "cell_type": "code",
   "execution_count": 159,
   "metadata": {},
   "outputs": [
    {
     "name": "stdout",
     "output_type": "stream",
     "text": [
      "The sets are disjoint.\n"
     ]
    }
   ],
   "source": [
    "# 24. Check if a set is disjoint with another set.\n",
    "\n",
    "# Define two sets\n",
    "set1 = {1, 2, 3}\n",
    "set2 = {4, 5, 6}\n",
    "\n",
    "# Check if the sets are disjoint\n",
    "if set1.isdisjoint(set2):\n",
    "    print(\"The sets are disjoint.\")\n",
    "else:\n",
    "    print(\"The sets are not disjoint.\")\n"
   ]
  },
  {
   "cell_type": "code",
   "execution_count": 160,
   "metadata": {},
   "outputs": [
    {
     "name": "stdout",
     "output_type": "stream",
     "text": [
      "{1, 4, 9, 16, 25}\n"
     ]
    }
   ],
   "source": [
    "# 25. Create a set of squares of numbers from 1 to 5.\n",
    "\n",
    "# Create a set of squares of numbers from 1 to 5\n",
    "squares_set = {x**2 for x in range(1, 6)}\n",
    "\n",
    "# Print the set\n",
    "print(squares_set)\n"
   ]
  },
  {
   "cell_type": "code",
   "execution_count": 161,
   "metadata": {},
   "outputs": [
    {
     "name": "stdout",
     "output_type": "stream",
     "text": [
      "{2, 4, 6, 8, 10}\n"
     ]
    }
   ],
   "source": [
    "# 26. Filter out all even numbers from a set.\n",
    "\n",
    "# Create a set with some numbers\n",
    "original_set = {1, 2, 3, 4, 5, 6, 7, 8, 9, 10}\n",
    "\n",
    "# Use a set comprehension to filter out even numbers\n",
    "filtered_set = {x for x in original_set if x % 2 == 0}\n",
    "\n",
    "# Print the filtered set\n",
    "print(filtered_set)\n"
   ]
  },
  {
   "cell_type": "code",
   "execution_count": 162,
   "metadata": {},
   "outputs": [
    {
     "name": "stdout",
     "output_type": "stream",
     "text": [
      "{2, 4, 6, 8, 10}\n"
     ]
    }
   ],
   "source": [
    "# 27. Multiply all elements in a set by 2.\n",
    "\n",
    "# Create a set with some numbers\n",
    "original_set = {1, 2, 3, 4, 5}\n",
    "\n",
    "# Create a new set with elements multiplied by 2\n",
    "new_set = {x * 2 for x in original_set}\n",
    "\n",
    "# Print the new set\n",
    "print(new_set)\n"
   ]
  },
  {
   "cell_type": "code",
   "execution_count": 163,
   "metadata": {},
   "outputs": [
    {
     "name": "stdout",
     "output_type": "stream",
     "text": [
      "{32, 4, 36, 14, 15, 82, 18, 29, 95}\n"
     ]
    }
   ],
   "source": [
    "# 28. Create a set of random numbers.\n",
    "\n",
    "import random\n",
    "\n",
    "# Set the seed for reproducibility (optional)\n",
    "random.seed(42)\n",
    "\n",
    "# Create an empty set to store random numbers\n",
    "random_numbers_set = set()\n",
    "\n",
    "# Generate and add random numbers to the set\n",
    "for _ in range(10):  # Change 10 to the desired number of random numbers\n",
    "    random_number = random.randint(1, 100)  # Change the range as needed\n",
    "    random_numbers_set.add(random_number)\n",
    "\n",
    "# Print the set of random numbers\n",
    "print(random_numbers_set)\n"
   ]
  },
  {
   "cell_type": "code",
   "execution_count": 164,
   "metadata": {},
   "outputs": [
    {
     "name": "stdout",
     "output_type": "stream",
     "text": [
      "The set is empty.\n"
     ]
    }
   ],
   "source": [
    "# 29. Check if a set is empty.\n",
    "\n",
    "# Create an empty set\n",
    "my_set = set()\n",
    "\n",
    "# Check if the set is empty\n",
    "if len(my_set) == 0:\n",
    "    print(\"The set is empty.\")\n",
    "else:\n",
    "    print(\"The set is not empty.\")\n"
   ]
  },
  {
   "cell_type": "code",
   "execution_count": 165,
   "metadata": {},
   "outputs": [
    {
     "name": "stdout",
     "output_type": "stream",
     "text": [
      "{frozenset({1, 2, 3}), frozenset({4, 5, 6}), frozenset({8, 9, 7})}\n"
     ]
    }
   ],
   "source": [
    "# 30. Create a nested set (hint: use frozenset).\n",
    "\n",
    "# Create three frozensets\n",
    "frozen_set1 = frozenset({1, 2, 3})\n",
    "frozen_set2 = frozenset({4, 5, 6})\n",
    "frozen_set3 = frozenset({7, 8, 9})\n",
    "\n",
    "# Create a set containing the three frozensets\n",
    "nested_set = {frozen_set1, frozen_set2, frozen_set3}\n",
    "\n",
    "# Print the nested set\n",
    "print(nested_set)\n"
   ]
  },
  {
   "cell_type": "code",
   "execution_count": 166,
   "metadata": {},
   "outputs": [
    {
     "name": "stdout",
     "output_type": "stream",
     "text": [
      "{1, 2, 4, 5}\n"
     ]
    }
   ],
   "source": [
    "# 31. Remove an element from a set using the discard method.\n",
    "\n",
    "# Create a set\n",
    "my_set = {1, 2, 3, 4, 5}\n",
    "\n",
    "# Remove an element using the discard() method\n",
    "my_set.discard(3)\n",
    "\n",
    "# Print the updated set\n",
    "print(my_set)\n"
   ]
  },
  {
   "cell_type": "code",
   "execution_count": 167,
   "metadata": {},
   "outputs": [
    {
     "name": "stdout",
     "output_type": "stream",
     "text": [
      "The sets are equal.\n"
     ]
    }
   ],
   "source": [
    "# 32. Compare two sets.\n",
    "\n",
    "set1 = {1, 2, 3}\n",
    "set2 = {3, 2, 1}\n",
    "\n",
    "if set1 == set2:\n",
    "    print(\"The sets are equal.\")\n",
    "else:\n",
    "    print(\"The sets are not equal.\")\n"
   ]
  },
  {
   "cell_type": "code",
   "execution_count": 169,
   "metadata": {},
   "outputs": [
    {
     "name": "stdout",
     "output_type": "stream",
     "text": [
      "{'e', 'l', 'h', 'o'}\n"
     ]
    }
   ],
   "source": [
    "# 33. Create a set from a string.\n",
    "\n",
    "# Create a string\n",
    "my_string = \"hello\"\n",
    "\n",
    "# Create an empty set to store characters from the string\n",
    "my_set = set()\n",
    "\n",
    "# Add each character from the string to the set\n",
    "for char in my_string:\n",
    "    my_set.add(char)\n",
    "\n",
    "# Print the set\n",
    "print(my_set)\n"
   ]
  },
  {
   "cell_type": "code",
   "execution_count": 170,
   "metadata": {},
   "outputs": [
    {
     "name": "stdout",
     "output_type": "stream",
     "text": [
      "{1, 2, 3, 4, 5}\n"
     ]
    }
   ],
   "source": [
    "# 34. Convert a set of strings to a set of integers.\n",
    "\n",
    "# Create a set of strings\n",
    "string_set = {\"1\", \"2\", \"3\", \"4\", \"5\"}\n",
    "\n",
    "# Create an empty set to store integers\n",
    "integer_set = set()\n",
    "\n",
    "# Convert and add each string to the set of integers\n",
    "for string in string_set:\n",
    "    integer = int(string)\n",
    "    integer_set.add(integer)\n",
    "\n",
    "# Print the set of integers\n",
    "print(integer_set)\n"
   ]
  },
  {
   "cell_type": "code",
   "execution_count": 171,
   "metadata": {},
   "outputs": [
    {
     "name": "stdout",
     "output_type": "stream",
     "text": [
      "{'2', '3', '1', '5', '4'}\n"
     ]
    }
   ],
   "source": [
    "# 35. Convert a set of integers to a set of strings.\n",
    "\n",
    "# Create a set of integers\n",
    "integer_set = {1, 2, 3, 4, 5}\n",
    "\n",
    "# Create an empty set to store strings\n",
    "string_set = set()\n",
    "\n",
    "# Convert and add each integer to the set of strings\n",
    "for integer in integer_set:\n",
    "    string = str(integer)\n",
    "    string_set.add(string)\n",
    "\n",
    "# Print the set of strings\n",
    "print(string_set)\n"
   ]
  },
  {
   "cell_type": "code",
   "execution_count": 172,
   "metadata": {},
   "outputs": [
    {
     "name": "stdout",
     "output_type": "stream",
     "text": [
      "{1, 2, 3, 4, 5}\n"
     ]
    }
   ],
   "source": [
    "# 36. Create a set from a tuple.\n",
    "\n",
    "# Create a tuple\n",
    "my_tuple = (1, 2, 3, 4, 5)\n",
    "\n",
    "# Create a set from the tuple\n",
    "my_set = set(my_tuple)\n",
    "\n",
    "# Print the set\n",
    "print(my_set)\n"
   ]
  },
  {
   "cell_type": "code",
   "execution_count": 173,
   "metadata": {},
   "outputs": [
    {
     "name": "stdout",
     "output_type": "stream",
     "text": [
      "(1, 2, 3, 4, 5)\n"
     ]
    }
   ],
   "source": [
    "# 37. Convert a set to a tuple.\n",
    "\n",
    "# Create a set\n",
    "my_set = {1, 2, 3, 4, 5}\n",
    "\n",
    "# Convert the set to a tuple\n",
    "my_tuple = tuple(my_set)\n",
    "\n",
    "# Print the tuple\n",
    "print(my_tuple)\n"
   ]
  },
  {
   "cell_type": "code",
   "execution_count": 174,
   "metadata": {},
   "outputs": [
    {
     "name": "stdout",
     "output_type": "stream",
     "text": [
      "The maximum value in the set is: 99\n"
     ]
    }
   ],
   "source": [
    "# 38. Find the maximum value in a set.\n",
    "\n",
    "# Create a set\n",
    "my_set = {42, 17, 5, 99, 23, 8}\n",
    "\n",
    "# Find the maximum value in the set\n",
    "maximum_value = max(my_set)\n",
    "\n",
    "# Print the maximum value\n",
    "print(\"The maximum value in the set is:\", maximum_value)\n"
   ]
  },
  {
   "cell_type": "code",
   "execution_count": 175,
   "metadata": {},
   "outputs": [
    {
     "name": "stdout",
     "output_type": "stream",
     "text": [
      "The minimum value in the set is: 5\n"
     ]
    }
   ],
   "source": [
    "# 39. Find the minimum value in a set.\n",
    "\n",
    "# Create a set\n",
    "my_set = {42, 17, 5, 99, 23, 8}\n",
    "\n",
    "# Find the minimum value in the set\n",
    "minimum_value = min(my_set)\n",
    "\n",
    "# Print the minimum value\n",
    "print(\"The minimum value in the set is:\", minimum_value)\n"
   ]
  },
  {
   "cell_type": "code",
   "execution_count": 176,
   "metadata": {},
   "outputs": [
    {
     "name": "stdout",
     "output_type": "stream",
     "text": [
      "Invalid input. Please enter a valid integer or 'done'.\n",
      "Invalid input. Please enter a valid integer or 'done'.\n",
      "User-set: {1, 2, 3, 12}\n"
     ]
    }
   ],
   "source": [
    "# 40. Create a set from user input.\n",
    "\n",
    "# Create an empty set to store user input\n",
    "user_set = set()\n",
    "\n",
    "while True:\n",
    "    user_input = input(\"Enter an element (or 'done' to finish): \")\n",
    "\n",
    "    if user_input.lower() == 'done':\n",
    "        break  # Exit the loop if the user enters 'done'\n",
    "    \n",
    "    try:\n",
    "        # Attempt to convert user input to int\n",
    "        element = int(user_input)\n",
    "        user_set.add(element)\n",
    "    except ValueError:\n",
    "        print(\"Invalid input. Please enter a valid integer or 'done'.\")\n",
    "\n",
    "# Print the set\n",
    "print(\"User-set:\", user_set)\n"
   ]
  },
  {
   "cell_type": "code",
   "execution_count": 177,
   "metadata": {},
   "outputs": [
    {
     "name": "stdout",
     "output_type": "stream",
     "text": [
      "The intersection is not empty.\n"
     ]
    }
   ],
   "source": [
    "# 41. Check if the intersection of two sets is empty.\n",
    "\n",
    "# Define two sets\n",
    "set1 = {1, 2, 3}\n",
    "set2 = {3, 4, 5}\n",
    "\n",
    "# Check if the intersection of the sets is empty\n",
    "if not (set1 & set2):\n",
    "    print(\"The intersection is empty.\")\n",
    "else:\n",
    "    print(\"The intersection is not empty.\")\n"
   ]
  },
  {
   "cell_type": "code",
   "execution_count": 178,
   "metadata": {},
   "outputs": [
    {
     "name": "stdout",
     "output_type": "stream",
     "text": [
      "{0, 1, 2, 3, 5}\n"
     ]
    }
   ],
   "source": [
    "# 42. Create a set of the first 5 Fibonacci numbers.\n",
    "\n",
    "# Function to generate the first n Fibonacci numbers\n",
    "def generate_fibonacci(n):\n",
    "    fibonacci_set = set()\n",
    "    a, b = 0, 1\n",
    "\n",
    "    while len(fibonacci_set) < n:\n",
    "        fibonacci_set.add(a)\n",
    "        a, b = b, a + b\n",
    "\n",
    "    return fibonacci_set\n",
    "\n",
    "# Call the function to generate the first 5 Fibonacci numbers\n",
    "first_5_fibonacci = generate_fibonacci(5)\n",
    "\n",
    "# Print the set of the first 5 Fibonacci numbers\n",
    "print(first_5_fibonacci)\n"
   ]
  },
  {
   "cell_type": "code",
   "execution_count": 179,
   "metadata": {},
   "outputs": [
    {
     "name": "stdout",
     "output_type": "stream",
     "text": [
      "[1, 2, 3, 4, 5, 6]\n"
     ]
    }
   ],
   "source": [
    "# 43. Remove duplicates from a list using sets.\n",
    "\n",
    "# Create a list with duplicates\n",
    "my_list = [1, 2, 2, 3, 4, 4, 5, 6]\n",
    "\n",
    "# Remove duplicates using sets\n",
    "my_list_no_duplicates = list(set(my_list))\n",
    "\n",
    "# Print the list without duplicates\n",
    "print(my_list_no_duplicates)\n"
   ]
  },
  {
   "cell_type": "code",
   "execution_count": 180,
   "metadata": {},
   "outputs": [
    {
     "name": "stdout",
     "output_type": "stream",
     "text": [
      "The sets have the same elements.\n"
     ]
    }
   ],
   "source": [
    "# 44. Check if two sets have the same elements, regardless of their count.\n",
    "\n",
    "# Define two sets\n",
    "set1 = {1, 2, 3, 4}\n",
    "set2 = {4, 3, 2, 1}\n",
    "\n",
    "# Check if the sets have the same elements, regardless of count\n",
    "if set1 == set2:\n",
    "    print(\"The sets have the same elements.\")\n",
    "else:\n",
    "    print(\"The sets do not have the same elements.\")\n"
   ]
  },
  {
   "cell_type": "code",
   "execution_count": 181,
   "metadata": {},
   "outputs": [
    {
     "name": "stdout",
     "output_type": "stream",
     "text": [
      "{1, 2, 4, 8, 16}\n"
     ]
    }
   ],
   "source": [
    "# 45. Create a set of the first `n` powers of 2.\n",
    "\n",
    "# Function to generate the first n powers of 2\n",
    "def generate_powers_of_2(n):\n",
    "    powers_set = set()\n",
    "    power = 1\n",
    "\n",
    "    for i in range(n):\n",
    "        powers_set.add(power)\n",
    "        power *= 2\n",
    "\n",
    "    return powers_set\n",
    "\n",
    "# Call the function to generate the first n powers of 2 (e.g., n=5)\n",
    "n = 5\n",
    "first_n_powers = generate_powers_of_2(n)\n",
    "\n",
    "# Print the set of the first n powers of 2\n",
    "print(first_n_powers)\n"
   ]
  },
  {
   "cell_type": "code",
   "execution_count": 182,
   "metadata": {},
   "outputs": [
    {
     "name": "stdout",
     "output_type": "stream",
     "text": [
      "Common elements: [3, 4, 5]\n"
     ]
    }
   ],
   "source": [
    "# 46. Find the common elements between a set and a list.\n",
    "\n",
    "# Create a set\n",
    "my_set = {1, 2, 3, 4, 5}\n",
    "\n",
    "# Create a list\n",
    "my_list = [3, 4, 5, 6, 7]\n",
    "\n",
    "# Find the common elements between the set and the list\n",
    "common_elements = my_set.intersection(my_list)\n",
    "\n",
    "# Convert the result back to a list if needed\n",
    "common_elements_list = list(common_elements)\n",
    "\n",
    "# Print the common elements\n",
    "print(\"Common elements:\", common_elements_list)\n"
   ]
  },
  {
   "cell_type": "code",
   "execution_count": 184,
   "metadata": {},
   "outputs": [
    {
     "name": "stdout",
     "output_type": "stream",
     "text": [
      "{1, 3, 6, 10, 15}\n"
     ]
    }
   ],
   "source": [
    "# 47. Create a set of the first `n` triangular numbers.\n",
    "\n",
    "# Function to generate the first n triangular numbers\n",
    "def generate_triangular_numbers(n):\n",
    "    triangular_set = set()\n",
    "    current_number = 1\n",
    "    triangular_sum = 0\n",
    "\n",
    "    for i in range(n):\n",
    "        triangular_sum += current_number\n",
    "        triangular_set.add(triangular_sum)\n",
    "        current_number += 1\n",
    "\n",
    "    return triangular_set\n",
    "\n",
    "# Call the function to generate the first n triangular numbers (e.g., n=5)\n",
    "n = 5\n",
    "first_n_triangular_numbers = generate_triangular_numbers(n)\n",
    "\n",
    "# Print the set of the first n triangular numbers\n",
    "print(first_n_triangular_numbers)\n"
   ]
  },
  {
   "cell_type": "code",
   "execution_count": 185,
   "metadata": {},
   "outputs": [
    {
     "name": "stdout",
     "output_type": "stream",
     "text": [
      "set2 is a subset of set1.\n"
     ]
    }
   ],
   "source": [
    "# 48. Check if a set contains another set as a subset\n",
    "\n",
    "# Define two sets\n",
    "set1 = {1, 2, 3, 4, 5}\n",
    "set2 = {2, 3}\n",
    "\n",
    "# Check if set2 is a subset of set1 using the issubset() method\n",
    "if set2.issubset(set1):\n",
    "    print(\"set2 is a subset of set1.\")\n",
    "else:\n",
    "    print(\"set2 is not a subset of set1.\")\n"
   ]
  },
  {
   "cell_type": "code",
   "execution_count": 186,
   "metadata": {},
   "outputs": [
    {
     "name": "stdout",
     "output_type": "stream",
     "text": [
      "{0, 1}\n"
     ]
    }
   ],
   "source": [
    "# 49. Create a set of alternating 1s and 0s of length `n`.\n",
    "\n",
    "# Function to generate a set of alternating 1s and 0s of length n\n",
    "def generate_alternating_set(n):\n",
    "    alternating_set = set()\n",
    "    value = 1\n",
    "\n",
    "    for i in range(n):\n",
    "        alternating_set.add(value)\n",
    "        value = 1 - value  # Toggle between 1 and 0\n",
    "\n",
    "    return alternating_set\n",
    "\n",
    "# Call the function to generate a set of alternating 1s and 0s of length n (e.g., n=10)\n",
    "n = 10\n",
    "alternating_set = generate_alternating_set(n)\n",
    "\n",
    "# Print the set of alternating values\n",
    "print(alternating_set)\n"
   ]
  },
  {
   "cell_type": "code",
   "execution_count": 187,
   "metadata": {},
   "outputs": [
    {
     "name": "stdout",
     "output_type": "stream",
     "text": [
      "{1, 2, 3, 4, 5, 6, 7}\n"
     ]
    }
   ],
   "source": [
    "# 50. Merge multiple sets into one.\n",
    "\n",
    "# Define multiple sets\n",
    "set1 = {1, 2, 3}\n",
    "set2 = {3, 4, 5}\n",
    "set3 = {5, 6, 7}\n",
    "\n",
    "# Merge (combine) the sets using the | (union) operator\n",
    "merged_set = set1 | set2 | set3\n",
    "\n",
    "# Print the merged set\n",
    "print(merged_set)\n"
   ]
  }
 ],
 "metadata": {
  "kernelspec": {
   "display_name": "Python 3",
   "language": "python",
   "name": "python3"
  },
  "language_info": {
   "codemirror_mode": {
    "name": "ipython",
    "version": 3
   },
   "file_extension": ".py",
   "mimetype": "text/x-python",
   "name": "python",
   "nbconvert_exporter": "python",
   "pygments_lexer": "ipython3",
   "version": "3.11.5"
  },
  "orig_nbformat": 4
 },
 "nbformat": 4,
 "nbformat_minor": 2
}
