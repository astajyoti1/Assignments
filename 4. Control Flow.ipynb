{
 "cells": [
  {
   "cell_type": "markdown",
   "metadata": {},
   "source": [
    "## Basic If-Else Statements:"
   ]
  },
  {
   "cell_type": "code",
   "execution_count": 1,
   "metadata": {},
   "outputs": [
    {
     "name": "stdout",
     "output_type": "stream",
     "text": [
      "The number is negative.\n"
     ]
    }
   ],
   "source": [
    "# 1. Write a Python program to check if a given number is positive or negative\n",
    "\n",
    "# Input a number from the user\n",
    "number = float(input(\"Enter a number: \"))\n",
    "\n",
    "# Check if the number is positive, negative, or zero\n",
    "if number > 0:\n",
    "    print(\"The number is positive.\")\n",
    "elif number < 0:\n",
    "    print(\"The number is negative.\")\n",
    "else:\n",
    "    print(\"The number is zero.\")\n"
   ]
  },
  {
   "cell_type": "code",
   "execution_count": 2,
   "metadata": {},
   "outputs": [
    {
     "name": "stdout",
     "output_type": "stream",
     "text": [
      "You are eligible to vote!\n"
     ]
    }
   ],
   "source": [
    "# 2. Create a program that determines if a person is eligible to vote based on their age\n",
    "\n",
    "# Input the age of the person\n",
    "age = int(input(\"Enter your age: \"))\n",
    "\n",
    "# Check if the person is eligible to vote\n",
    "if age >= 18:\n",
    "    print(\"You are eligible to vote!\")\n",
    "else:\n",
    "    print(\"You are not eligible to vote. You must be 18 years or older.\")\n"
   ]
  },
  {
   "cell_type": "code",
   "execution_count": 3,
   "metadata": {},
   "outputs": [
    {
     "name": "stdout",
     "output_type": "stream",
     "text": [
      "The maximum number is: 4.0\n"
     ]
    }
   ],
   "source": [
    "# 3. Develop a program to find the maximum of two numbers using if-else statements\n",
    "\n",
    "# Input two numbers from the user\n",
    "num1 = float(input(\"Enter the first number: \"))\n",
    "num2 = float(input(\"Enter the second number: \"))\n",
    "\n",
    "# Compare the two numbers to find the maximum\n",
    "if num1 > num2:\n",
    "    max_num = num1\n",
    "else:\n",
    "    max_num = num2\n",
    "\n",
    "# Print the maximum number\n",
    "print(f\"The maximum number is: {max_num}\")\n"
   ]
  },
  {
   "cell_type": "code",
   "execution_count": 4,
   "metadata": {},
   "outputs": [
    {
     "name": "stdout",
     "output_type": "stream",
     "text": [
      "200 is not a leap year.\n"
     ]
    }
   ],
   "source": [
    "# 4. Write a Python script to classify a given year as a leap year or not\n",
    "\n",
    "# Input a year from the user\n",
    "year = int(input(\"Enter a year: \"))\n",
    "\n",
    "# Check if it's a leap year\n",
    "if (year % 4 == 0 and year % 100 != 0) or (year % 400 == 0):\n",
    "    print(f\"{year} is a leap year.\")\n",
    "else:\n",
    "    print(f\"{year} is not a leap year.\")\n"
   ]
  },
  {
   "cell_type": "code",
   "execution_count": 5,
   "metadata": {},
   "outputs": [
    {
     "name": "stdout",
     "output_type": "stream",
     "text": [
      "a is a vowel.\n"
     ]
    }
   ],
   "source": [
    "# 5. Create a program that checks whether a character is a vowel or a consonant\n",
    "\n",
    "# Input a character from the user\n",
    "char = input(\"Enter a character: \")\n",
    "\n",
    "# Convert the character to lowercase to handle both uppercase and lowercase input\n",
    "char = char.lower()\n",
    "\n",
    "# Check if it's a vowel or a consonant\n",
    "if char.isalpha() and len(char) == 1:\n",
    "    if char in \"aeiou\":\n",
    "        print(f\"{char} is a vowel.\")\n",
    "    else:\n",
    "        print(f\"{char} is a consonant.\")\n",
    "else:\n",
    "    print(\"Please enter a single alphabetic character.\")\n"
   ]
  },
  {
   "cell_type": "code",
   "execution_count": 6,
   "metadata": {},
   "outputs": [
    {
     "name": "stdout",
     "output_type": "stream",
     "text": [
      "23 is odd.\n"
     ]
    }
   ],
   "source": [
    "# 6. Implement a program to determine whether a given number is even or odd\n",
    "\n",
    "# Input a number from the user\n",
    "number = int(input(\"Enter a number: \"))\n",
    "\n",
    "# Check if the number is even or odd\n",
    "if number % 2 == 0:\n",
    "    print(f\"{number} is even.\")\n",
    "else:\n",
    "    print(f\"{number} is odd.\")\n"
   ]
  },
  {
   "cell_type": "code",
   "execution_count": 7,
   "metadata": {},
   "outputs": [
    {
     "name": "stdout",
     "output_type": "stream",
     "text": [
      "The absolute value of -89.0 is 89.0\n"
     ]
    }
   ],
   "source": [
    "# 7. Write a Python function to calculate the absolute value of a number without using the `abs()` function\n",
    "\n",
    "def absolute_value(number):\n",
    "    if number < 0:\n",
    "        return -number\n",
    "    else:\n",
    "        return number\n",
    "\n",
    "# Test the function\n",
    "num = float(input(\"Enter a number: \"))\n",
    "result = absolute_value(num)\n",
    "print(f\"The absolute value of {num} is {result}\")\n"
   ]
  },
  {
   "cell_type": "code",
   "execution_count": 8,
   "metadata": {},
   "outputs": [
    {
     "name": "stdout",
     "output_type": "stream",
     "text": [
      "The largest number is: 36.0\n"
     ]
    }
   ],
   "source": [
    "# 8. Develop a program that determines the largest of three given numbers using if-else statements\n",
    "\n",
    "# Input three numbers from the user\n",
    "num1 = float(input(\"Enter the first number: \"))\n",
    "num2 = float(input(\"Enter the second number: \"))\n",
    "num3 = float(input(\"Enter the third number: \"))\n",
    "\n",
    "# Compare the numbers to find the largest\n",
    "if num1 >= num2 and num1 >= num3:\n",
    "    largest = num1\n",
    "elif num2 >= num1 and num2 >= num3:\n",
    "    largest = num2\n",
    "else:\n",
    "    largest = num3\n",
    "\n",
    "# Print the largest number\n",
    "print(f\"The largest number is: {largest}\")\n"
   ]
  },
  {
   "cell_type": "code",
   "execution_count": 9,
   "metadata": {},
   "outputs": [
    {
     "name": "stdout",
     "output_type": "stream",
     "text": [
      "hello is not a palindrome.\n"
     ]
    }
   ],
   "source": [
    "# 9. Create a program that checks if a given string is a palindrome.\n",
    "\n",
    "# Function to check if a string is a palindrome\n",
    "def is_palindrome(input_string):\n",
    "    # Remove spaces and convert to lowercase\n",
    "    cleaned_string = input_string.replace(\" \", \"\").lower()\n",
    "    # Check if the cleaned string is equal to its reverse\n",
    "    return cleaned_string == cleaned_string[::-1]\n",
    "\n",
    "# Input a string from the user\n",
    "input_str = input(\"Enter a string: \")\n",
    "\n",
    "# Check if it's a palindrome\n",
    "if is_palindrome(input_str):\n",
    "    print(f\"{input_str} is a palindrome.\")\n",
    "else:\n",
    "    print(f\"{input_str} is not a palindrome.\")\n"
   ]
  },
  {
   "cell_type": "code",
   "execution_count": 10,
   "metadata": {},
   "outputs": [
    {
     "name": "stdout",
     "output_type": "stream",
     "text": [
      "The student's grade is: F\n"
     ]
    }
   ],
   "source": [
    "# 10. Write a Python program to calculate the grade based on a student's score\n",
    "\n",
    "# Input the student's score\n",
    "score = float(input(\"Enter the student's score: \"))\n",
    "\n",
    "# Define the grading scale\n",
    "A_score = 90\n",
    "B_score = 80\n",
    "C_score = 70\n",
    "D_score = 60\n",
    "\n",
    "# Determine the grade\n",
    "if score >= A_score:\n",
    "    grade = \"A\"\n",
    "elif score >= B_score:\n",
    "    grade = \"B\"\n",
    "elif score >= C_score:\n",
    "    grade = \"C\"\n",
    "elif score >= D_score:\n",
    "    grade = \"D\"\n",
    "else:\n",
    "    grade = \"F\"\n",
    "\n",
    "# Print the grade\n",
    "print(f\"The student's grade is: {grade}\")\n"
   ]
  },
  {
   "cell_type": "markdown",
   "metadata": {},
   "source": [
    "## Nested If-Else Statements:"
   ]
  },
  {
   "cell_type": "code",
   "execution_count": 11,
   "metadata": {},
   "outputs": [
    {
     "name": "stdout",
     "output_type": "stream",
     "text": [
      "The largest number is: 5.0\n"
     ]
    }
   ],
   "source": [
    "# 11. Write a program to find the largest among three numbers using nested if-else statements\n",
    "\n",
    "# Input three numbers from the user\n",
    "num1 = float(input(\"Enter the first number: \"))\n",
    "num2 = float(input(\"Enter the second number: \"))\n",
    "num3 = float(input(\"Enter the third number: \"))\n",
    "\n",
    "# Compare the numbers to find the largest using nested if-else statements\n",
    "if num1 >= num2:\n",
    "    if num1 >= num3:\n",
    "        largest = num1\n",
    "    else:\n",
    "        largest = num3\n",
    "else:\n",
    "    if num2 >= num3:\n",
    "        largest = num2\n",
    "    else:\n",
    "        largest = num3\n",
    "\n",
    "# Print the largest number\n",
    "print(f\"The largest number is: {largest}\")\n"
   ]
  },
  {
   "cell_type": "code",
   "execution_count": 12,
   "metadata": {},
   "outputs": [
    {
     "name": "stdout",
     "output_type": "stream",
     "text": [
      "The triangle is a equilateral triangle.\n"
     ]
    }
   ],
   "source": [
    "# 12. Implement a program to determine if a triangle is equilateral, isosceles, or scalene.\n",
    "\n",
    "# Input the lengths of the three sides of the triangle\n",
    "side1 = float(input(\"Enter the length of the first side: \"))\n",
    "side2 = float(input(\"Enter the length of the second side: \"))\n",
    "side3 = float(input(\"Enter the length of the third side: \"))\n",
    "\n",
    "# Check if it's a valid triangle\n",
    "if (side1 + side2 > side3) and (side2 + side3 > side1) and (side1 + side3 > side2):\n",
    "    # Check for equilateral triangle\n",
    "    if side1 == side2 == side3:\n",
    "        triangle_type = \"equilateral\"\n",
    "    # Check for isosceles triangle\n",
    "    elif side1 == side2 or side2 == side3 or side1 == side3:\n",
    "        triangle_type = \"isosceles\"\n",
    "    # If not equilateral or isosceles, it's scalene\n",
    "    else:\n",
    "        triangle_type = \"scalene\"\n",
    "    \n",
    "    # Print the type of triangle\n",
    "    print(f\"The triangle is a {triangle_type} triangle.\")\n",
    "else:\n",
    "    print(\"These side lengths do not form a valid triangle.\")\n"
   ]
  },
  {
   "cell_type": "code",
   "execution_count": 13,
   "metadata": {},
   "outputs": [
    {
     "name": "stdout",
     "output_type": "stream",
     "text": [
      "2000 is a leap year and a century year.\n"
     ]
    }
   ],
   "source": [
    "# 13. Develop a program that checks if a year is a leap year and also if it is a century year\n",
    "\n",
    "# Input a year from the user\n",
    "year = int(input(\"Enter a year: \"))\n",
    "\n",
    "# Check if it's a leap year\n",
    "is_leap_year = False\n",
    "is_century_year = False\n",
    "\n",
    "# Check if it's a leap year\n",
    "if (year % 4 == 0 and year % 100 != 0) or (year % 400 == 0):\n",
    "    is_leap_year = True\n",
    "\n",
    "# Check if it's a century year\n",
    "if year % 100 == 0:\n",
    "    is_century_year = True\n",
    "\n",
    "# Print the results\n",
    "if is_leap_year:\n",
    "    if is_century_year:\n",
    "        print(f\"{year} is a leap year and a century year.\")\n",
    "    else:\n",
    "        print(f\"{year} is a leap year but not a century year.\")\n",
    "else:\n",
    "    print(f\"{year} is not a leap year.\")\n"
   ]
  },
  {
   "cell_type": "code",
   "execution_count": 14,
   "metadata": {},
   "outputs": [
    {
     "name": "stdout",
     "output_type": "stream",
     "text": [
      "The number is positive.\n"
     ]
    }
   ],
   "source": [
    "# 14. Write a Python script to determine if a number is positive, negative, or zero.\n",
    "\n",
    "# Input a number from the user\n",
    "number = float(input(\"Enter a number: \"))\n",
    "\n",
    "# Check if the number is positive, negative, or zero\n",
    "if number > 0:\n",
    "    print(\"The number is positive.\")\n",
    "elif number < 0:\n",
    "    print(\"The number is negative.\")\n",
    "else:\n",
    "    print(\"The number is zero.\")\n"
   ]
  },
  {
   "cell_type": "code",
   "execution_count": 15,
   "metadata": {},
   "outputs": [
    {
     "name": "stdout",
     "output_type": "stream",
     "text": [
      "You are not a teenager.\n"
     ]
    }
   ],
   "source": [
    "# 15. Create a program to check if a person is a teenager (between 13 and 19 years old).\n",
    "\n",
    "# Input the person's age\n",
    "age = int(input(\"Enter your age: \"))\n",
    "\n",
    "# Check if the person is a teenager\n",
    "if 13 <= age <= 19:\n",
    "    print(\"You are a teenager.\")\n",
    "else:\n",
    "    print(\"You are not a teenager.\")\n"
   ]
  },
  {
   "cell_type": "code",
   "execution_count": 16,
   "metadata": {},
   "outputs": [
    {
     "name": "stdout",
     "output_type": "stream",
     "text": [
      "The angle is acute.\n"
     ]
    }
   ],
   "source": [
    "# 16. Develop a program that determines the type of angle based on its measure (acute, obtuse, or right).\n",
    "\n",
    "# Input the angle measure from the user\n",
    "angle = float(input(\"Enter the angle measure in degrees: \"))\n",
    "\n",
    "# Check the type of angle\n",
    "if angle > 0 and angle < 90:\n",
    "    angle_type = \"acute\"\n",
    "elif angle == 90:\n",
    "    angle_type = \"right\"\n",
    "elif angle > 90 and angle < 180:\n",
    "    angle_type = \"obtuse\"\n",
    "else:\n",
    "    angle_type = \"invalid\"\n",
    "\n",
    "# Print the type of angle\n",
    "if angle_type == \"invalid\":\n",
    "    print(\"The angle measure is not valid.\")\n",
    "else:\n",
    "    print(f\"The angle is {angle_type}.\")\n"
   ]
  },
  {
   "cell_type": "code",
   "execution_count": 17,
   "metadata": {},
   "outputs": [
    {
     "name": "stdout",
     "output_type": "stream",
     "text": [
      "The roots are complex: (-1+1.5811388300841898j) and (-1-1.5811388300841898j)\n"
     ]
    }
   ],
   "source": [
    "# 17. Write a Python program to calculate the roots of a quadratic equation\n",
    "\n",
    "# Import the complex math module for handling complex roots\n",
    "import cmath\n",
    "\n",
    "# Input coefficients from the user\n",
    "a = float(input(\"Enter the coefficient 'a': \"))\n",
    "b = float(input(\"Enter the coefficient 'b': \"))\n",
    "c = float(input(\"Enter the coefficient 'c': \"))\n",
    "\n",
    "# Calculate the discriminant (the value under the square root)\n",
    "discriminant = b**2 - 4*a*c\n",
    "\n",
    "# Calculate the roots\n",
    "if discriminant > 0:\n",
    "    # Two real and distinct roots\n",
    "    root1 = (-b + (discriminant ** 0.5)) / (2*a)\n",
    "    root2 = (-b - (discriminant ** 0.5)) / (2*a)\n",
    "    print(f\"The roots are real and distinct: {root1} and {root2}\")\n",
    "elif discriminant == 0:\n",
    "    # One real root (a repeated root)\n",
    "    root1 = -b / (2*a)\n",
    "    print(f\"The root is real and repeated: {root1}\")\n",
    "else:\n",
    "    # Complex roots\n",
    "    real_part = -b / (2*a)\n",
    "    imaginary_part = cmath.sqrt(-discriminant) / (2*a)\n",
    "    root1 = complex(real_part, imaginary_part)\n",
    "    root2 = complex(real_part, -imaginary_part)\n",
    "    print(f\"The roots are complex: {root1} and {root2}\")\n"
   ]
  },
  {
   "cell_type": "code",
   "execution_count": 18,
   "metadata": {},
   "outputs": [
    {
     "name": "stdout",
     "output_type": "stream",
     "text": [
      "The day corresponding to number 5 is Friday.\n"
     ]
    }
   ],
   "source": [
    "# 18. Implement a program to determine the day of the week based on a user-provided number (1 for Monday, 2 for Tuesday, etc.).\n",
    "\n",
    "# Input a number from the user\n",
    "day_number = int(input(\"Enter a number (1 for Monday, 2 for Tuesday, etc.): \"))\n",
    "\n",
    "# Define a list of day names\n",
    "days_of_week = [\"Monday\", \"Tuesday\", \"Wednesday\", \"Thursday\", \"Friday\", \"Saturday\", \"Sunday\"]\n",
    "\n",
    "# Check if the input number is valid\n",
    "if 1 <= day_number <= 7:\n",
    "    # Subtract 1 from the input number to access the correct day from the list\n",
    "    day_name = days_of_week[day_number - 1]\n",
    "    print(f\"The day corresponding to number {day_number} is {day_name}.\")\n",
    "else:\n",
    "    print(\"Invalid input. Please enter a number between 1 and 7.\")\n"
   ]
  },
  {
   "cell_type": "code",
   "execution_count": 19,
   "metadata": {},
   "outputs": [
    {
     "name": "stdout",
     "output_type": "stream",
     "text": [
      "2020 is a leap year and evenly divisible by 400.\n"
     ]
    }
   ],
   "source": [
    "# 19. Create a program that determines if a year is a leap year and also if it is evenly divisible by 400.\n",
    "\n",
    "# Input a year from the user\n",
    "year = int(input(\"Enter a year: \"))\n",
    "\n",
    "# Check if it's a leap year and also divisible by 400\n",
    "is_leap_year = (year % 4 == 0 and year % 100 != 0) or (year % 400 == 0)\n",
    "\n",
    "# Print the results\n",
    "if is_leap_year:\n",
    "    print(f\"{year} is a leap year and evenly divisible by 400.\")\n",
    "else:\n",
    "    print(f\"{year} is not a leap year or not evenly divisible by 400.\")\n"
   ]
  },
  {
   "cell_type": "code",
   "execution_count": 20,
   "metadata": {},
   "outputs": [
    {
     "name": "stdout",
     "output_type": "stream",
     "text": [
      "24 is not a prime number.\n"
     ]
    }
   ],
   "source": [
    "# 20. Develop a program that checks if a given number is prime or not using nested if-else statements.\n",
    "\n",
    "# Input a number from the user\n",
    "num = int(input(\"Enter a number: \"))\n",
    "\n",
    "# Check if it's a prime number\n",
    "if num > 1:\n",
    "    # Iterate from 2 to the square root of the number\n",
    "    for i in range(2, int(num**0.5) + 1):\n",
    "        # Check if num is divisible by any number in the range\n",
    "        if num % i == 0:\n",
    "            print(f\"{num} is not a prime number.\")\n",
    "            break\n",
    "    else:\n",
    "        print(f\"{num} is a prime number.\")\n",
    "else:\n",
    "    print(f\"{num} is not a prime number.\")\n"
   ]
  },
  {
   "cell_type": "markdown",
   "metadata": {},
   "source": [
    "## Elif Statements:"
   ]
  },
  {
   "cell_type": "code",
   "execution_count": 21,
   "metadata": {},
   "outputs": [
    {
     "name": "stdout",
     "output_type": "stream",
     "text": [
      "The student's grade is: F\n"
     ]
    }
   ],
   "source": [
    "# 21. Write a Python program to assign grades based on different ranges of scores using elif statements.\n",
    "\n",
    "# Input the student's score\n",
    "score = float(input(\"Enter the student's score: \"))\n",
    "\n",
    "# Assign grades based on score ranges using elif statements\n",
    "if 90 <= score <= 100:\n",
    "    grade = \"A\"\n",
    "elif 80 <= score < 90:\n",
    "    grade = \"B\"\n",
    "elif 70 <= score < 80:\n",
    "    grade = \"C\"\n",
    "elif 60 <= score < 70:\n",
    "    grade = \"D\"\n",
    "elif 0 <= score < 60:\n",
    "    grade = \"F\"\n",
    "else:\n",
    "    grade = \"Invalid input (score out of range)\"\n",
    "\n",
    "# Print the assigned grade\n",
    "print(f\"The student's grade is: {grade}\")\n"
   ]
  },
  {
   "cell_type": "code",
   "execution_count": 22,
   "metadata": {},
   "outputs": [
    {
     "name": "stdout",
     "output_type": "stream",
     "text": [
      "These angles do not form a valid triangle.\n"
     ]
    }
   ],
   "source": [
    "# 22. Implement a program to determine the type of a triangle based on its angles\n",
    "\n",
    "# Input the measures of the three angles of the triangle\n",
    "angle1 = float(input(\"Enter the measure of the first angle in degrees: \"))\n",
    "angle2 = float(input(\"Enter the measure of the second angle in degrees: \"))\n",
    "angle3 = float(input(\"Enter the measure of the third angle in degrees: \"))\n",
    "\n",
    "# Check the type of triangle based on its angles\n",
    "if angle1 + angle2 + angle3 == 180:\n",
    "    if angle1 < 90 and angle2 < 90 and angle3 < 90:\n",
    "        triangle_type = \"acute\"\n",
    "    elif angle1 == 90 or angle2 == 90 or angle3 == 90:\n",
    "        triangle_type = \"right\"\n",
    "    else:\n",
    "        triangle_type = \"obtuse\"\n",
    "    print(f\"The triangle is a {triangle_type} triangle.\")\n",
    "else:\n",
    "    print(\"These angles do not form a valid triangle.\")\n"
   ]
  },
  {
   "cell_type": "code",
   "execution_count": 23,
   "metadata": {},
   "outputs": [
    {
     "name": "stdout",
     "output_type": "stream",
     "text": [
      "Your BMI is 20.50, which falls into the category of normal weight.\n"
     ]
    }
   ],
   "source": [
    "# 23. Develop a program to categorize a given person's BMI into underweight, normal, overweight, or obese using elif statements\n",
    "\n",
    "# Input the person's weight (in kilograms) and height (in meters)\n",
    "weight = float(input(\"Enter your weight in kilograms: \"))\n",
    "height = float(input(\"Enter your height in meters: \"))\n",
    "\n",
    "# Calculate BMI\n",
    "bmi = weight / (height ** 2)\n",
    "\n",
    "# Categorize BMI using elif statements\n",
    "if bmi < 18.5:\n",
    "    category = \"underweight\"\n",
    "elif 18.5 <= bmi < 24.9:\n",
    "    category = \"normal weight\"\n",
    "elif 24.9 <= bmi < 29.9:\n",
    "    category = \"overweight\"\n",
    "else:\n",
    "    category = \"obese\"\n",
    "\n",
    "# Print the BMI category\n",
    "print(f\"Your BMI is {bmi:.2f}, which falls into the category of {category}.\")\n"
   ]
  },
  {
   "cell_type": "code",
   "execution_count": 24,
   "metadata": {},
   "outputs": [
    {
     "name": "stdout",
     "output_type": "stream",
     "text": [
      "The number is negative.\n"
     ]
    }
   ],
   "source": [
    "# 24. Create a program that determines whether a given number is positive, negative, or zero using elif statements.\n",
    "\n",
    "# Input a number from the user\n",
    "number = float(input(\"Enter a number: \"))\n",
    "\n",
    "# Check if the number is positive, negative, or zero using elif statements\n",
    "if number > 0:\n",
    "    print(\"The number is positive.\")\n",
    "elif number < 0:\n",
    "    print(\"The number is negative.\")\n",
    "else:\n",
    "    print(\"The number is zero.\")\n"
   ]
  },
  {
   "cell_type": "code",
   "execution_count": 26,
   "metadata": {},
   "outputs": [
    {
     "name": "stdout",
     "output_type": "stream",
     "text": [
      "The character is lowercase.\n"
     ]
    }
   ],
   "source": [
    "# 25. Write a Python script to determine the type of a character (uppercase, lowercase, or special) using elif statements.\n",
    "\n",
    "# Input a character from the user\n",
    "char = input(\"Enter a character: \")\n",
    "\n",
    "# Check the type of character using elif statements\n",
    "if char.isalpha():\n",
    "    if char.islower():\n",
    "        print(\"The character is lowercase.\")\n",
    "    elif char.isupper():\n",
    "        print(\"The character is uppercase.\")\n",
    "else:\n",
    "    print(\"The character is a special character or a digit.\")\n"
   ]
  },
  {
   "cell_type": "code",
   "execution_count": 27,
   "metadata": {},
   "outputs": [
    {
     "name": "stdout",
     "output_type": "stream",
     "text": [
      "Original Price: $1000.00\n",
      "Discounted Price: $700.00 (30% discount applied)\n"
     ]
    }
   ],
   "source": [
    "# 26. Implement a program to calculate the discounted price based on different purchase amounts using elif statements.\n",
    "\n",
    "# Input the purchase amount from the user\n",
    "purchase_amount = float(input(\"Enter the purchase amount: \"))\n",
    "\n",
    "# Initialize variables for discount percentages\n",
    "discount_10_percent = 0.10\n",
    "discount_20_percent = 0.20\n",
    "discount_30_percent = 0.30\n",
    "\n",
    "# Initialize variables for discounted prices\n",
    "discounted_price = 0.0\n",
    "\n",
    "# Apply discounts based on purchase amount using elif statements\n",
    "if purchase_amount >= 1000:\n",
    "    discounted_price = purchase_amount - (purchase_amount * discount_30_percent)\n",
    "    discount_message = \"30% discount applied\"\n",
    "elif purchase_amount >= 500:\n",
    "    discounted_price = purchase_amount - (purchase_amount * discount_20_percent)\n",
    "    discount_message = \"20% discount applied\"\n",
    "elif purchase_amount >= 200:\n",
    "    discounted_price = purchase_amount - (purchase_amount * discount_10_percent)\n",
    "    discount_message = \"10% discount applied\"\n",
    "else:\n",
    "    discounted_price = purchase_amount\n",
    "    discount_message = \"No discount applied\"\n",
    "\n",
    "# Print the discounted price and discount message\n",
    "print(f\"Original Price: ${purchase_amount:.2f}\")\n",
    "print(f\"Discounted Price: ${discounted_price:.2f} ({discount_message})\")\n"
   ]
  },
  {
   "cell_type": "code",
   "execution_count": 28,
   "metadata": {},
   "outputs": [
    {
     "name": "stdout",
     "output_type": "stream",
     "text": [
      "Electricity Consumption: 800.0 kWh\n",
      "Electricity Bill: $700.00\n"
     ]
    }
   ],
   "source": [
    "# 27. Develop a program to calculate the electricity bill based on different consumption slabs using elif statements.\n",
    "\n",
    "# Input the electricity consumption in kilowatt-hours (kWh) from the user\n",
    "consumption = float(input(\"Enter electricity consumption in kWh: \"))\n",
    "\n",
    "# Initialize variables for different slab rates and the total bill\n",
    "rate_slab1 = 0.5  # Rate for the first 100 kWh\n",
    "rate_slab2 = 0.75  # Rate for the next 200 kWh\n",
    "rate_slab3 = 1.0   # Rate for any additional kWh\n",
    "bill = 0.0\n",
    "\n",
    "# Calculate the electricity bill based on consumption using elif statements\n",
    "if consumption <= 100:\n",
    "    bill = consumption * rate_slab1\n",
    "elif consumption <= 300:\n",
    "    bill = (100 * rate_slab1) + ((consumption - 100) * rate_slab2)\n",
    "else:\n",
    "    bill = (100 * rate_slab1) + (200 * rate_slab2) + ((consumption - 300) * rate_slab3)\n",
    "\n",
    "# Print the electricity bill\n",
    "print(f\"Electricity Consumption: {consumption} kWh\")\n",
    "print(f\"Electricity Bill: ${bill:.2f}\")\n"
   ]
  },
  {
   "cell_type": "code",
   "execution_count": 29,
   "metadata": {},
   "outputs": [
    {
     "name": "stdout",
     "output_type": "stream",
     "text": [
      "The quadrilateral is a parallelogram.\n"
     ]
    }
   ],
   "source": [
    "# 28. Create a program to determine the type of quadrilateral based on its angles and sides using elif statements.\n",
    "\n",
    "# Input the angles and sides of the quadrilateral\n",
    "angle1 = float(input(\"Enter the first angle in degrees: \"))\n",
    "angle2 = float(input(\"Enter the second angle in degrees: \"))\n",
    "angle3 = float(input(\"Enter the third angle in degrees: \"))\n",
    "angle4 = float(input(\"Enter the fourth angle in degrees: \"))\n",
    "side1 = float(input(\"Enter the length of the first side: \"))\n",
    "side2 = float(input(\"Enter the length of the second side: \"))\n",
    "side3 = float(input(\"Enter the length of the third side: \"))\n",
    "side4 = float(input(\"Enter the length of the fourth side: \"))\n",
    "\n",
    "# Check the type of quadrilateral using elif statements\n",
    "if angle1 == angle2 == angle3 == angle4 == 90:\n",
    "    if side1 == side2 == side3 == side4:\n",
    "        quadrilateral_type = \"square\"\n",
    "    else:\n",
    "        quadrilateral_type = \"rectangle\"\n",
    "elif side1 == side2 == side3 == side4:\n",
    "    quadrilateral_type = \"parallelogram\"\n",
    "else:\n",
    "    quadrilateral_type = \"quadrilateral (unknown type)\"\n",
    "\n",
    "# Print the type of quadrilateral\n",
    "print(f\"The quadrilateral is a {quadrilateral_type}.\")\n"
   ]
  },
  {
   "cell_type": "code",
   "execution_count": 30,
   "metadata": {},
   "outputs": [
    {
     "name": "stdout",
     "output_type": "stream",
     "text": [
      "The season for March is spring.\n"
     ]
    }
   ],
   "source": [
    "# 29. Write a Python script to determine the season based on a user-provided month using elif statements.\n",
    "\n",
    "# Input the month from the user\n",
    "month = input(\"Enter a month (e.g., January, February, etc.): \")\n",
    "\n",
    "# Convert the month to lowercase for case-insensitive comparison\n",
    "month = month.lower()\n",
    "\n",
    "# Determine the season using elif statements\n",
    "if month in [\"december\", \"january\", \"february\"]:\n",
    "    season = \"winter\"\n",
    "elif month in [\"march\", \"april\", \"may\"]:\n",
    "    season = \"spring\"\n",
    "elif month in [\"june\", \"july\", \"august\"]:\n",
    "    season = \"summer\"\n",
    "elif month in [\"september\", \"october\", \"november\"]:\n",
    "    season = \"autumn\"\n",
    "else:\n",
    "    season = \"unknown\"\n",
    "\n",
    "# Print the season\n",
    "if season != \"unknown\":\n",
    "    print(f\"The season for {month.capitalize()} is {season}.\")\n",
    "else:\n",
    "    print(\"Invalid input. Please enter a valid month name.\")\n"
   ]
  },
  {
   "cell_type": "code",
   "execution_count": 31,
   "metadata": {},
   "outputs": [
    {
     "name": "stdout",
     "output_type": "stream",
     "text": [
      "March in 2020 is a leap year and has 31 days.\n"
     ]
    }
   ],
   "source": [
    "# 30. Implement a program to determine the type of a year (leap or common) and month (30 or 31 days) using elif statements.\n",
    "\n",
    "# Input the year and month from the user\n",
    "year = int(input(\"Enter a year: \"))\n",
    "month = input(\"Enter a month (e.g., January, February, etc.): \")\n",
    "\n",
    "# Convert the month to lowercase for case-insensitive comparison\n",
    "month = month.lower()\n",
    "\n",
    "# Initialize variables for leap year determination\n",
    "is_leap_year = False\n",
    "\n",
    "# Check if it's a leap year using leap year rules\n",
    "if (year % 4 == 0 and year % 100 != 0) or (year % 400 == 0):\n",
    "    is_leap_year = True\n",
    "\n",
    "# Determine the number of days in the month using elif statements\n",
    "if month in [\"january\", \"march\", \"may\", \"july\", \"august\", \"october\", \"december\"]:\n",
    "    days_in_month = 31\n",
    "elif month in [\"april\", \"june\", \"september\", \"november\"]:\n",
    "    days_in_month = 30\n",
    "elif month == \"february\":\n",
    "    if is_leap_year:\n",
    "        days_in_month = 29\n",
    "    else:\n",
    "        days_in_month = 28\n",
    "else:\n",
    "    days_in_month = None  # Invalid month input\n",
    "\n",
    "# Print the results\n",
    "if days_in_month is not None:\n",
    "    if is_leap_year:\n",
    "        year_type = \"leap year\"\n",
    "    else:\n",
    "        year_type = \"common year\"\n",
    "    print(f\"{month.capitalize()} in {year} is a {year_type} and has {days_in_month} days.\")\n",
    "else:\n",
    "    print(\"Invalid input. Please enter a valid month name.\")\n"
   ]
  },
  {
   "cell_type": "markdown",
   "metadata": {},
   "source": [
    "## Basic Level:"
   ]
  },
  {
   "cell_type": "code",
   "execution_count": 32,
   "metadata": {},
   "outputs": [
    {
     "name": "stdout",
     "output_type": "stream",
     "text": [
      "The number is positive.\n"
     ]
    }
   ],
   "source": [
    "# 1. Write a Python program that checks if a given number is positive, negative, or zero.\n",
    "\n",
    "# Input a number from the user\n",
    "number = float(input(\"Enter a number: \"))\n",
    "\n",
    "# Check if the number is positive, negative, or zero\n",
    "if number > 0:\n",
    "    print(\"The number is positive.\")\n",
    "elif number < 0:\n",
    "    print(\"The number is negative.\")\n",
    "else:\n",
    "    print(\"The number is zero.\")"
   ]
  },
  {
   "cell_type": "code",
   "execution_count": 33,
   "metadata": {},
   "outputs": [
    {
     "name": "stdout",
     "output_type": "stream",
     "text": [
      "You are eligible to vote!\n"
     ]
    }
   ],
   "source": [
    "# 2. Create a program to determine if a person is eligible to vote based on their age.\n",
    "\n",
    "# Input the age of the person\n",
    "age = int(input(\"Enter your age: \"))\n",
    "\n",
    "# Check if the person is eligible to vote\n",
    "if age >= 18:\n",
    "    print(\"You are eligible to vote!\")\n",
    "else:\n",
    "    print(\"You are not eligible to vote. You must be 18 years or older.\")"
   ]
  },
  {
   "cell_type": "code",
   "execution_count": 34,
   "metadata": {},
   "outputs": [
    {
     "name": "stdout",
     "output_type": "stream",
     "text": [
      "The maximum number is: 4.0\n"
     ]
    }
   ],
   "source": [
    "# 3. Write a program to find the maximum of two given numbers using conditional statements\n",
    "\n",
    "# Input two numbers from the user\n",
    "num1 = float(input(\"Enter the first number: \"))\n",
    "num2 = float(input(\"Enter the second number: \"))\n",
    "\n",
    "# Compare the two numbers to find the maximum\n",
    "if num1 > num2:\n",
    "    max_num = num1\n",
    "else:\n",
    "    max_num = num2\n",
    "\n",
    "# Print the maximum number\n",
    "print(f\"The maximum number is: {max_num}\")"
   ]
  },
  {
   "cell_type": "code",
   "execution_count": 35,
   "metadata": {},
   "outputs": [
    {
     "name": "stdout",
     "output_type": "stream",
     "text": [
      "The student's grade is: C\n"
     ]
    }
   ],
   "source": [
    "# 4. Develop a program that calculates the grade of a student based on their exam score.\n",
    "\n",
    "# Input the student's score\n",
    "score = float(input(\"Enter the student's score: \"))\n",
    "\n",
    "# Define the grading scale\n",
    "A_score = 90\n",
    "B_score = 80\n",
    "C_score = 70\n",
    "D_score = 60\n",
    "\n",
    "# Determine the grade\n",
    "if score >= A_score:\n",
    "    grade = \"A\"\n",
    "elif score >= B_score:\n",
    "    grade = \"B\"\n",
    "elif score >= C_score:\n",
    "    grade = \"C\"\n",
    "elif score >= D_score:\n",
    "    grade = \"D\"\n",
    "else:\n",
    "    grade = \"F\"\n",
    "\n",
    "# Print the grade\n",
    "print(f\"The student's grade is: {grade}\")"
   ]
  },
  {
   "cell_type": "code",
   "execution_count": 36,
   "metadata": {},
   "outputs": [
    {
     "name": "stdout",
     "output_type": "stream",
     "text": [
      "2020 is a leap year.\n"
     ]
    }
   ],
   "source": [
    "# 5. Create a program that checks if a year is a leap year or not\n",
    "\n",
    "# Input a year from the user\n",
    "year = int(input(\"Enter a year: \"))\n",
    "\n",
    "# Check if it's a leap year\n",
    "if (year % 4 == 0 and year % 100 != 0) or (year % 400 == 0):\n",
    "    print(f\"{year} is a leap year.\")\n",
    "else:\n",
    "    print(f\"{year} is not a leap year.\")"
   ]
  },
  {
   "cell_type": "code",
   "execution_count": 37,
   "metadata": {},
   "outputs": [
    {
     "name": "stdout",
     "output_type": "stream",
     "text": [
      "The triangle is a scalene triangle.\n"
     ]
    }
   ],
   "source": [
    "# 6. Write a program to classify a triangle based on its sides' lengths\n",
    "\n",
    "# Input the lengths of the three sides of the triangle\n",
    "side1 = float(input(\"Enter the length of the first side: \"))\n",
    "side2 = float(input(\"Enter the length of the second side: \"))\n",
    "side3 = float(input(\"Enter the length of the third side: \"))\n",
    "\n",
    "# Check if it's a valid triangle\n",
    "if (side1 + side2 > side3) and (side2 + side3 > side1) and (side1 + side3 > side2):\n",
    "    # Check for equilateral triangle\n",
    "    if side1 == side2 == side3:\n",
    "        triangle_type = \"equilateral\"\n",
    "    # Check for isosceles triangle\n",
    "    elif side1 == side2 or side2 == side3 or side1 == side3:\n",
    "        triangle_type = \"isosceles\"\n",
    "    # If not equilateral or isosceles, it's scalene\n",
    "    else:\n",
    "        triangle_type = \"scalene\"\n",
    "    \n",
    "    # Print the type of triangle\n",
    "    print(f\"The triangle is a {triangle_type} triangle.\")\n",
    "else:\n",
    "    print(\"These side lengths do not form a valid triangle.\")"
   ]
  },
  {
   "cell_type": "code",
   "execution_count": 38,
   "metadata": {},
   "outputs": [
    {
     "name": "stdout",
     "output_type": "stream",
     "text": [
      "The largest number is: 4.0\n"
     ]
    }
   ],
   "source": [
    "# 7. Build a program that determines the largest of three given numbers\n",
    "\n",
    "# Input three numbers from the user\n",
    "num1 = float(input(\"Enter the first number: \"))\n",
    "num2 = float(input(\"Enter the second number: \"))\n",
    "num3 = float(input(\"Enter the third number: \"))\n",
    "\n",
    "# Compare the numbers to find the largest\n",
    "if num1 >= num2 and num1 >= num3:\n",
    "    largest = num1\n",
    "elif num2 >= num1 and num2 >= num3:\n",
    "    largest = num2\n",
    "else:\n",
    "    largest = num3\n",
    "\n",
    "# Print the largest number\n",
    "print(f\"The largest number is: {largest}\")\n"
   ]
  },
  {
   "cell_type": "code",
   "execution_count": 39,
   "metadata": {},
   "outputs": [
    {
     "name": "stdout",
     "output_type": "stream",
     "text": [
      "d is a consonant.\n"
     ]
    }
   ],
   "source": [
    "# 8. Develop a program that checks whether a character is a vowel or a consonant\n",
    "\n",
    "# Input a character from the user\n",
    "char = input(\"Enter a character: \")\n",
    "\n",
    "# Convert the character to lowercase to handle both uppercase and lowercase input\n",
    "char = char.lower()\n",
    "\n",
    "# Check if it's a vowel or a consonant\n",
    "if char.isalpha() and len(char) == 1:\n",
    "    if char in \"aeiou\":\n",
    "        print(f\"{char} is a vowel.\")\n",
    "    else:\n",
    "        print(f\"{char} is a consonant.\")\n",
    "else:\n",
    "    print(\"Please enter a single alphabetic character.\")"
   ]
  },
  {
   "cell_type": "code",
   "execution_count": 40,
   "metadata": {},
   "outputs": [
    {
     "name": "stdout",
     "output_type": "stream",
     "text": [
      "Original Price: $300.00\n",
      "Discounted Price: $270.00 (10% discount applied)\n"
     ]
    }
   ],
   "source": [
    "# 9. Create a program to calculate the total cost of a shopping cart based on discounts\n",
    "\n",
    "# Input the purchase amount from the user\n",
    "purchase_amount = float(input(\"Enter the purchase amount: \"))\n",
    "\n",
    "# Initialize variables for discount percentages\n",
    "discount_10_percent = 0.10\n",
    "discount_20_percent = 0.20\n",
    "discount_30_percent = 0.30\n",
    "\n",
    "# Initialize variables for discounted prices\n",
    "discounted_price = 0.0\n",
    "\n",
    "# Apply discounts based on purchase amount using elif statements\n",
    "if purchase_amount >= 1000:\n",
    "    discounted_price = purchase_amount - (purchase_amount * discount_30_percent)\n",
    "    discount_message = \"30% discount applied\"\n",
    "elif purchase_amount >= 500:\n",
    "    discounted_price = purchase_amount - (purchase_amount * discount_20_percent)\n",
    "    discount_message = \"20% discount applied\"\n",
    "elif purchase_amount >= 200:\n",
    "    discounted_price = purchase_amount - (purchase_amount * discount_10_percent)\n",
    "    discount_message = \"10% discount applied\"\n",
    "else:\n",
    "    discounted_price = purchase_amount\n",
    "    discount_message = \"No discount applied\"\n",
    "\n",
    "# Print the discounted price and discount message\n",
    "print(f\"Original Price: ${purchase_amount:.2f}\")\n",
    "print(f\"Discounted Price: ${discounted_price:.2f} ({discount_message})\")"
   ]
  },
  {
   "cell_type": "code",
   "execution_count": 41,
   "metadata": {},
   "outputs": [
    {
     "name": "stdout",
     "output_type": "stream",
     "text": [
      "3 is odd.\n"
     ]
    }
   ],
   "source": [
    "# 10. Write a program that checks if a given number is even or odd\n",
    "\n",
    "# Input a number from the user\n",
    "number = int(input(\"Enter a number: \"))\n",
    "\n",
    "# Check if the number is even or odd\n",
    "if number % 2 == 0:\n",
    "    print(f\"{number} is even.\")\n",
    "else:\n",
    "    print(f\"{number} is odd.\")"
   ]
  },
  {
   "cell_type": "markdown",
   "metadata": {},
   "source": [
    "## Intermediate Level:"
   ]
  },
  {
   "cell_type": "code",
   "execution_count": 42,
   "metadata": {},
   "outputs": [
    {
     "name": "stdout",
     "output_type": "stream",
     "text": [
      "The roots are real and distinct: -0.3333333333333333 and -1.0\n"
     ]
    }
   ],
   "source": [
    "# 11. Write a program that calculates the roots of a quadratic equation .\n",
    "\n",
    "# Import the complex math module for handling complex roots\n",
    "import cmath\n",
    "\n",
    "# Input coefficients from the user\n",
    "a = float(input(\"Enter the coefficient 'a': \"))\n",
    "b = float(input(\"Enter the coefficient 'b': \"))\n",
    "c = float(input(\"Enter the coefficient 'c': \"))\n",
    "\n",
    "# Calculate the discriminant (the value under the square root)\n",
    "discriminant = b**2 - 4*a*c\n",
    "\n",
    "# Calculate the roots\n",
    "if discriminant > 0:\n",
    "    # Two real and distinct roots\n",
    "    root1 = (-b + (discriminant ** 0.5)) / (2*a)\n",
    "    root2 = (-b - (discriminant ** 0.5)) / (2*a)\n",
    "    print(f\"The roots are real and distinct: {root1} and {root2}\")\n",
    "elif discriminant == 0:\n",
    "    # One real root (a repeated root)\n",
    "    root1 = -b / (2*a)\n",
    "    print(f\"The root is real and repeated: {root1}\")\n",
    "else:\n",
    "    # Complex roots\n",
    "    real_part = -b / (2*a)\n",
    "    imaginary_part = cmath.sqrt(-discriminant) / (2*a)\n",
    "    root1 = complex(real_part, imaginary_part)\n",
    "    root2 = complex(real_part, -imaginary_part)\n",
    "    print(f\"The roots are complex: {root1} and {root2}\")"
   ]
  },
  {
   "cell_type": "code",
   "execution_count": 43,
   "metadata": {},
   "outputs": [
    {
     "name": "stdout",
     "output_type": "stream",
     "text": [
      "The day corresponding to number 4 is Thursday.\n"
     ]
    }
   ],
   "source": [
    "# 12. Create a program that determines the day of the week based on the day number (1-7).\n",
    "\n",
    "# Input a number from the user\n",
    "day_number = int(input(\"Enter a number (1 for Monday, 2 for Tuesday, etc.): \"))\n",
    "\n",
    "# Define a list of day names\n",
    "days_of_week = [\"Monday\", \"Tuesday\", \"Wednesday\", \"Thursday\", \"Friday\", \"Saturday\", \"Sunday\"]\n",
    "\n",
    "# Check if the input number is valid\n",
    "if 1 <= day_number <= 7:\n",
    "    # Subtract 1 from the input number to access the correct day from the list\n",
    "    day_name = days_of_week[day_number - 1]\n",
    "    print(f\"The day corresponding to number {day_number} is {day_name}.\")\n",
    "else:\n",
    "    print(\"Invalid input. Please enter a number between 1 and 7.\")"
   ]
  },
  {
   "cell_type": "code",
   "execution_count": 44,
   "metadata": {},
   "outputs": [
    {
     "name": "stdout",
     "output_type": "stream",
     "text": [
      "The factorial of 5 is 120.\n"
     ]
    }
   ],
   "source": [
    "# 13. Develop a program that calculates the factorial of a given number using recursion\n",
    "\n",
    "# Recursive function to calculate the factorial of a number\n",
    "def factorial(n):\n",
    "    if n == 0:\n",
    "        return 1\n",
    "    else:\n",
    "        return n * factorial(n - 1)\n",
    "\n",
    "# Input a number from the user\n",
    "num = int(input(\"Enter a non-negative integer: \"))\n",
    "\n",
    "# Check if the number is non-negative\n",
    "if num < 0:\n",
    "    print(\"Factorial is not defined for negative numbers.\")\n",
    "else:\n",
    "    result = factorial(num)\n",
    "    print(f\"The factorial of {num} is {result}.\")\n"
   ]
  },
  {
   "cell_type": "code",
   "execution_count": 45,
   "metadata": {},
   "outputs": [
    {
     "name": "stdout",
     "output_type": "stream",
     "text": [
      "The largest number among 3.0, 4.0, and 5.0 is 5.0.\n"
     ]
    }
   ],
   "source": [
    "# 14. Write a program to find the largest among three numbers without using the `max()` function\n",
    "\n",
    "# Input three numbers from the user\n",
    "num1 = float(input(\"Enter the first number: \"))\n",
    "num2 = float(input(\"Enter the second number: \"))\n",
    "num3 = float(input(\"Enter the third number: \"))\n",
    "\n",
    "# Find the largest among the three numbers using conditional statements\n",
    "if num1 >= num2 and num1 >= num3:\n",
    "    largest = num1\n",
    "elif num2 >= num1 and num2 >= num3:\n",
    "    largest = num2\n",
    "else:\n",
    "    largest = num3\n",
    "\n",
    "# Print the largest number\n",
    "print(f\"The largest number among {num1}, {num2}, and {num3} is {largest}.\")\n"
   ]
  },
  {
   "cell_type": "code",
   "execution_count": 46,
   "metadata": {},
   "outputs": [
    {
     "name": "stdout",
     "output_type": "stream",
     "text": [
      "\n",
      "ATM Menu:\n",
      "1. Display Balance\n",
      "2. Deposit Money\n",
      "3. Withdraw Money\n",
      "4. Exit\n",
      "Your account balance is: $1000.00\n",
      "\n",
      "ATM Menu:\n",
      "1. Display Balance\n",
      "2. Deposit Money\n",
      "3. Withdraw Money\n",
      "4. Exit\n",
      "Your account balance is: $1000.00\n",
      "\n",
      "ATM Menu:\n",
      "1. Display Balance\n",
      "2. Deposit Money\n",
      "3. Withdraw Money\n",
      "4. Exit\n",
      "Deposited $2.00 successfully.\n",
      "\n",
      "ATM Menu:\n",
      "1. Display Balance\n",
      "2. Deposit Money\n",
      "3. Withdraw Money\n",
      "4. Exit\n",
      "Withdrew $3.00 successfully.\n",
      "\n",
      "ATM Menu:\n",
      "1. Display Balance\n",
      "2. Deposit Money\n",
      "3. Withdraw Money\n",
      "4. Exit\n",
      "Invalid choice. Please select a valid option.\n",
      "\n",
      "ATM Menu:\n",
      "1. Display Balance\n",
      "2. Deposit Money\n",
      "3. Withdraw Money\n",
      "4. Exit\n",
      "Invalid choice. Please select a valid option.\n",
      "\n",
      "ATM Menu:\n",
      "1. Display Balance\n",
      "2. Deposit Money\n",
      "3. Withdraw Money\n",
      "4. Exit\n",
      "Thank you for using the ATM. Goodbye!\n"
     ]
    }
   ],
   "source": [
    "# 15. Create a program that simulates a basic ATM transaction menu.\n",
    "\n",
    "# Initialize account balance\n",
    "account_balance = 1000.0\n",
    "\n",
    "# Function to display the account balance\n",
    "def display_balance():\n",
    "    print(f\"Your account balance is: ${account_balance:.2f}\")\n",
    "\n",
    "# Function to deposit money\n",
    "def deposit():\n",
    "    global account_balance\n",
    "    amount = float(input(\"Enter the amount to deposit: $\"))\n",
    "    if amount > 0:\n",
    "        account_balance += amount\n",
    "        print(f\"Deposited ${amount:.2f} successfully.\")\n",
    "    else:\n",
    "        print(\"Invalid deposit amount. Please enter a positive amount.\")\n",
    "\n",
    "# Function to withdraw money\n",
    "def withdraw():\n",
    "    global account_balance\n",
    "    amount = float(input(\"Enter the amount to withdraw: $\"))\n",
    "    if amount > 0:\n",
    "        if account_balance >= amount:\n",
    "            account_balance -= amount\n",
    "            print(f\"Withdrew ${amount:.2f} successfully.\")\n",
    "        else:\n",
    "            print(\"Insufficient funds. Cannot withdraw.\")\n",
    "    else:\n",
    "        print(\"Invalid withdrawal amount. Please enter a positive amount.\")\n",
    "\n",
    "# Main ATM menu loop\n",
    "while True:\n",
    "    print(\"\\nATM Menu:\")\n",
    "    print(\"1. Display Balance\")\n",
    "    print(\"2. Deposit Money\")\n",
    "    print(\"3. Withdraw Money\")\n",
    "    print(\"4. Exit\")\n",
    "    \n",
    "    choice = input(\"Enter your choice (1/2/3/4): \")\n",
    "\n",
    "    if choice == \"1\":\n",
    "        display_balance()\n",
    "    elif choice == \"2\":\n",
    "        deposit()\n",
    "    elif choice == \"3\":\n",
    "        withdraw()\n",
    "    elif choice == \"4\":\n",
    "        print(\"Thank you for using the ATM. Goodbye!\")\n",
    "        break\n",
    "    else:\n",
    "        print(\"Invalid choice. Please select a valid option.\")\n"
   ]
  },
  {
   "cell_type": "code",
   "execution_count": 47,
   "metadata": {},
   "outputs": [
    {
     "name": "stdout",
     "output_type": "stream",
     "text": [
      "eye is a palindrome.\n"
     ]
    }
   ],
   "source": [
    "# 16. Build a program that checks if a given string is a palindrome or not.\n",
    "\n",
    "# Function to check if a string is a palindrome\n",
    "def is_palindrome(input_string):\n",
    "    # Remove spaces and convert to lowercase\n",
    "    cleaned_string = input_string.replace(\" \", \"\").lower()\n",
    "    # Check if the cleaned string is equal to its reverse\n",
    "    return cleaned_string == cleaned_string[::-1]\n",
    "\n",
    "# Input a string from the user\n",
    "input_str = input(\"Enter a string: \")\n",
    "\n",
    "# Check if it's a palindrome\n",
    "if is_palindrome(input_str):\n",
    "    print(f\"{input_str} is a palindrome.\")\n",
    "else:\n",
    "    print(f\"{input_str} is not a palindrome.\")\n",
    "    "
   ]
  },
  {
   "cell_type": "code",
   "execution_count": 49,
   "metadata": {},
   "outputs": [
    {
     "name": "stdout",
     "output_type": "stream",
     "text": [
      "The average (excluding the smallest and largest values) is: 22.22\n"
     ]
    }
   ],
   "source": [
    "# 17. Write a program that calculates the average of a list of numbers, excluding the smallest and largest values\n",
    "\n",
    "# Function to calculate the average excluding the smallest and largest values\n",
    "def average_without_extremes(numbers):\n",
    "    if len(numbers) < 3:\n",
    "        return \"List must contain at least 3 numbers.\"\n",
    "\n",
    "    # Remove the smallest and largest values from the list\n",
    "    numbers.remove(min(numbers))\n",
    "    numbers.remove(max(numbers))\n",
    "\n",
    "    # Calculate the sum of the remaining numbers\n",
    "    total = sum(numbers)\n",
    "\n",
    "    # Calculate the average\n",
    "    average = total / len(numbers)\n",
    "\n",
    "    return average\n",
    "\n",
    "# Input a list of numbers from the user\n",
    "try:\n",
    "    input_numbers = input(\"Enter a list of numbers separated by spaces: \").split()\n",
    "    numbers = [float(num) for num in input_numbers]\n",
    "\n",
    "    # Calculate the average excluding extremes\n",
    "    result = average_without_extremes(numbers)\n",
    "    \n",
    "    if isinstance(result, str):\n",
    "        print(result)\n",
    "    else:\n",
    "        print(f\"The average (excluding the smallest and largest values) is: {result:.2f}\")\n",
    "except ValueError:\n",
    "    print(\"Invalid input. Please enter numbers separated by spaces.\")\n"
   ]
  },
  {
   "cell_type": "code",
   "execution_count": 50,
   "metadata": {},
   "outputs": [
    {
     "name": "stdout",
     "output_type": "stream",
     "text": [
      "34.0 degrees Celsius is equal to 93.2 degrees Fahrenheit.\n"
     ]
    }
   ],
   "source": [
    "# 18. Develop a program that converts a given temperature from Celsius to Fahrenheit.\n",
    "\n",
    "# Input temperature in Celsius from the user\n",
    "celsius = float(input(\"Enter temperature in Celsius: \"))\n",
    "\n",
    "# Convert Celsius to Fahrenheit\n",
    "fahrenheit = (celsius * 9/5) + 32\n",
    "\n",
    "# Print the converted temperature in Fahrenheit\n",
    "print(f\"{celsius} degrees Celsius is equal to {fahrenheit} degrees Fahrenheit.\")\n"
   ]
  },
  {
   "cell_type": "code",
   "execution_count": 51,
   "metadata": {},
   "outputs": [
    {
     "name": "stdout",
     "output_type": "stream",
     "text": [
      "\n",
      "Calculator Menu:\n",
      "1. Addition\n",
      "2. Subtraction\n",
      "3. Multiplication\n",
      "4. Division\n",
      "5. Exit\n",
      "Result: 32.0 / 5.0 = 6.4\n",
      "\n",
      "Calculator Menu:\n",
      "1. Addition\n",
      "2. Subtraction\n",
      "3. Multiplication\n",
      "4. Division\n",
      "5. Exit\n",
      "Calculator exited.\n"
     ]
    }
   ],
   "source": [
    "# 19. Create a program that simulates a basic calculator for addition, subtraction, multiplication, and division\n",
    "\n",
    "# Function to perform addition\n",
    "def add(x, y):\n",
    "    return x + y\n",
    "\n",
    "# Function to perform subtraction\n",
    "def subtract(x, y):\n",
    "    return x - y\n",
    "\n",
    "# Function to perform multiplication\n",
    "def multiply(x, y):\n",
    "    return x * y\n",
    "\n",
    "# Function to perform division\n",
    "def divide(x, y):\n",
    "    if y == 0:\n",
    "        return \"Cannot divide by zero\"\n",
    "    return x / y\n",
    "\n",
    "# Main calculator loop\n",
    "while True:\n",
    "    print(\"\\nCalculator Menu:\")\n",
    "    print(\"1. Addition\")\n",
    "    print(\"2. Subtraction\")\n",
    "    print(\"3. Multiplication\")\n",
    "    print(\"4. Division\")\n",
    "    print(\"5. Exit\")\n",
    "    \n",
    "    choice = input(\"Enter your choice (1/2/3/4/5): \")\n",
    "\n",
    "    if choice == \"5\":\n",
    "        print(\"Calculator exited.\")\n",
    "        break\n",
    "\n",
    "    if choice in [\"1\", \"2\", \"3\", \"4\"]:\n",
    "        num1 = float(input(\"Enter first number: \"))\n",
    "        num2 = float(input(\"Enter second number: \"))\n",
    "\n",
    "        if choice == \"1\":\n",
    "            result = add(num1, num2)\n",
    "            print(f\"Result: {num1} + {num2} = {result}\")\n",
    "        elif choice == \"2\":\n",
    "            result = subtract(num1, num2)\n",
    "            print(f\"Result: {num1} - {num2} = {result}\")\n",
    "        elif choice == \"3\":\n",
    "            result = multiply(num1, num2)\n",
    "            print(f\"Result: {num1} * {num2} = {result}\")\n",
    "        elif choice == \"4\":\n",
    "            result = divide(num1, num2)\n",
    "            print(f\"Result: {num1} / {num2} = {result}\")\n",
    "    else:\n",
    "        print(\"Invalid choice. Please select a valid option.\")\n"
   ]
  },
  {
   "cell_type": "code",
   "execution_count": 52,
   "metadata": {},
   "outputs": [
    {
     "name": "stdout",
     "output_type": "stream",
     "text": [
      "Roots of the cubic equation:\n",
      "Root 1: 0.450278+1.051593j\n",
      "Root 2: -1.885845-0.297168j\n",
      "Root 3: -0.064433-0.754424j\n"
     ]
    }
   ],
   "source": [
    "# 20. Write a program that determines the roots of a cubic equation using the Cardano formula\n",
    "\n",
    "import math\n",
    "\n",
    "# Function to find the roots of a cubic equation using the Cardano formula\n",
    "def cubic_roots(a, b, c, d):\n",
    "    # Calculate the discriminant and its cube root\n",
    "    p = (3 * a * c - b**2) / (3 * a**2)\n",
    "    q = (2 * b**3 - 9 * a * b * c + 27 * a**2 * d) / (27 * a**3)\n",
    "    discriminant = q**2 / 4 + p**3 / 27\n",
    "\n",
    "    if discriminant > 0:\n",
    "        # Three real roots\n",
    "        r = -q / 2 + math.sqrt(discriminant)\n",
    "        s = -q / 2 - math.sqrt(discriminant)\n",
    "        r_cubed = r**(1/3)\n",
    "        s_cubed = s**(1/3)\n",
    "        root1 = r_cubed + s_cubed - b / (3 * a)\n",
    "        root2 = -(r_cubed + s_cubed) / 2 - b / (3 * a) + (r_cubed - s_cubed) * math.sqrt(3) / 2j\n",
    "        root3 = -(r_cubed + s_cubed) / 2 - b / (3 * a) - (r_cubed - s_cubed) * math.sqrt(3) / 2j\n",
    "    elif discriminant == 0:\n",
    "        # One real root and two complex roots\n",
    "        if q >= 0:\n",
    "            root1 = -2 * (q / 2)**(1/3) - b / (3 * a)\n",
    "            root2 = (q / 2)**(1/3) - b / (3 * a) + (q / 2)**(1/3) * math.sqrt(3) * 1j\n",
    "            root3 = (q / 2)**(1/3) - b / (3 * a) - (q / 2)**(1/3) * math.sqrt(3) * 1j\n",
    "        else:\n",
    "            root1 = 2 * (-q / 2)**(1/3) - b / (3 * a)\n",
    "            root2 = -(-q / 2)**(1/3) - b / (3 * a) + (-q / 2)**(1/3) * math.sqrt(3) * 1j\n",
    "            root3 = -(-q / 2)**(1/3) - b / (3 * a) - (-q / 2)**(1/3) * math.sqrt(3) * 1j\n",
    "    else:\n",
    "        # Three real roots\n",
    "        theta = math.acos(-q / 2 * math.sqrt(-27 / p**3)) / 3\n",
    "        root1 = 2 * math.sqrt(-p / 3) * math.cos(theta) - b / (3 * a)\n",
    "        root2 = 2 * math.sqrt(-p / 3) * math.cos(theta + 2 * math.pi / 3) - b / (3 * a)\n",
    "        root3 = 2 * math.sqrt(-p / 3) * math.cos(theta - 2 * math.pi / 3) - b / (3 * a)\n",
    "    \n",
    "    return root1, root2, root3\n",
    "\n",
    "# Input coefficients of the cubic equation\n",
    "a = float(input(\"Enter coefficient a: \"))\n",
    "b = float(input(\"Enter coefficient b: \"))\n",
    "c = float(input(\"Enter coefficient c: \"))\n",
    "d = float(input(\"Enter coefficient d: \"))\n",
    "\n",
    "# Calculate the roots using the Cardano formula\n",
    "roots = cubic_roots(a, b, c, d)\n",
    "\n",
    "# Print the roots\n",
    "print(\"Roots of the cubic equation:\")\n",
    "for i, root in enumerate(roots, start=1):\n",
    "    print(f\"Root {i}: {root:.6f}\")\n"
   ]
  },
  {
   "cell_type": "markdown",
   "metadata": {},
   "source": [
    "## Advanced Level:"
   ]
  },
  {
   "cell_type": "code",
   "execution_count": 53,
   "metadata": {},
   "outputs": [
    {
     "name": "stdout",
     "output_type": "stream",
     "text": [
      "Your income tax is: $384000.30\n"
     ]
    }
   ],
   "source": [
    "# 21. Create a program that calculates the income tax based on the user's income and tax brackets\n",
    "\n",
    "# Define tax brackets and rates\n",
    "tax_brackets = [(0, 10000, 0.1), (10001, 50000, 0.2), (50001, 100000, 0.3), (100001, float('inf'), 0.4)]\n",
    "\n",
    "# Function to calculate income tax\n",
    "def calculate_income_tax(income):\n",
    "    tax = 0\n",
    "    remaining_income = income\n",
    "\n",
    "    for bracket in tax_brackets:\n",
    "        min_income, max_income, tax_rate = bracket\n",
    "        if remaining_income <= 0:\n",
    "            break\n",
    "\n",
    "        if remaining_income >= max_income:\n",
    "            taxable_income = max_income - min_income\n",
    "        else:\n",
    "            taxable_income = remaining_income\n",
    "\n",
    "        tax += taxable_income * tax_rate\n",
    "        remaining_income -= taxable_income\n",
    "\n",
    "    return tax\n",
    "\n",
    "# Input user's income\n",
    "try:\n",
    "    income = float(input(\"Enter your annual income: $\"))\n",
    "\n",
    "    # Check if income is non-negative\n",
    "    if income < 0:\n",
    "        print(\"Income cannot be negative.\")\n",
    "    else:\n",
    "        # Calculate and print income tax\n",
    "        tax = calculate_income_tax(income)\n",
    "        print(f\"Your income tax is: ${tax:.2f}\")\n",
    "except ValueError:\n",
    "    print(\"Invalid input. Please enter a valid income as a number.\")\n"
   ]
  },
  {
   "cell_type": "code",
   "execution_count": 54,
   "metadata": {},
   "outputs": [
    {
     "name": "stdout",
     "output_type": "stream",
     "text": [
      "\n",
      "Rock-Paper-Scissors Game\n",
      "1. Rock\n",
      "2. Paper\n",
      "3. Scissors\n",
      "4. Quit\n",
      "You chose: paper\n",
      "Computer chose: rock\n",
      "You win!\n",
      "\n",
      "Rock-Paper-Scissors Game\n",
      "1. Rock\n",
      "2. Paper\n",
      "3. Scissors\n",
      "4. Quit\n",
      "Invalid input. Please enter a number (1/2/3/4).\n",
      "\n",
      "Rock-Paper-Scissors Game\n",
      "1. Rock\n",
      "2. Paper\n",
      "3. Scissors\n",
      "4. Quit\n",
      "Thanks for playing. Goodbye!\n"
     ]
    }
   ],
   "source": [
    "# 22. Write a program that simulates a rock-paper-scissors game against the computer\n",
    "\n",
    "import random\n",
    "\n",
    "# Function to determine the winner\n",
    "def determine_winner(user_choice, computer_choice):\n",
    "    if user_choice == computer_choice:\n",
    "        return \"It's a tie!\"\n",
    "    elif (\n",
    "        (user_choice == \"rock\" and computer_choice == \"scissors\") or\n",
    "        (user_choice == \"scissors\" and computer_choice == \"paper\") or\n",
    "        (user_choice == \"paper\" and computer_choice == \"rock\")\n",
    "    ):\n",
    "        return \"You win!\"\n",
    "    else:\n",
    "        return \"Computer wins!\"\n",
    "\n",
    "# Mapping of numeric choices to rock, paper, or scissors\n",
    "choices = {1: \"rock\", 2: \"paper\", 3: \"scissors\"}\n",
    "\n",
    "# Main game loop\n",
    "while True:\n",
    "    print(\"\\nRock-Paper-Scissors Game\")\n",
    "    print(\"1. Rock\")\n",
    "    print(\"2. Paper\")\n",
    "    print(\"3. Scissors\")\n",
    "    print(\"4. Quit\")\n",
    "\n",
    "    user_choice = input(\"Enter your choice (1/2/3/4): \")\n",
    "\n",
    "    if user_choice == \"4\":\n",
    "        print(\"Thanks for playing. Goodbye!\")\n",
    "        break\n",
    "\n",
    "    try:\n",
    "        user_choice = int(user_choice)\n",
    "        if user_choice not in [1, 2, 3]:\n",
    "            print(\"Invalid choice. Please enter 1, 2, 3, or 4.\")\n",
    "            continue\n",
    "\n",
    "        user_choice_name = choices[user_choice]\n",
    "        computer_choice_name = random.choice(list(choices.values()))\n",
    "\n",
    "        print(f\"You chose: {user_choice_name}\")\n",
    "        print(f\"Computer chose: {computer_choice_name}\")\n",
    "\n",
    "        result = determine_winner(user_choice_name, computer_choice_name)\n",
    "        print(result)\n",
    "    except ValueError:\n",
    "        print(\"Invalid input. Please enter a number (1/2/3/4).\")\n"
   ]
  },
  {
   "cell_type": "code",
   "execution_count": 55,
   "metadata": {},
   "outputs": [
    {
     "name": "stdout",
     "output_type": "stream",
     "text": [
      "Random Password Generator\n",
      "Select complexity (separate by spaces):\n",
      "1. Lowercase letters\n",
      "2. Uppercase letters\n",
      "3. Digits\n",
      "4. Special characters\n",
      "Your generated password is: c+@A/!q\n"
     ]
    }
   ],
   "source": [
    "# 23. Develop a program that generates a random password based on user preferences (length, complexity).\n",
    "\n",
    "import random\n",
    "import string\n",
    "\n",
    "# Function to generate a random password\n",
    "def generate_password(length, complexity):\n",
    "    characters = \"\"\n",
    "    \n",
    "    if 'lowercase' in complexity:\n",
    "        characters += string.ascii_lowercase\n",
    "    if 'uppercase' in complexity:\n",
    "        characters += string.ascii_uppercase\n",
    "    if 'digits' in complexity:\n",
    "        characters += string.digits\n",
    "    if 'special' in complexity:\n",
    "        characters += string.punctuation\n",
    "\n",
    "    if not characters:\n",
    "        print(\"Please select at least one character type for complexity.\")\n",
    "        return None\n",
    "\n",
    "    password = ''.join(random.choice(characters) for _ in range(length))\n",
    "    return password\n",
    "\n",
    "# Main program\n",
    "print(\"Random Password Generator\")\n",
    "desired_length = int(input(\"Enter the desired password length: \"))\n",
    "\n",
    "print(\"Select complexity (separate by spaces):\")\n",
    "print(\"1. Lowercase letters\")\n",
    "print(\"2. Uppercase letters\")\n",
    "print(\"3. Digits\")\n",
    "print(\"4. Special characters\")\n",
    "\n",
    "complexity_input = input(\"Enter your choice(s) by number (e.g., '1 3 4'): \").split()\n",
    "complexity_options = {'1': 'lowercase', '2': 'uppercase', '3': 'digits', '4': 'special'}\n",
    "\n",
    "selected_complexity = [complexity_options[choice] for choice in complexity_input]\n",
    "\n",
    "password = generate_password(desired_length, selected_complexity)\n",
    "\n",
    "if password:\n",
    "    print(f\"Your generated password is: {password}\")\n"
   ]
  },
  {
   "cell_type": "code",
   "execution_count": 56,
   "metadata": {},
   "outputs": [
    {
     "name": "stdout",
     "output_type": "stream",
     "text": [
      "Welcome to the Text-Based Adventure Game!\n",
      "You find yourself in a dark forest. You can go left or right.\n",
      "You chose the left path and come across a river.\n",
      "You can swim across or find a bridge.\n",
      "You decided to swim across the river.\n",
      "You made it safely to the other side.\n",
      "Thanks for playing the Text-Based Adventure Game!\n"
     ]
    }
   ],
   "source": [
    "# 24. Create a program that implements a simple text-based adventure game with branching scenarios.\n",
    "\n",
    "import time\n",
    "\n",
    "# Function to display a message with a delay\n",
    "def display_message(message, delay=1):\n",
    "    print(message)\n",
    "    time.sleep(delay)\n",
    "\n",
    "# Introduction\n",
    "display_message(\"Welcome to the Text-Based Adventure Game!\")\n",
    "display_message(\"You find yourself in a dark forest. You can go left or right.\")\n",
    "\n",
    "# Scenario 1: Choosing a path\n",
    "choice1 = input(\"Which way do you want to go? (left/right): \").lower()\n",
    "\n",
    "if choice1 == \"left\":\n",
    "    display_message(\"You chose the left path and come across a river.\")\n",
    "    display_message(\"You can swim across or find a bridge.\")\n",
    "    \n",
    "    # Scenario 2: Crossing the river\n",
    "    choice2 = input(\"What will you do? (swim/bridge): \").lower()\n",
    "    \n",
    "    if choice2 == \"swim\":\n",
    "        display_message(\"You decided to swim across the river.\")\n",
    "        display_message(\"You made it safely to the other side.\")\n",
    "    elif choice2 == \"bridge\":\n",
    "        display_message(\"You found a sturdy bridge and crossed the river.\")\n",
    "        display_message(\"You continue your journey.\")\n",
    "    else:\n",
    "        display_message(\"Invalid choice. You stand there, unsure of what to do.\")\n",
    "        \n",
    "elif choice1 == \"right\":\n",
    "    display_message(\"You chose the right path and encounter a cave entrance.\")\n",
    "    display_message(\"You can enter the cave or continue walking through the forest.\")\n",
    "    \n",
    "    # Scenario 3: Entering the cave\n",
    "    choice3 = input(\"What will you do? (enter/cave): \").lower()\n",
    "    \n",
    "    if choice3 == \"enter\" or choice3 == \"cave\":\n",
    "        display_message(\"You enter the cave and find treasure!\")\n",
    "        display_message(\"Congratulations, you've won the game!\")\n",
    "    else:\n",
    "        display_message(\"You continue walking through the forest.\")\n",
    "        \n",
    "else:\n",
    "    display_message(\"Invalid choice. You're indecisive and remain in the same spot.\")\n",
    "\n",
    "display_message(\"Thanks for playing the Text-Based Adventure Game!\")\n"
   ]
  },
  {
   "cell_type": "code",
   "execution_count": 57,
   "metadata": {},
   "outputs": [
    {
     "name": "stdout",
     "output_type": "stream",
     "text": [
      "Solution: x = -1.5\n"
     ]
    }
   ],
   "source": [
    "# 25. Build a program that solves a linear equation for x, considering different cases\n",
    "\n",
    "# Function to solve a linear equation for x\n",
    "def solve_linear_equation(a, b):\n",
    "    if a == 0:\n",
    "        if b == 0:\n",
    "            return \"Identity: Infinite solutions (Any x is a solution)\"\n",
    "        else:\n",
    "            return \"Inconsistent: No solution\"\n",
    "    else:\n",
    "        x = -b / a\n",
    "        return f\"Solution: x = {x}\"\n",
    "\n",
    "# Input coefficients a and b for the equation ax + b = 0\n",
    "try:\n",
    "    a = float(input(\"Enter coefficient 'a' (non-zero): \"))\n",
    "    b = float(input(\"Enter coefficient 'b': \"))\n",
    "\n",
    "    result = solve_linear_equation(a, b)\n",
    "    print(result)\n",
    "except ValueError:\n",
    "    print(\"Invalid input. Please enter valid coefficients as numbers.\")\n"
   ]
  },
  {
   "cell_type": "code",
   "execution_count": 58,
   "metadata": {},
   "outputs": [
    {
     "name": "stdout",
     "output_type": "stream",
     "text": [
      "Welcome to the Quiz Game!\n",
      "Hello, Asta!\n",
      "\n",
      "Question 1: What is the capital of France?\n",
      "1. Paris\n",
      "2. London\n",
      "3. Berlin\n",
      "4. Madrid\n",
      "Correct! You earned 1 point.\n",
      "\n",
      "Question 2: Which planet is known as the Red Planet?\n",
      "1. Earth\n",
      "2. Mars\n",
      "3. Venus\n",
      "4. Jupiter\n",
      "Correct! You earned 1 point.\n",
      "\n",
      "Quiz completed, Asta!\n",
      "Your score: 2 out of 2\n",
      "Congratulations! You got all the questions right.\n"
     ]
    }
   ],
   "source": [
    "# 26. Write a program that simulates a basic quiz game with multiple-choice questions and scoring.\n",
    "\n",
    "# Define the quiz questions and answers\n",
    "questions = [\n",
    "    {\n",
    "        'question': 'What is the capital of France?',\n",
    "        'options': ['Paris', 'London', 'Berlin', 'Madrid'],\n",
    "        'correct_answer': 'Paris'\n",
    "    },\n",
    "    {\n",
    "        'question': 'Which planet is known as the Red Planet?',\n",
    "        'options': ['Earth', 'Mars', 'Venus', 'Jupiter'],\n",
    "        'correct_answer': 'Mars'\n",
    "    }\n",
    "]\n",
    "\n",
    "# Function to administer the quiz\n",
    "def administer_quiz(questions):\n",
    "    score = 0\n",
    "\n",
    "    for idx, question_data in enumerate(questions, start=1):\n",
    "        print(f\"\\nQuestion {idx}: {question_data['question']}\")\n",
    "        for i, option in enumerate(question_data['options'], start=1):\n",
    "            print(f\"{i}. {option}\")\n",
    "\n",
    "        user_answer = input(\"Enter the number of your answer: \")\n",
    "        if user_answer.isdigit():\n",
    "            user_answer = int(user_answer)\n",
    "            if 1 <= user_answer <= len(question_data['options']):\n",
    "                selected_option = question_data['options'][user_answer - 1]\n",
    "                if selected_option == question_data['correct_answer']:\n",
    "                    print(\"Correct! You earned 1 point.\")\n",
    "                    score += 1\n",
    "                else:\n",
    "                    print(f\"Wrong! The correct answer is: {question_data['correct_answer']}\")\n",
    "            else:\n",
    "                print(\"Invalid choice. Please enter a valid option number.\")\n",
    "        else:\n",
    "            print(\"Invalid input. Please enter a number.\")\n",
    "\n",
    "    return score\n",
    "\n",
    "# Main quiz\n",
    "print(\"Welcome to the Quiz Game!\")\n",
    "\n",
    "player_name = input(\"Enter your name: \")\n",
    "print(f\"Hello, {player_name}!\")\n",
    "\n",
    "player_score = administer_quiz(questions)\n",
    "\n",
    "print(f\"\\nQuiz completed, {player_name}!\")\n",
    "print(f\"Your score: {player_score} out of {len(questions)}\")\n",
    "\n",
    "if player_score == len(questions):\n",
    "    print(\"Congratulations! You got all the questions right.\")\n",
    "elif player_score > 0:\n",
    "    print(\"Well done! You answered some questions correctly.\")\n",
    "else:\n",
    "    print(\"Better luck next time. You didn't answer any questions correctly.\")\n"
   ]
  },
  {
   "cell_type": "code",
   "execution_count": 59,
   "metadata": {},
   "outputs": [
    {
     "name": "stdout",
     "output_type": "stream",
     "text": [
      "2020 is not a prime year.\n"
     ]
    }
   ],
   "source": [
    "# 27. Develop a program that determines whether a given year is a prime number or not\n",
    "\n",
    "# Function to check if a number is prime\n",
    "def is_prime(year):\n",
    "    if year <= 1:\n",
    "        return False\n",
    "    if year <= 3:\n",
    "        return True\n",
    "    if year % 2 == 0 or year % 3 == 0:\n",
    "        return False\n",
    "    i = 5\n",
    "    while i * i <= year:\n",
    "        if year % i == 0 or year % (i + 2) == 0:\n",
    "            return False\n",
    "        i += 6\n",
    "    return True\n",
    "\n",
    "# Input year from the user\n",
    "try:\n",
    "    year = int(input(\"Enter a year: \"))\n",
    "\n",
    "    if is_prime(year):\n",
    "        print(f\"{year} is a prime year.\")\n",
    "    else:\n",
    "        print(f\"{year} is not a prime year.\")\n",
    "except ValueError:\n",
    "    print(\"Invalid input. Please enter a valid year as a number.\")\n"
   ]
  },
  {
   "cell_type": "code",
   "execution_count": 60,
   "metadata": {},
   "outputs": [
    {
     "name": "stdout",
     "output_type": "stream",
     "text": [
      "Sorted numbers in ascending order: 2.0, 3.0, 4.0\n"
     ]
    }
   ],
   "source": [
    "# 28. Create a program that sorts three numbers in ascending order using conditional statements.\n",
    "\n",
    "# Input three numbers from the user\n",
    "try:\n",
    "    num1 = float(input(\"Enter the first number: \"))\n",
    "    num2 = float(input(\"Enter the second number: \"))\n",
    "    num3 = float(input(\"Enter the third number: \"))\n",
    "\n",
    "    # Compare the numbers and sort them in ascending order\n",
    "    if num1 <= num2 and num1 <= num3:\n",
    "        min_num = num1\n",
    "        if num2 <= num3:\n",
    "            mid_num = num2\n",
    "            max_num = num3\n",
    "        else:\n",
    "            mid_num = num3\n",
    "            max_num = num2\n",
    "    elif num2 <= num1 and num2 <= num3:\n",
    "        min_num = num2\n",
    "        if num1 <= num3:\n",
    "            mid_num = num1\n",
    "            max_num = num3\n",
    "        else:\n",
    "            mid_num = num3\n",
    "            max_num = num1\n",
    "    else:\n",
    "        min_num = num3\n",
    "        if num1 <= num2:\n",
    "            mid_num = num1\n",
    "            max_num = num2\n",
    "        else:\n",
    "            mid_num = num2\n",
    "            max_num = num1\n",
    "\n",
    "    # Display the numbers in ascending order\n",
    "    print(f\"Sorted numbers in ascending order: {min_num}, {mid_num}, {max_num}\")\n",
    "\n",
    "except ValueError:\n",
    "    print(\"Invalid input. Please enter valid numbers.\")"
   ]
  },
  {
   "cell_type": "code",
   "execution_count": 61,
   "metadata": {},
   "outputs": [
    {
     "name": "stdout",
     "output_type": "stream",
     "text": [
      "The roots are complex: (-1.25+1.5612494995995996j) and (-1.25-1.5612494995995996j)\n"
     ]
    }
   ],
   "source": [
    "# 29. Build a program that determines the roots of a quartic equation using numerical methods\n",
    "\n",
    "# Import the complex math module for handling complex roots\n",
    "import cmath\n",
    "\n",
    "# Input coefficients from the user\n",
    "a = float(input(\"Enter the coefficient 'a': \"))\n",
    "b = float(input(\"Enter the coefficient 'b': \"))\n",
    "c = float(input(\"Enter the coefficient 'c': \"))\n",
    "\n",
    "# Calculate the discriminant (the value under the square root)\n",
    "discriminant = b**2 - 4*a*c\n",
    "\n",
    "# Calculate the roots\n",
    "if discriminant > 0:\n",
    "    # Two real and distinct roots\n",
    "    root1 = (-b + (discriminant ** 0.5)) / (2*a)\n",
    "    root2 = (-b - (discriminant ** 0.5)) / (2*a)\n",
    "    print(f\"The roots are real and distinct: {root1} and {root2}\")\n",
    "elif discriminant == 0:\n",
    "    # One real root (a repeated root)\n",
    "    root1 = -b / (2*a)\n",
    "    print(f\"The root is real and repeated: {root1}\")\n",
    "else:\n",
    "    # Complex roots\n",
    "    real_part = -b / (2*a)\n",
    "    imaginary_part = cmath.sqrt(-discriminant) / (2*a)\n",
    "    root1 = complex(real_part, imaginary_part)\n",
    "    root2 = complex(real_part, -imaginary_part)\n",
    "    print(f\"The roots are complex: {root1} and {root2}\")\n"
   ]
  },
  {
   "cell_type": "code",
   "execution_count": 62,
   "metadata": {},
   "outputs": [
    {
     "name": "stdout",
     "output_type": "stream",
     "text": [
      "Your BMI is 20.00, which falls into the category of normal weight.\n"
     ]
    }
   ],
   "source": [
    "# 30. Write a program that calculates the BMI (Body Mass Index) and provides health recommendations based on the user's input.\n",
    "\n",
    "# Input the person's weight (in kilograms) and height (in meters)\n",
    "weight = float(input(\"Enter your weight in kilograms: \"))\n",
    "height = float(input(\"Enter your height in meters: \"))\n",
    "\n",
    "# Calculate BMI\n",
    "bmi = weight / (height ** 2)\n",
    "\n",
    "# Categorize BMI using elif statements\n",
    "if bmi < 18.5:\n",
    "    category = \"underweight\"\n",
    "elif 18.5 <= bmi < 24.9:\n",
    "    category = \"normal weight\"\n",
    "elif 24.9 <= bmi < 29.9:\n",
    "    category = \"overweight\"\n",
    "else:\n",
    "    category = \"obese\"\n",
    "\n",
    "# Print the BMI category\n",
    "print(f\"Your BMI is {bmi:.2f}, which falls into the category of {category}.\")"
   ]
  },
  {
   "cell_type": "markdown",
   "metadata": {},
   "source": [
    "## Challenge Level:"
   ]
  },
  {
   "cell_type": "code",
   "execution_count": 63,
   "metadata": {},
   "outputs": [
    {
     "name": "stdout",
     "output_type": "stream",
     "text": [
      "Random Password Generator\n",
      "Select complexity (separate by spaces):\n",
      "1. Lowercase letters\n",
      "2. Uppercase letters\n",
      "3. Digits\n",
      "4. Special characters\n",
      "Your generated password is: ,&[uke`\n"
     ]
    }
   ],
   "source": [
    "# 31. Create a program that validates a password based on complexity rules (length, characters, etc.).\n",
    "\n",
    "import random\n",
    "import string\n",
    "\n",
    "# Function to generate a random password\n",
    "def generate_password(length, complexity):\n",
    "    characters = \"\"\n",
    "    \n",
    "    if 'lowercase' in complexity:\n",
    "        characters += string.ascii_lowercase\n",
    "    if 'uppercase' in complexity:\n",
    "        characters += string.ascii_uppercase\n",
    "    if 'digits' in complexity:\n",
    "        characters += string.digits\n",
    "    if 'special' in complexity:\n",
    "        characters += string.punctuation\n",
    "\n",
    "    if not characters:\n",
    "        print(\"Please select at least one character type for complexity.\")\n",
    "        return None\n",
    "\n",
    "    password = ''.join(random.choice(characters) for _ in range(length))\n",
    "    return password\n",
    "\n",
    "# Main program\n",
    "print(\"Random Password Generator\")\n",
    "desired_length = int(input(\"Enter the desired password length: \"))\n",
    "\n",
    "print(\"Select complexity (separate by spaces):\")\n",
    "print(\"1. Lowercase letters\")\n",
    "print(\"2. Uppercase letters\")\n",
    "print(\"3. Digits\")\n",
    "print(\"4. Special characters\")\n",
    "\n",
    "complexity_input = input(\"Enter your choice(s) by number (e.g., '1 3 4'): \").split()\n",
    "complexity_options = {'1': 'lowercase', '2': 'uppercase', '3': 'digits', '4': 'special'}\n",
    "\n",
    "selected_complexity = [complexity_options[choice] for choice in complexity_input]\n",
    "\n",
    "password = generate_password(desired_length, selected_complexity)\n",
    "\n",
    "if password:\n",
    "    print(f\"Your generated password is: {password}\")"
   ]
  },
  {
   "cell_type": "code",
   "execution_count": 64,
   "metadata": {},
   "outputs": [
    {
     "name": "stdout",
     "output_type": "stream",
     "text": [
      "\n",
      "Enter the elements of the first matrix:\n",
      "\n",
      "Enter the elements of the second matrix:\n",
      "\n",
      "Matrix Addition Result:\n",
      "2.0 4.0 6.0\n",
      "8.0 10.0 12.0\n",
      "14.0 16.0 18.0\n",
      "\n",
      "Matrix Subtraction Result:\n",
      "0.0 0.0 0.0\n",
      "0.0 0.0 0.0\n",
      "0.0 0.0 0.0\n"
     ]
    }
   ],
   "source": [
    "# 32. Develop a program that performs matrix addition and subtraction based on user input.\n",
    "\n",
    "# Function to create an empty matrix of a given size\n",
    "def create_empty_matrix(rows, cols):\n",
    "    return [[0 for _ in range(cols)] for _ in range(rows)]\n",
    "\n",
    "# Function to input a matrix from the user\n",
    "def input_matrix(rows, cols):\n",
    "    matrix = create_empty_matrix(rows, cols)\n",
    "    for i in range(rows):\n",
    "        for j in range(cols):\n",
    "            matrix[i][j] = float(input(f\"Enter element at row {i + 1}, column {j + 1}: \"))\n",
    "    return matrix\n",
    "\n",
    "# Function to print a matrix\n",
    "def print_matrix(matrix):\n",
    "    for row in matrix:\n",
    "        print(\" \".join(str(element) for element in row))\n",
    "\n",
    "# Function to add two matrices\n",
    "def add_matrices(matrix1, matrix2):\n",
    "    rows = len(matrix1)\n",
    "    cols = len(matrix1[0])\n",
    "    result_matrix = create_empty_matrix(rows, cols)\n",
    "    for i in range(rows):\n",
    "        for j in range(cols):\n",
    "            result_matrix[i][j] = matrix1[i][j] + matrix2[i][j]\n",
    "    return result_matrix\n",
    "\n",
    "# Function to subtract two matrices\n",
    "def subtract_matrices(matrix1, matrix2):\n",
    "    rows = len(matrix1)\n",
    "    cols = len(matrix1[0])\n",
    "    result_matrix = create_empty_matrix(rows, cols)\n",
    "    for i in range(rows):\n",
    "        for j in range(cols):\n",
    "            result_matrix[i][j] = matrix1[i][j] - matrix2[i][j]\n",
    "    return result_matrix\n",
    "\n",
    "try:\n",
    "    # Input matrix dimensions\n",
    "    rows = int(input(\"Enter the number of rows: \"))\n",
    "    cols = int(input(\"Enter the number of columns: \"))\n",
    "\n",
    "    # Input the first matrix\n",
    "    print(\"\\nEnter the elements of the first matrix:\")\n",
    "    matrix1 = input_matrix(rows, cols)\n",
    "\n",
    "    # Input the second matrix\n",
    "    print(\"\\nEnter the elements of the second matrix:\")\n",
    "    matrix2 = input_matrix(rows, cols)\n",
    "\n",
    "    # Perform matrix addition and subtraction\n",
    "    sum_matrix = add_matrices(matrix1, matrix2)\n",
    "    difference_matrix = subtract_matrices(matrix1, matrix2)\n",
    "\n",
    "    # Print the results\n",
    "    print(\"\\nMatrix Addition Result:\")\n",
    "    print_matrix(sum_matrix)\n",
    "\n",
    "    print(\"\\nMatrix Subtraction Result:\")\n",
    "    print_matrix(difference_matrix)\n",
    "\n",
    "except ValueError:\n",
    "    print(\"Invalid input. Please enter valid numeric values for matrix elements.\")\n",
    "except IndexError:\n",
    "    print(\"Matrix dimensions do not match. Please enter matrices with the same dimensions.\")\n"
   ]
  },
  {
   "cell_type": "code",
   "execution_count": 65,
   "metadata": {},
   "outputs": [
    {
     "name": "stdout",
     "output_type": "stream",
     "text": [
      "The GCD of 23 and 45 is 1\n"
     ]
    }
   ],
   "source": [
    "# 33. Write a program that calculates the greatest common divisor (GCD) of two numbers using the Euclidean algorithm.\n",
    "\n",
    "# Function to calculate the GCD using the Euclidean algorithm\n",
    "def euclidean_gcd(a, b):\n",
    "    while b:\n",
    "        a, b = b, a % b\n",
    "    return a\n",
    "\n",
    "try:\n",
    "    # Input two numbers from the user\n",
    "    num1 = int(input(\"Enter the first number: \"))\n",
    "    num2 = int(input(\"Enter the second number: \"))\n",
    "\n",
    "    # Calculate the GCD using the Euclidean algorithm\n",
    "    gcd = euclidean_gcd(num1, num2)\n",
    "\n",
    "    # Print the result\n",
    "    print(f\"The GCD of {num1} and {num2} is {gcd}\")\n",
    "except ValueError:\n",
    "    print(\"Invalid input. Please enter valid numbers.\")\n"
   ]
  },
  {
   "cell_type": "code",
   "execution_count": 66,
   "metadata": {},
   "outputs": [
    {
     "name": "stdout",
     "output_type": "stream",
     "text": [
      "\n",
      "Enter the elements of the first matrix:\n",
      "\n",
      "Enter the elements of the second matrix:\n",
      "\n",
      "Matrix Multiplication Result:\n",
      "19.0 22.0\n",
      "43.0 50.0\n"
     ]
    }
   ],
   "source": [
    "# 34. Build a program that performs matrix multiplication using nested loops and conditional statements.\n",
    "\n",
    "# Function to create an empty matrix of a given size\n",
    "def create_empty_matrix(rows, cols):\n",
    "    return [[0 for _ in range(cols)] for _ in range(rows)]\n",
    "\n",
    "# Function to input a matrix from the user\n",
    "def input_matrix(rows, cols):\n",
    "    matrix = create_empty_matrix(rows, cols)\n",
    "    for i in range(rows):\n",
    "        for j in range(cols):\n",
    "            matrix[i][j] = float(input(f\"Enter element at row {i + 1}, column {j + 1}: \"))\n",
    "    return matrix\n",
    "\n",
    "# Function to print a matrix\n",
    "def print_matrix(matrix):\n",
    "    for row in matrix:\n",
    "        print(\" \".join(str(element) for element in row))\n",
    "\n",
    "# Function to perform matrix multiplication\n",
    "def multiply_matrices(matrix1, matrix2):\n",
    "    rows1 = len(matrix1)\n",
    "    cols1 = len(matrix1[0])\n",
    "    rows2 = len(matrix2)\n",
    "    cols2 = len(matrix2[0])\n",
    "\n",
    "    if cols1 != rows2:\n",
    "        return None  # Matrix multiplication is not possible\n",
    "\n",
    "    result_matrix = create_empty_matrix(rows1, cols2)\n",
    "\n",
    "    for i in range(rows1):\n",
    "        for j in range(cols2):\n",
    "            for k in range(cols1):\n",
    "                result_matrix[i][j] += matrix1[i][k] * matrix2[k][j]\n",
    "\n",
    "    return result_matrix\n",
    "\n",
    "try:\n",
    "    # Input dimensions for the first matrix\n",
    "    rows1 = int(input(\"Enter the number of rows for the first matrix: \"))\n",
    "    cols1 = int(input(\"Enter the number of columns for the first matrix: \"))\n",
    "\n",
    "    # Input dimensions for the second matrix\n",
    "    rows2 = int(input(\"Enter the number of rows for the second matrix: \"))\n",
    "    cols2 = int(input(\"Enter the number of columns for the second matrix: \"))\n",
    "\n",
    "    # Input the first matrix\n",
    "    print(\"\\nEnter the elements of the first matrix:\")\n",
    "    matrix1 = input_matrix(rows1, cols1)\n",
    "\n",
    "    # Input the second matrix\n",
    "    print(\"\\nEnter the elements of the second matrix:\")\n",
    "    matrix2 = input_matrix(rows2, cols2)\n",
    "\n",
    "    # Perform matrix multiplication\n",
    "    result_matrix = multiply_matrices(matrix1, matrix2)\n",
    "\n",
    "    # Print the result\n",
    "    if result_matrix:\n",
    "        print(\"\\nMatrix Multiplication Result:\")\n",
    "        print_matrix(result_matrix)\n",
    "    else:\n",
    "        print(\"\\nMatrix multiplication is not possible. The number of columns in the first matrix must be equal to the number of rows in the second matrix.\")\n",
    "\n",
    "except ValueError:\n",
    "    print(\"Invalid input. Please enter valid numeric values for matrix elements.\")\n"
   ]
  },
  {
   "cell_type": "code",
   "execution_count": 67,
   "metadata": {},
   "outputs": [
    {
     "name": "stdout",
     "output_type": "stream",
     "text": [
      "Welcome to Tic-Tac-Toe!\n",
      "  |   |  \n",
      "---------\n",
      "  |   |  \n",
      "---------\n",
      "  |   |  \n",
      "---------\n",
      "  |   |  \n",
      "---------\n",
      "O |   |  \n",
      "---------\n",
      "  |   |  \n",
      "---------\n",
      "  |   |  \n",
      "---------\n",
      "O | X |  \n",
      "---------\n",
      "  |   |  \n",
      "---------\n",
      "  | O |  \n",
      "---------\n",
      "O | X |  \n",
      "---------\n",
      "  |   |  \n",
      "---------\n",
      "Invalid move. Try again.\n",
      "O | O |  \n",
      "---------\n",
      "O | X |  \n",
      "---------\n",
      "  |   |  \n",
      "---------\n",
      "O | O | X\n",
      "---------\n",
      "O | X |  \n",
      "---------\n",
      "  |   |  \n",
      "---------\n",
      "O | O | X\n",
      "---------\n",
      "O | X |  \n",
      "---------\n",
      "O |   |  \n",
      "---------\n",
      "Computer wins! Better luck next time.\n"
     ]
    }
   ],
   "source": [
    "# 35. Create a program that simulates a basic text-based tic-tac-toe game against the computer.\n",
    "\n",
    "import random\n",
    "\n",
    "# Function to display the Tic-Tac-Toe board\n",
    "def display_board(board):\n",
    "    for row in board:\n",
    "        print(\" | \".join(row))\n",
    "        print(\"-\" * 9)\n",
    "\n",
    "# Function to check if a player has won\n",
    "def check_win(board, player):\n",
    "    for row in board:\n",
    "        if all(cell == player for cell in row):\n",
    "            return True\n",
    "    for col in range(3):\n",
    "        if all(board[row][col] == player for row in range(3)):\n",
    "            return True\n",
    "    if all(board[i][i] == player for i in range(3)) or all(board[i][2 - i] == player for i in range(3)):\n",
    "        return True\n",
    "    return False\n",
    "\n",
    "# Function to check if the board is full\n",
    "def is_board_full(board):\n",
    "    return all(cell != \" \" for row in board for cell in row)\n",
    "\n",
    "# Function to make the computer's move\n",
    "def computer_move(board):\n",
    "    empty_cells = [(row, col) for row in range(3) for col in range(3) if board[row][col] == \" \"]\n",
    "    return random.choice(empty_cells)\n",
    "\n",
    "# Main game loop\n",
    "def main():\n",
    "    board = [[\" \" for _ in range(3)] for _ in range(3)]\n",
    "    player = \"X\"\n",
    "    computer = \"O\"\n",
    "\n",
    "    print(\"Welcome to Tic-Tac-Toe!\")\n",
    "    display_board(board)\n",
    "\n",
    "    while True:\n",
    "        row, col = computer_move(board)\n",
    "        board[row][col] = computer\n",
    "        display_board(board)\n",
    "\n",
    "        if check_win(board, computer):\n",
    "            print(\"Computer wins! Better luck next time.\")\n",
    "            break\n",
    "        if is_board_full(board):\n",
    "            print(\"It's a tie!\")\n",
    "            break\n",
    "\n",
    "        row = int(input(\"Enter the row (1, 2, or 3): \")) - 1\n",
    "        col = int(input(\"Enter the column (1, 2, or 3): \")) - 1\n",
    "\n",
    "        if row < 0 or row >= 3 or col < 0 or col >= 3 or board[row][col] != \" \":\n",
    "            print(\"Invalid move. Try again.\")\n",
    "            continue\n",
    "\n",
    "        board[row][col] = player\n",
    "        display_board(board)\n",
    "\n",
    "        if check_win(board, player):\n",
    "            print(\"Congratulations! You win!\")\n",
    "            break\n",
    "        if is_board_full(board):\n",
    "            print(\"It's a tie!\")\n",
    "            break\n",
    "\n",
    "if __name__ == \"__main__\":\n",
    "    main()\n"
   ]
  },
  {
   "cell_type": "code",
   "execution_count": 68,
   "metadata": {},
   "outputs": [
    {
     "name": "stdout",
     "output_type": "stream",
     "text": [
      "Fibonacci numbers up to term 8:\n",
      "[0, 1, 1, 2, 3, 5, 8, 13]\n"
     ]
    }
   ],
   "source": [
    "# 36. Write a program that generates Fibonacci numbers up to a specified term using iterative methods.\n",
    "\n",
    "def generate_fibonacci(n):\n",
    "    fibonacci_sequence = [0, 1]  # Initialize with the first two Fibonacci numbers\n",
    "\n",
    "    while len(fibonacci_sequence) < n:\n",
    "        next_number = fibonacci_sequence[-1] + fibonacci_sequence[-2]\n",
    "        fibonacci_sequence.append(next_number)\n",
    "\n",
    "    return fibonacci_sequence\n",
    "\n",
    "try:\n",
    "    n = int(input(\"Enter the number of Fibonacci numbers to generate: \"))\n",
    "\n",
    "    if n <= 0:\n",
    "        print(\"Please enter a positive integer.\")\n",
    "    else:\n",
    "        fibonacci_numbers = generate_fibonacci(n)\n",
    "        print(f\"Fibonacci numbers up to term {n}:\")\n",
    "        print(fibonacci_numbers)\n",
    "except ValueError:\n",
    "    print(\"Invalid input. Please enter a valid positive integer.\")\n"
   ]
  },
  {
   "cell_type": "code",
   "execution_count": 69,
   "metadata": {},
   "outputs": [
    {
     "name": "stdout",
     "output_type": "stream",
     "text": [
      "The 9-th Fibonacci number is: 34\n"
     ]
    }
   ],
   "source": [
    "# 37. Develop a program that calculates the nth term of the Fibonacci sequence using memoization\n",
    "\n",
    "# Dictionary to store previously calculated Fibonacci numbers\n",
    "fibonacci_cache = {}\n",
    "\n",
    "# Function to calculate the nth Fibonacci number using memoization\n",
    "def fibonacci(n):\n",
    "    if n in fibonacci_cache:\n",
    "        return fibonacci_cache[n]\n",
    "\n",
    "    if n <= 1:\n",
    "        result = n\n",
    "    else:\n",
    "        result = fibonacci(n - 1) + fibonacci(n - 2)\n",
    "\n",
    "    # Store the result in the cache for future use\n",
    "    fibonacci_cache[n] = result\n",
    "    return result\n",
    "\n",
    "try:\n",
    "    n = int(input(\"Enter the value of n to calculate the nth Fibonacci number: \"))\n",
    "\n",
    "    if n < 0:\n",
    "        print(\"Please enter a non-negative integer.\")\n",
    "    else:\n",
    "        nth_fibonacci = fibonacci(n)\n",
    "        print(f\"The {n}-th Fibonacci number is: {nth_fibonacci}\")\n",
    "except ValueError:\n",
    "    print(\"Invalid input. Please enter a valid non-negative integer.\")\n"
   ]
  },
  {
   "cell_type": "code",
   "execution_count": 70,
   "metadata": {},
   "outputs": [
    {
     "name": "stdout",
     "output_type": "stream",
     "text": [
      "\n",
      "Calendar:\n",
      "     April 2020\n",
      "Mo Tu We Th Fr Sa Su\n",
      "       1  2  3  4  5\n",
      " 6  7  8  9 10 11 12\n",
      "13 14 15 16 17 18 19\n",
      "20 21 22 23 24 25 26\n",
      "27 28 29 30\n",
      "\n"
     ]
    }
   ],
   "source": [
    "# 38. Create a program that generates a calendar for a given month and year using conditional statements.\n",
    "\n",
    "import calendar\n",
    "\n",
    "try:\n",
    "    # Input year and month from the user\n",
    "    year = int(input(\"Enter the year: \"))\n",
    "    month = int(input(\"Enter the month (1-12): \"))\n",
    "\n",
    "    if 1 <= month <= 12:\n",
    "        # Generate the calendar for the specified month and year\n",
    "        cal = calendar.month(year, month)\n",
    "        print(\"\\nCalendar:\")\n",
    "        print(cal)\n",
    "    else:\n",
    "        print(\"Invalid month. Please enter a month between 1 and 12.\")\n",
    "except ValueError:\n",
    "    print(\"Invalid input. Please enter valid numeric values for year and month.\")\n"
   ]
  },
  {
   "cell_type": "code",
   "execution_count": null,
   "metadata": {},
   "outputs": [],
   "source": [
    "# 39. Build a program that simulates a basic text-based blackjack game against the computer\n",
    "\n",
    "import random\n",
    "\n",
    "# Initialize deck of cards\n",
    "suits = [\"Hearts\", \"Diamonds\", \"Clubs\", \"Spades\"]\n",
    "ranks = [\"Two\", \"Three\", \"Four\", \"Five\", \"Six\", \"Seven\", \"Eight\", \"Nine\", \"Ten\", \"Jack\", \"Queen\", \"King\", \"Ace\"]\n",
    "\n",
    "# Define card values\n",
    "card_values = {\n",
    "    \"Two\": 2, \"Three\": 3, \"Four\": 4, \"Five\": 5, \"Six\": 6, \"Seven\": 7,\n",
    "    \"Eight\": 8, \"Nine\": 9, \"Ten\": 10, \"Jack\": 10, \"Queen\": 10, \"King\": 10, \"Ace\": 11\n",
    "}\n",
    "\n",
    "# Function to create and shuffle a deck of cards\n",
    "def create_deck():\n",
    "    deck = [(rank, suit) for suit in suits for rank in ranks]\n",
    "    random.shuffle(deck)\n",
    "    return deck\n",
    "\n",
    "# Function to calculate the total value of a hand\n",
    "def calculate_hand_value(hand):\n",
    "    value = sum(card_values[card[0]] for card in hand)\n",
    "    num_aces = sum(1 for card in hand if card[0] == \"Ace\")\n",
    "\n",
    "    # Adjust for aces if necessary\n",
    "    while value > 21 and num_aces:\n",
    "        value -= 10\n",
    "        num_aces -= 1\n",
    "\n",
    "    return value\n",
    "\n",
    "# Function to display a player's hand\n",
    "def display_hand(player, hand):\n",
    "    print(f\"{player}'s Hand:\")\n",
    "    for card in hand:\n",
    "        print(f\"{card[0]} of {card[1]}\")\n",
    "    print(f\"Total Value: {calculate_hand_value(hand)}\")\n",
    "\n",
    "# Initialize the game\n",
    "deck = create_deck()\n",
    "player_hand = [deck.pop(), deck.pop()]\n",
    "computer_hand = [deck.pop(), deck.pop()]\n",
    "\n",
    "# Main game loop\n",
    "while True:\n",
    "    # Display player's hand and computer's visible card\n",
    "    display_hand(\"Player\", player_hand)\n",
    "    print(f\"\\nComputer's Visible Card:\\n{computer_hand[0][0]} of {computer_hand[0][1]}\")\n",
    "\n",
    "    # Check if player or computer has blackjack\n",
    "    if calculate_hand_value(player_hand) == 21:\n",
    "        print(\"Player has Blackjack! Player wins!\")\n",
    "        break\n",
    "    elif calculate_hand_value(computer_hand) == 21:\n",
    "        print(\"Computer has Blackjack! Computer wins!\")\n",
    "        break\n",
    "\n",
    "    # Ask the player for their move\n",
    "    while True:\n",
    "        player_move = input(\"\\nChoose your move (hit or stand): \").lower()\n",
    "        if player_move in [\"hit\", \"stand\"]:\n",
    "            break\n",
    "        else:\n",
    "            print(\"Invalid move. Please choose 'hit' or 'stand'.\")\n",
    "\n",
    "    if player_move == \"hit\":\n",
    "        player_hand.append(deck.pop())\n",
    "\n",
    "    # Check if player busts\n",
    "    if calculate_hand_value(player_hand) > 21:\n",
    "        display_hand(\"Player\", player_hand)\n",
    "        print(\"Player busts! Computer wins!\")\n",
    "        break\n",
    "\n",
    "    # Computer's turn\n",
    "    while calculate_hand_value(computer_hand) < 17:\n",
    "        computer_hand.append(deck.pop())\n",
    "\n",
    "    # Display final hands and determine the winner\n",
    "    display_hand(\"Player\", player_hand)\n",
    "    display_hand(\"Computer\", computer_hand)\n",
    "\n",
    "    if calculate_hand_value(computer_hand) > 21:\n",
    "        print(\"Computer busts! Player wins!\")\n",
    "    elif calculate_hand_value(player_hand) > calculate_hand_value(computer_hand):\n",
    "        print(\"Player wins!\")\n",
    "    elif calculate_hand_value(player_hand) < calculate_hand_value(computer_hand):\n",
    "        print(\"Computer wins!\")\n",
    "    else:\n",
    "        print(\"It's a tie!\")\n",
    "\n",
    "    break\n"
   ]
  },
  {
   "cell_type": "code",
   "execution_count": 71,
   "metadata": {},
   "outputs": [
    {
     "name": "stdout",
     "output_type": "stream",
     "text": [
      "Prime factors of 48: 2, 2, 2, 2, 3\n"
     ]
    }
   ],
   "source": [
    "# 40. Write a program that generates the prime factors of a given number using trial division\n",
    "\n",
    "def prime_factors(n):\n",
    "    factors = []\n",
    "    divisor = 2  # Start with the smallest prime number\n",
    "\n",
    "    while n > 1:\n",
    "        while n % divisor == 0:\n",
    "            factors.append(divisor)\n",
    "            n //= divisor\n",
    "        divisor += 1  # Move to the next number for trial division\n",
    "\n",
    "    return factors\n",
    "\n",
    "try:\n",
    "    num = int(input(\"Enter a positive integer to find its prime factors: \"))\n",
    "\n",
    "    if num <= 0:\n",
    "        print(\"Please enter a positive integer.\")\n",
    "    else:\n",
    "        factors = prime_factors(num)\n",
    "\n",
    "        if len(factors) == 0:\n",
    "            print(f\"{num} has no prime factors other than 1.\")\n",
    "        else:\n",
    "            print(f\"Prime factors of {num}: {', '.join(map(str, factors))}\")\n",
    "except ValueError:\n",
    "    print(\"Invalid input. Please enter a valid positive integer.\")\n"
   ]
  }
 ],
 "metadata": {
  "kernelspec": {
   "display_name": "Python 3",
   "language": "python",
   "name": "python3"
  },
  "language_info": {
   "codemirror_mode": {
    "name": "ipython",
    "version": 3
   },
   "file_extension": ".py",
   "mimetype": "text/x-python",
   "name": "python",
   "nbconvert_exporter": "python",
   "pygments_lexer": "ipython3",
   "version": "3.11.5"
  },
  "orig_nbformat": 4
 },
 "nbformat": 4,
 "nbformat_minor": 2
}
